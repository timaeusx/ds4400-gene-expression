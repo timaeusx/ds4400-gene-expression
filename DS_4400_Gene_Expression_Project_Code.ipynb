{
  "cells": [
    {
      "cell_type": "markdown",
      "source": [
        "# DS 4400 - Spring 2023\n",
        "### Classifying Acute Forms of Leukemia using Gene Expression Data\n",
        "##### Amanda Bell, Timothy Wang, Jasmine Wong"
      ],
      "metadata": {
        "id": "kb9ekcPFSSPA"
      }
    },
    {
      "cell_type": "markdown",
      "source": [
        "# Data Collection"
      ],
      "metadata": {
        "id": "Qu9SvhsbS8gO"
      }
    },
    {
      "cell_type": "code",
      "execution_count": null,
      "metadata": {
        "id": "-LZRwo11O4da"
      },
      "outputs": [],
      "source": [
        "import pandas as pd\n",
        "train_data_url = \"https://raw.githubusercontent.com/timaeusx/ds4400-gene-expression/main/data/data_set_ALL_AML_train.csv\"\n",
        "test_data_url = \"https://raw.githubusercontent.com/timaeusx/ds4400-gene-expression/main/data/data_set_ALL_AML_independent.csv\"\n",
        "labels_url = \"https://raw.githubusercontent.com/timaeusx/ds4400-gene-expression/main/data/actual.csv\"\n",
        "\n",
        "df_train = pd.read_csv(train_data_url)\n",
        "df_test = pd.read_csv(test_data_url)\n",
        "df_labels = pd.read_csv(labels_url)"
      ]
    },
    {
      "cell_type": "code",
      "execution_count": null,
      "metadata": {
        "colab": {
          "base_uri": "https://localhost:8080/",
          "height": 1000
        },
        "id": "QzTX42aoUTZo",
        "outputId": "baa3ff9e-ec6b-4c1d-800c-9300a00c5b4d"
      },
      "outputs": [
        {
          "output_type": "execute_result",
          "data": {
            "text/plain": [
              "                                       Gene Description Gene Accession Number  \\\n",
              "0                   AFFX-BioB-5_at (endogenous control)        AFFX-BioB-5_at   \n",
              "1                   AFFX-BioB-M_at (endogenous control)        AFFX-BioB-M_at   \n",
              "2                   AFFX-BioB-3_at (endogenous control)        AFFX-BioB-3_at   \n",
              "3                   AFFX-BioC-5_at (endogenous control)        AFFX-BioC-5_at   \n",
              "4                   AFFX-BioC-3_at (endogenous control)        AFFX-BioC-3_at   \n",
              "...                                                 ...                   ...   \n",
              "7124  PTGER3 Prostaglandin E receptor 3 (subtype EP3...             X83863_at   \n",
              "7125  HMG2 High-mobility group (nonhistone chromosom...             Z17240_at   \n",
              "7126      RB1 Retinoblastoma 1 (including osteosarcoma)           L49218_f_at   \n",
              "7127  GB DEF = Glycophorin Sta (type A) exons 3 and ...           M71243_f_at   \n",
              "7128                          GB DEF = mRNA (clone 1A7)           Z78285_f_at   \n",
              "\n",
              "        1 call    2 call.1     3 call.2    4 call.3  ...    29 call.33   30  \\\n",
              "0    -214    A -139      A   -76      A -135      A  ...    15       A -318   \n",
              "1    -153    A  -73      A   -49      A -114      A  ...  -114       A -192   \n",
              "2     -58    A   -1      A  -307      A  265      A  ...     2       A  -95   \n",
              "3      88    A  283      A   309      A   12      A  ...   193       A  312   \n",
              "4    -295    A -264      A  -376      A -419      A  ...   -51       A -139   \n",
              "...   ...  ...  ...    ...   ...    ...  ...    ...  ...   ...     ...  ...   \n",
              "7124  793    A  782      A  1138      A  627      A  ...   279       A  737   \n",
              "7125  329    A  295      A   777      P  170      A  ...    51       A  227   \n",
              "7126   36    A   11      A    41      A  -50      A  ...     6       A   -9   \n",
              "7127  191    A   76      A   228      A  126      A  ...  2484       P  371   \n",
              "7128  -37    A  -14      A   -41      A  -91      A  ...    -2       A  -31   \n",
              "\n",
              "     call.34   31 call.35    32 call.36    33 call.37  \n",
              "0          A  -32       A  -124       A  -135       A  \n",
              "1          A  -49       A   -79       A  -186       A  \n",
              "2          A   49       A   -37       A   -70       A  \n",
              "3          A  230       P   330       A   337       A  \n",
              "4          A -367       A  -188       A  -407       A  \n",
              "...      ...  ...     ...   ...     ...   ...     ...  \n",
              "7124       A  588       A  1170       A  2315       A  \n",
              "7125       A  361       A   284       A   250       A  \n",
              "7126       A  -26       A    39       A   -12       A  \n",
              "7127       A  133       A   298       A   790       P  \n",
              "7128       A  -32       A    -3       A   -10       A  \n",
              "\n",
              "[7129 rows x 78 columns]"
            ],
            "text/html": [
              "\n",
              "  <div id=\"df-269bf265-c415-43c4-9a2f-5bb3d57c485d\">\n",
              "    <div class=\"colab-df-container\">\n",
              "      <div>\n",
              "<style scoped>\n",
              "    .dataframe tbody tr th:only-of-type {\n",
              "        vertical-align: middle;\n",
              "    }\n",
              "\n",
              "    .dataframe tbody tr th {\n",
              "        vertical-align: top;\n",
              "    }\n",
              "\n",
              "    .dataframe thead th {\n",
              "        text-align: right;\n",
              "    }\n",
              "</style>\n",
              "<table border=\"1\" class=\"dataframe\">\n",
              "  <thead>\n",
              "    <tr style=\"text-align: right;\">\n",
              "      <th></th>\n",
              "      <th>Gene Description</th>\n",
              "      <th>Gene Accession Number</th>\n",
              "      <th>1</th>\n",
              "      <th>call</th>\n",
              "      <th>2</th>\n",
              "      <th>call.1</th>\n",
              "      <th>3</th>\n",
              "      <th>call.2</th>\n",
              "      <th>4</th>\n",
              "      <th>call.3</th>\n",
              "      <th>...</th>\n",
              "      <th>29</th>\n",
              "      <th>call.33</th>\n",
              "      <th>30</th>\n",
              "      <th>call.34</th>\n",
              "      <th>31</th>\n",
              "      <th>call.35</th>\n",
              "      <th>32</th>\n",
              "      <th>call.36</th>\n",
              "      <th>33</th>\n",
              "      <th>call.37</th>\n",
              "    </tr>\n",
              "  </thead>\n",
              "  <tbody>\n",
              "    <tr>\n",
              "      <th>0</th>\n",
              "      <td>AFFX-BioB-5_at (endogenous control)</td>\n",
              "      <td>AFFX-BioB-5_at</td>\n",
              "      <td>-214</td>\n",
              "      <td>A</td>\n",
              "      <td>-139</td>\n",
              "      <td>A</td>\n",
              "      <td>-76</td>\n",
              "      <td>A</td>\n",
              "      <td>-135</td>\n",
              "      <td>A</td>\n",
              "      <td>...</td>\n",
              "      <td>15</td>\n",
              "      <td>A</td>\n",
              "      <td>-318</td>\n",
              "      <td>A</td>\n",
              "      <td>-32</td>\n",
              "      <td>A</td>\n",
              "      <td>-124</td>\n",
              "      <td>A</td>\n",
              "      <td>-135</td>\n",
              "      <td>A</td>\n",
              "    </tr>\n",
              "    <tr>\n",
              "      <th>1</th>\n",
              "      <td>AFFX-BioB-M_at (endogenous control)</td>\n",
              "      <td>AFFX-BioB-M_at</td>\n",
              "      <td>-153</td>\n",
              "      <td>A</td>\n",
              "      <td>-73</td>\n",
              "      <td>A</td>\n",
              "      <td>-49</td>\n",
              "      <td>A</td>\n",
              "      <td>-114</td>\n",
              "      <td>A</td>\n",
              "      <td>...</td>\n",
              "      <td>-114</td>\n",
              "      <td>A</td>\n",
              "      <td>-192</td>\n",
              "      <td>A</td>\n",
              "      <td>-49</td>\n",
              "      <td>A</td>\n",
              "      <td>-79</td>\n",
              "      <td>A</td>\n",
              "      <td>-186</td>\n",
              "      <td>A</td>\n",
              "    </tr>\n",
              "    <tr>\n",
              "      <th>2</th>\n",
              "      <td>AFFX-BioB-3_at (endogenous control)</td>\n",
              "      <td>AFFX-BioB-3_at</td>\n",
              "      <td>-58</td>\n",
              "      <td>A</td>\n",
              "      <td>-1</td>\n",
              "      <td>A</td>\n",
              "      <td>-307</td>\n",
              "      <td>A</td>\n",
              "      <td>265</td>\n",
              "      <td>A</td>\n",
              "      <td>...</td>\n",
              "      <td>2</td>\n",
              "      <td>A</td>\n",
              "      <td>-95</td>\n",
              "      <td>A</td>\n",
              "      <td>49</td>\n",
              "      <td>A</td>\n",
              "      <td>-37</td>\n",
              "      <td>A</td>\n",
              "      <td>-70</td>\n",
              "      <td>A</td>\n",
              "    </tr>\n",
              "    <tr>\n",
              "      <th>3</th>\n",
              "      <td>AFFX-BioC-5_at (endogenous control)</td>\n",
              "      <td>AFFX-BioC-5_at</td>\n",
              "      <td>88</td>\n",
              "      <td>A</td>\n",
              "      <td>283</td>\n",
              "      <td>A</td>\n",
              "      <td>309</td>\n",
              "      <td>A</td>\n",
              "      <td>12</td>\n",
              "      <td>A</td>\n",
              "      <td>...</td>\n",
              "      <td>193</td>\n",
              "      <td>A</td>\n",
              "      <td>312</td>\n",
              "      <td>A</td>\n",
              "      <td>230</td>\n",
              "      <td>P</td>\n",
              "      <td>330</td>\n",
              "      <td>A</td>\n",
              "      <td>337</td>\n",
              "      <td>A</td>\n",
              "    </tr>\n",
              "    <tr>\n",
              "      <th>4</th>\n",
              "      <td>AFFX-BioC-3_at (endogenous control)</td>\n",
              "      <td>AFFX-BioC-3_at</td>\n",
              "      <td>-295</td>\n",
              "      <td>A</td>\n",
              "      <td>-264</td>\n",
              "      <td>A</td>\n",
              "      <td>-376</td>\n",
              "      <td>A</td>\n",
              "      <td>-419</td>\n",
              "      <td>A</td>\n",
              "      <td>...</td>\n",
              "      <td>-51</td>\n",
              "      <td>A</td>\n",
              "      <td>-139</td>\n",
              "      <td>A</td>\n",
              "      <td>-367</td>\n",
              "      <td>A</td>\n",
              "      <td>-188</td>\n",
              "      <td>A</td>\n",
              "      <td>-407</td>\n",
              "      <td>A</td>\n",
              "    </tr>\n",
              "    <tr>\n",
              "      <th>...</th>\n",
              "      <td>...</td>\n",
              "      <td>...</td>\n",
              "      <td>...</td>\n",
              "      <td>...</td>\n",
              "      <td>...</td>\n",
              "      <td>...</td>\n",
              "      <td>...</td>\n",
              "      <td>...</td>\n",
              "      <td>...</td>\n",
              "      <td>...</td>\n",
              "      <td>...</td>\n",
              "      <td>...</td>\n",
              "      <td>...</td>\n",
              "      <td>...</td>\n",
              "      <td>...</td>\n",
              "      <td>...</td>\n",
              "      <td>...</td>\n",
              "      <td>...</td>\n",
              "      <td>...</td>\n",
              "      <td>...</td>\n",
              "      <td>...</td>\n",
              "    </tr>\n",
              "    <tr>\n",
              "      <th>7124</th>\n",
              "      <td>PTGER3 Prostaglandin E receptor 3 (subtype EP3...</td>\n",
              "      <td>X83863_at</td>\n",
              "      <td>793</td>\n",
              "      <td>A</td>\n",
              "      <td>782</td>\n",
              "      <td>A</td>\n",
              "      <td>1138</td>\n",
              "      <td>A</td>\n",
              "      <td>627</td>\n",
              "      <td>A</td>\n",
              "      <td>...</td>\n",
              "      <td>279</td>\n",
              "      <td>A</td>\n",
              "      <td>737</td>\n",
              "      <td>A</td>\n",
              "      <td>588</td>\n",
              "      <td>A</td>\n",
              "      <td>1170</td>\n",
              "      <td>A</td>\n",
              "      <td>2315</td>\n",
              "      <td>A</td>\n",
              "    </tr>\n",
              "    <tr>\n",
              "      <th>7125</th>\n",
              "      <td>HMG2 High-mobility group (nonhistone chromosom...</td>\n",
              "      <td>Z17240_at</td>\n",
              "      <td>329</td>\n",
              "      <td>A</td>\n",
              "      <td>295</td>\n",
              "      <td>A</td>\n",
              "      <td>777</td>\n",
              "      <td>P</td>\n",
              "      <td>170</td>\n",
              "      <td>A</td>\n",
              "      <td>...</td>\n",
              "      <td>51</td>\n",
              "      <td>A</td>\n",
              "      <td>227</td>\n",
              "      <td>A</td>\n",
              "      <td>361</td>\n",
              "      <td>A</td>\n",
              "      <td>284</td>\n",
              "      <td>A</td>\n",
              "      <td>250</td>\n",
              "      <td>A</td>\n",
              "    </tr>\n",
              "    <tr>\n",
              "      <th>7126</th>\n",
              "      <td>RB1 Retinoblastoma 1 (including osteosarcoma)</td>\n",
              "      <td>L49218_f_at</td>\n",
              "      <td>36</td>\n",
              "      <td>A</td>\n",
              "      <td>11</td>\n",
              "      <td>A</td>\n",
              "      <td>41</td>\n",
              "      <td>A</td>\n",
              "      <td>-50</td>\n",
              "      <td>A</td>\n",
              "      <td>...</td>\n",
              "      <td>6</td>\n",
              "      <td>A</td>\n",
              "      <td>-9</td>\n",
              "      <td>A</td>\n",
              "      <td>-26</td>\n",
              "      <td>A</td>\n",
              "      <td>39</td>\n",
              "      <td>A</td>\n",
              "      <td>-12</td>\n",
              "      <td>A</td>\n",
              "    </tr>\n",
              "    <tr>\n",
              "      <th>7127</th>\n",
              "      <td>GB DEF = Glycophorin Sta (type A) exons 3 and ...</td>\n",
              "      <td>M71243_f_at</td>\n",
              "      <td>191</td>\n",
              "      <td>A</td>\n",
              "      <td>76</td>\n",
              "      <td>A</td>\n",
              "      <td>228</td>\n",
              "      <td>A</td>\n",
              "      <td>126</td>\n",
              "      <td>A</td>\n",
              "      <td>...</td>\n",
              "      <td>2484</td>\n",
              "      <td>P</td>\n",
              "      <td>371</td>\n",
              "      <td>A</td>\n",
              "      <td>133</td>\n",
              "      <td>A</td>\n",
              "      <td>298</td>\n",
              "      <td>A</td>\n",
              "      <td>790</td>\n",
              "      <td>P</td>\n",
              "    </tr>\n",
              "    <tr>\n",
              "      <th>7128</th>\n",
              "      <td>GB DEF = mRNA (clone 1A7)</td>\n",
              "      <td>Z78285_f_at</td>\n",
              "      <td>-37</td>\n",
              "      <td>A</td>\n",
              "      <td>-14</td>\n",
              "      <td>A</td>\n",
              "      <td>-41</td>\n",
              "      <td>A</td>\n",
              "      <td>-91</td>\n",
              "      <td>A</td>\n",
              "      <td>...</td>\n",
              "      <td>-2</td>\n",
              "      <td>A</td>\n",
              "      <td>-31</td>\n",
              "      <td>A</td>\n",
              "      <td>-32</td>\n",
              "      <td>A</td>\n",
              "      <td>-3</td>\n",
              "      <td>A</td>\n",
              "      <td>-10</td>\n",
              "      <td>A</td>\n",
              "    </tr>\n",
              "  </tbody>\n",
              "</table>\n",
              "<p>7129 rows × 78 columns</p>\n",
              "</div>\n",
              "      <button class=\"colab-df-convert\" onclick=\"convertToInteractive('df-269bf265-c415-43c4-9a2f-5bb3d57c485d')\"\n",
              "              title=\"Convert this dataframe to an interactive table.\"\n",
              "              style=\"display:none;\">\n",
              "        \n",
              "  <svg xmlns=\"http://www.w3.org/2000/svg\" height=\"24px\"viewBox=\"0 0 24 24\"\n",
              "       width=\"24px\">\n",
              "    <path d=\"M0 0h24v24H0V0z\" fill=\"none\"/>\n",
              "    <path d=\"M18.56 5.44l.94 2.06.94-2.06 2.06-.94-2.06-.94-.94-2.06-.94 2.06-2.06.94zm-11 1L8.5 8.5l.94-2.06 2.06-.94-2.06-.94L8.5 2.5l-.94 2.06-2.06.94zm10 10l.94 2.06.94-2.06 2.06-.94-2.06-.94-.94-2.06-.94 2.06-2.06.94z\"/><path d=\"M17.41 7.96l-1.37-1.37c-.4-.4-.92-.59-1.43-.59-.52 0-1.04.2-1.43.59L10.3 9.45l-7.72 7.72c-.78.78-.78 2.05 0 2.83L4 21.41c.39.39.9.59 1.41.59.51 0 1.02-.2 1.41-.59l7.78-7.78 2.81-2.81c.8-.78.8-2.07 0-2.86zM5.41 20L4 18.59l7.72-7.72 1.47 1.35L5.41 20z\"/>\n",
              "  </svg>\n",
              "      </button>\n",
              "      \n",
              "  <style>\n",
              "    .colab-df-container {\n",
              "      display:flex;\n",
              "      flex-wrap:wrap;\n",
              "      gap: 12px;\n",
              "    }\n",
              "\n",
              "    .colab-df-convert {\n",
              "      background-color: #E8F0FE;\n",
              "      border: none;\n",
              "      border-radius: 50%;\n",
              "      cursor: pointer;\n",
              "      display: none;\n",
              "      fill: #1967D2;\n",
              "      height: 32px;\n",
              "      padding: 0 0 0 0;\n",
              "      width: 32px;\n",
              "    }\n",
              "\n",
              "    .colab-df-convert:hover {\n",
              "      background-color: #E2EBFA;\n",
              "      box-shadow: 0px 1px 2px rgba(60, 64, 67, 0.3), 0px 1px 3px 1px rgba(60, 64, 67, 0.15);\n",
              "      fill: #174EA6;\n",
              "    }\n",
              "\n",
              "    [theme=dark] .colab-df-convert {\n",
              "      background-color: #3B4455;\n",
              "      fill: #D2E3FC;\n",
              "    }\n",
              "\n",
              "    [theme=dark] .colab-df-convert:hover {\n",
              "      background-color: #434B5C;\n",
              "      box-shadow: 0px 1px 3px 1px rgba(0, 0, 0, 0.15);\n",
              "      filter: drop-shadow(0px 1px 2px rgba(0, 0, 0, 0.3));\n",
              "      fill: #FFFFFF;\n",
              "    }\n",
              "  </style>\n",
              "\n",
              "      <script>\n",
              "        const buttonEl =\n",
              "          document.querySelector('#df-269bf265-c415-43c4-9a2f-5bb3d57c485d button.colab-df-convert');\n",
              "        buttonEl.style.display =\n",
              "          google.colab.kernel.accessAllowed ? 'block' : 'none';\n",
              "\n",
              "        async function convertToInteractive(key) {\n",
              "          const element = document.querySelector('#df-269bf265-c415-43c4-9a2f-5bb3d57c485d');\n",
              "          const dataTable =\n",
              "            await google.colab.kernel.invokeFunction('convertToInteractive',\n",
              "                                                     [key], {});\n",
              "          if (!dataTable) return;\n",
              "\n",
              "          const docLinkHtml = 'Like what you see? Visit the ' +\n",
              "            '<a target=\"_blank\" href=https://colab.research.google.com/notebooks/data_table.ipynb>data table notebook</a>'\n",
              "            + ' to learn more about interactive tables.';\n",
              "          element.innerHTML = '';\n",
              "          dataTable['output_type'] = 'display_data';\n",
              "          await google.colab.output.renderOutput(dataTable, element);\n",
              "          const docLink = document.createElement('div');\n",
              "          docLink.innerHTML = docLinkHtml;\n",
              "          element.appendChild(docLink);\n",
              "        }\n",
              "      </script>\n",
              "    </div>\n",
              "  </div>\n",
              "  "
            ]
          },
          "metadata": {},
          "execution_count": 2
        }
      ],
      "source": [
        "df_train"
      ]
    },
    {
      "cell_type": "code",
      "execution_count": null,
      "metadata": {
        "colab": {
          "base_uri": "https://localhost:8080/",
          "height": 1000
        },
        "id": "1KX_OikUV5c_",
        "outputId": "4d1b10d8-5522-4ba8-8f73-8ba4297e8a6a"
      },
      "outputs": [
        {
          "output_type": "execute_result",
          "data": {
            "text/plain": [
              "                                       Gene Description Gene Accession Number  \\\n",
              "0                   AFFX-BioB-5_at (endogenous control)        AFFX-BioB-5_at   \n",
              "1                   AFFX-BioB-M_at (endogenous control)        AFFX-BioB-M_at   \n",
              "2                   AFFX-BioB-3_at (endogenous control)        AFFX-BioB-3_at   \n",
              "3                   AFFX-BioC-5_at (endogenous control)        AFFX-BioC-5_at   \n",
              "4                   AFFX-BioC-3_at (endogenous control)        AFFX-BioC-3_at   \n",
              "...                                                 ...                   ...   \n",
              "7124  PTGER3 Prostaglandin E receptor 3 (subtype EP3...             X83863_at   \n",
              "7125  HMG2 High-mobility group (nonhistone chromosom...             Z17240_at   \n",
              "7126      RB1 Retinoblastoma 1 (including osteosarcoma)           L49218_f_at   \n",
              "7127  GB DEF = Glycophorin Sta (type A) exons 3 and ...           M71243_f_at   \n",
              "7128                          GB DEF = mRNA (clone 1A7)           Z78285_f_at   \n",
              "\n",
              "        39 call   40 call.1    42 call.2   47 call.3  ...   65 call.29    66  \\\n",
              "0     -342    A  -87      A    22      A -243      A  ...  -62       A   -58   \n",
              "1     -200    A -248      A  -153      A -218      A  ... -198       A  -217   \n",
              "2       41    A  262      A    17      A -163      A  ...   -5       A    63   \n",
              "3      328    A  295      A   276      A  182      A  ...  141       A    95   \n",
              "4     -224    A -226      A  -211      A -289      A  ... -256       A  -191   \n",
              "...    ...  ...  ...    ...   ...    ...  ...    ...  ...  ...     ...   ...   \n",
              "7124  1074    A   67      A   893      P  722      A  ...  707       A   423   \n",
              "7125   475    A  263      A   297      A  170      A  ...  354       A    41   \n",
              "7126    48    A  -33      A     6      A    0      A  ...  -22       A     0   \n",
              "7127   168    A  -33      A  1971      P  510      P  ...  260       A  1777   \n",
              "7128   -70    A  -21      A   -42      A  -73      A  ...    5       A   -49   \n",
              "\n",
              "     call.30   63 call.31   64 call.32   62 call.33  \n",
              "0          A -161       A  -48       A -176       A  \n",
              "1          A -215       A -531       A -284       A  \n",
              "2          A  -46       A -124       A  -81       A  \n",
              "3          A  146       A  431       A    9       A  \n",
              "4          A -172       A -496       A -294       A  \n",
              "...      ...  ...     ...  ...     ...  ...     ...  \n",
              "7124       A  809       A  466       A  551       A  \n",
              "7125       A  445       A  349       A  194       A  \n",
              "7126       A   -2       A    0       A   20       A  \n",
              "7127       P  210       A  284       A  379       A  \n",
              "7128       A   16       A  -73       A  -60       A  \n",
              "\n",
              "[7129 rows x 70 columns]"
            ],
            "text/html": [
              "\n",
              "  <div id=\"df-a375be30-6b89-4951-981f-7acb805eca03\">\n",
              "    <div class=\"colab-df-container\">\n",
              "      <div>\n",
              "<style scoped>\n",
              "    .dataframe tbody tr th:only-of-type {\n",
              "        vertical-align: middle;\n",
              "    }\n",
              "\n",
              "    .dataframe tbody tr th {\n",
              "        vertical-align: top;\n",
              "    }\n",
              "\n",
              "    .dataframe thead th {\n",
              "        text-align: right;\n",
              "    }\n",
              "</style>\n",
              "<table border=\"1\" class=\"dataframe\">\n",
              "  <thead>\n",
              "    <tr style=\"text-align: right;\">\n",
              "      <th></th>\n",
              "      <th>Gene Description</th>\n",
              "      <th>Gene Accession Number</th>\n",
              "      <th>39</th>\n",
              "      <th>call</th>\n",
              "      <th>40</th>\n",
              "      <th>call.1</th>\n",
              "      <th>42</th>\n",
              "      <th>call.2</th>\n",
              "      <th>47</th>\n",
              "      <th>call.3</th>\n",
              "      <th>...</th>\n",
              "      <th>65</th>\n",
              "      <th>call.29</th>\n",
              "      <th>66</th>\n",
              "      <th>call.30</th>\n",
              "      <th>63</th>\n",
              "      <th>call.31</th>\n",
              "      <th>64</th>\n",
              "      <th>call.32</th>\n",
              "      <th>62</th>\n",
              "      <th>call.33</th>\n",
              "    </tr>\n",
              "  </thead>\n",
              "  <tbody>\n",
              "    <tr>\n",
              "      <th>0</th>\n",
              "      <td>AFFX-BioB-5_at (endogenous control)</td>\n",
              "      <td>AFFX-BioB-5_at</td>\n",
              "      <td>-342</td>\n",
              "      <td>A</td>\n",
              "      <td>-87</td>\n",
              "      <td>A</td>\n",
              "      <td>22</td>\n",
              "      <td>A</td>\n",
              "      <td>-243</td>\n",
              "      <td>A</td>\n",
              "      <td>...</td>\n",
              "      <td>-62</td>\n",
              "      <td>A</td>\n",
              "      <td>-58</td>\n",
              "      <td>A</td>\n",
              "      <td>-161</td>\n",
              "      <td>A</td>\n",
              "      <td>-48</td>\n",
              "      <td>A</td>\n",
              "      <td>-176</td>\n",
              "      <td>A</td>\n",
              "    </tr>\n",
              "    <tr>\n",
              "      <th>1</th>\n",
              "      <td>AFFX-BioB-M_at (endogenous control)</td>\n",
              "      <td>AFFX-BioB-M_at</td>\n",
              "      <td>-200</td>\n",
              "      <td>A</td>\n",
              "      <td>-248</td>\n",
              "      <td>A</td>\n",
              "      <td>-153</td>\n",
              "      <td>A</td>\n",
              "      <td>-218</td>\n",
              "      <td>A</td>\n",
              "      <td>...</td>\n",
              "      <td>-198</td>\n",
              "      <td>A</td>\n",
              "      <td>-217</td>\n",
              "      <td>A</td>\n",
              "      <td>-215</td>\n",
              "      <td>A</td>\n",
              "      <td>-531</td>\n",
              "      <td>A</td>\n",
              "      <td>-284</td>\n",
              "      <td>A</td>\n",
              "    </tr>\n",
              "    <tr>\n",
              "      <th>2</th>\n",
              "      <td>AFFX-BioB-3_at (endogenous control)</td>\n",
              "      <td>AFFX-BioB-3_at</td>\n",
              "      <td>41</td>\n",
              "      <td>A</td>\n",
              "      <td>262</td>\n",
              "      <td>A</td>\n",
              "      <td>17</td>\n",
              "      <td>A</td>\n",
              "      <td>-163</td>\n",
              "      <td>A</td>\n",
              "      <td>...</td>\n",
              "      <td>-5</td>\n",
              "      <td>A</td>\n",
              "      <td>63</td>\n",
              "      <td>A</td>\n",
              "      <td>-46</td>\n",
              "      <td>A</td>\n",
              "      <td>-124</td>\n",
              "      <td>A</td>\n",
              "      <td>-81</td>\n",
              "      <td>A</td>\n",
              "    </tr>\n",
              "    <tr>\n",
              "      <th>3</th>\n",
              "      <td>AFFX-BioC-5_at (endogenous control)</td>\n",
              "      <td>AFFX-BioC-5_at</td>\n",
              "      <td>328</td>\n",
              "      <td>A</td>\n",
              "      <td>295</td>\n",
              "      <td>A</td>\n",
              "      <td>276</td>\n",
              "      <td>A</td>\n",
              "      <td>182</td>\n",
              "      <td>A</td>\n",
              "      <td>...</td>\n",
              "      <td>141</td>\n",
              "      <td>A</td>\n",
              "      <td>95</td>\n",
              "      <td>A</td>\n",
              "      <td>146</td>\n",
              "      <td>A</td>\n",
              "      <td>431</td>\n",
              "      <td>A</td>\n",
              "      <td>9</td>\n",
              "      <td>A</td>\n",
              "    </tr>\n",
              "    <tr>\n",
              "      <th>4</th>\n",
              "      <td>AFFX-BioC-3_at (endogenous control)</td>\n",
              "      <td>AFFX-BioC-3_at</td>\n",
              "      <td>-224</td>\n",
              "      <td>A</td>\n",
              "      <td>-226</td>\n",
              "      <td>A</td>\n",
              "      <td>-211</td>\n",
              "      <td>A</td>\n",
              "      <td>-289</td>\n",
              "      <td>A</td>\n",
              "      <td>...</td>\n",
              "      <td>-256</td>\n",
              "      <td>A</td>\n",
              "      <td>-191</td>\n",
              "      <td>A</td>\n",
              "      <td>-172</td>\n",
              "      <td>A</td>\n",
              "      <td>-496</td>\n",
              "      <td>A</td>\n",
              "      <td>-294</td>\n",
              "      <td>A</td>\n",
              "    </tr>\n",
              "    <tr>\n",
              "      <th>...</th>\n",
              "      <td>...</td>\n",
              "      <td>...</td>\n",
              "      <td>...</td>\n",
              "      <td>...</td>\n",
              "      <td>...</td>\n",
              "      <td>...</td>\n",
              "      <td>...</td>\n",
              "      <td>...</td>\n",
              "      <td>...</td>\n",
              "      <td>...</td>\n",
              "      <td>...</td>\n",
              "      <td>...</td>\n",
              "      <td>...</td>\n",
              "      <td>...</td>\n",
              "      <td>...</td>\n",
              "      <td>...</td>\n",
              "      <td>...</td>\n",
              "      <td>...</td>\n",
              "      <td>...</td>\n",
              "      <td>...</td>\n",
              "      <td>...</td>\n",
              "    </tr>\n",
              "    <tr>\n",
              "      <th>7124</th>\n",
              "      <td>PTGER3 Prostaglandin E receptor 3 (subtype EP3...</td>\n",
              "      <td>X83863_at</td>\n",
              "      <td>1074</td>\n",
              "      <td>A</td>\n",
              "      <td>67</td>\n",
              "      <td>A</td>\n",
              "      <td>893</td>\n",
              "      <td>P</td>\n",
              "      <td>722</td>\n",
              "      <td>A</td>\n",
              "      <td>...</td>\n",
              "      <td>707</td>\n",
              "      <td>A</td>\n",
              "      <td>423</td>\n",
              "      <td>A</td>\n",
              "      <td>809</td>\n",
              "      <td>A</td>\n",
              "      <td>466</td>\n",
              "      <td>A</td>\n",
              "      <td>551</td>\n",
              "      <td>A</td>\n",
              "    </tr>\n",
              "    <tr>\n",
              "      <th>7125</th>\n",
              "      <td>HMG2 High-mobility group (nonhistone chromosom...</td>\n",
              "      <td>Z17240_at</td>\n",
              "      <td>475</td>\n",
              "      <td>A</td>\n",
              "      <td>263</td>\n",
              "      <td>A</td>\n",
              "      <td>297</td>\n",
              "      <td>A</td>\n",
              "      <td>170</td>\n",
              "      <td>A</td>\n",
              "      <td>...</td>\n",
              "      <td>354</td>\n",
              "      <td>A</td>\n",
              "      <td>41</td>\n",
              "      <td>A</td>\n",
              "      <td>445</td>\n",
              "      <td>A</td>\n",
              "      <td>349</td>\n",
              "      <td>A</td>\n",
              "      <td>194</td>\n",
              "      <td>A</td>\n",
              "    </tr>\n",
              "    <tr>\n",
              "      <th>7126</th>\n",
              "      <td>RB1 Retinoblastoma 1 (including osteosarcoma)</td>\n",
              "      <td>L49218_f_at</td>\n",
              "      <td>48</td>\n",
              "      <td>A</td>\n",
              "      <td>-33</td>\n",
              "      <td>A</td>\n",
              "      <td>6</td>\n",
              "      <td>A</td>\n",
              "      <td>0</td>\n",
              "      <td>A</td>\n",
              "      <td>...</td>\n",
              "      <td>-22</td>\n",
              "      <td>A</td>\n",
              "      <td>0</td>\n",
              "      <td>A</td>\n",
              "      <td>-2</td>\n",
              "      <td>A</td>\n",
              "      <td>0</td>\n",
              "      <td>A</td>\n",
              "      <td>20</td>\n",
              "      <td>A</td>\n",
              "    </tr>\n",
              "    <tr>\n",
              "      <th>7127</th>\n",
              "      <td>GB DEF = Glycophorin Sta (type A) exons 3 and ...</td>\n",
              "      <td>M71243_f_at</td>\n",
              "      <td>168</td>\n",
              "      <td>A</td>\n",
              "      <td>-33</td>\n",
              "      <td>A</td>\n",
              "      <td>1971</td>\n",
              "      <td>P</td>\n",
              "      <td>510</td>\n",
              "      <td>P</td>\n",
              "      <td>...</td>\n",
              "      <td>260</td>\n",
              "      <td>A</td>\n",
              "      <td>1777</td>\n",
              "      <td>P</td>\n",
              "      <td>210</td>\n",
              "      <td>A</td>\n",
              "      <td>284</td>\n",
              "      <td>A</td>\n",
              "      <td>379</td>\n",
              "      <td>A</td>\n",
              "    </tr>\n",
              "    <tr>\n",
              "      <th>7128</th>\n",
              "      <td>GB DEF = mRNA (clone 1A7)</td>\n",
              "      <td>Z78285_f_at</td>\n",
              "      <td>-70</td>\n",
              "      <td>A</td>\n",
              "      <td>-21</td>\n",
              "      <td>A</td>\n",
              "      <td>-42</td>\n",
              "      <td>A</td>\n",
              "      <td>-73</td>\n",
              "      <td>A</td>\n",
              "      <td>...</td>\n",
              "      <td>5</td>\n",
              "      <td>A</td>\n",
              "      <td>-49</td>\n",
              "      <td>A</td>\n",
              "      <td>16</td>\n",
              "      <td>A</td>\n",
              "      <td>-73</td>\n",
              "      <td>A</td>\n",
              "      <td>-60</td>\n",
              "      <td>A</td>\n",
              "    </tr>\n",
              "  </tbody>\n",
              "</table>\n",
              "<p>7129 rows × 70 columns</p>\n",
              "</div>\n",
              "      <button class=\"colab-df-convert\" onclick=\"convertToInteractive('df-a375be30-6b89-4951-981f-7acb805eca03')\"\n",
              "              title=\"Convert this dataframe to an interactive table.\"\n",
              "              style=\"display:none;\">\n",
              "        \n",
              "  <svg xmlns=\"http://www.w3.org/2000/svg\" height=\"24px\"viewBox=\"0 0 24 24\"\n",
              "       width=\"24px\">\n",
              "    <path d=\"M0 0h24v24H0V0z\" fill=\"none\"/>\n",
              "    <path d=\"M18.56 5.44l.94 2.06.94-2.06 2.06-.94-2.06-.94-.94-2.06-.94 2.06-2.06.94zm-11 1L8.5 8.5l.94-2.06 2.06-.94-2.06-.94L8.5 2.5l-.94 2.06-2.06.94zm10 10l.94 2.06.94-2.06 2.06-.94-2.06-.94-.94-2.06-.94 2.06-2.06.94z\"/><path d=\"M17.41 7.96l-1.37-1.37c-.4-.4-.92-.59-1.43-.59-.52 0-1.04.2-1.43.59L10.3 9.45l-7.72 7.72c-.78.78-.78 2.05 0 2.83L4 21.41c.39.39.9.59 1.41.59.51 0 1.02-.2 1.41-.59l7.78-7.78 2.81-2.81c.8-.78.8-2.07 0-2.86zM5.41 20L4 18.59l7.72-7.72 1.47 1.35L5.41 20z\"/>\n",
              "  </svg>\n",
              "      </button>\n",
              "      \n",
              "  <style>\n",
              "    .colab-df-container {\n",
              "      display:flex;\n",
              "      flex-wrap:wrap;\n",
              "      gap: 12px;\n",
              "    }\n",
              "\n",
              "    .colab-df-convert {\n",
              "      background-color: #E8F0FE;\n",
              "      border: none;\n",
              "      border-radius: 50%;\n",
              "      cursor: pointer;\n",
              "      display: none;\n",
              "      fill: #1967D2;\n",
              "      height: 32px;\n",
              "      padding: 0 0 0 0;\n",
              "      width: 32px;\n",
              "    }\n",
              "\n",
              "    .colab-df-convert:hover {\n",
              "      background-color: #E2EBFA;\n",
              "      box-shadow: 0px 1px 2px rgba(60, 64, 67, 0.3), 0px 1px 3px 1px rgba(60, 64, 67, 0.15);\n",
              "      fill: #174EA6;\n",
              "    }\n",
              "\n",
              "    [theme=dark] .colab-df-convert {\n",
              "      background-color: #3B4455;\n",
              "      fill: #D2E3FC;\n",
              "    }\n",
              "\n",
              "    [theme=dark] .colab-df-convert:hover {\n",
              "      background-color: #434B5C;\n",
              "      box-shadow: 0px 1px 3px 1px rgba(0, 0, 0, 0.15);\n",
              "      filter: drop-shadow(0px 1px 2px rgba(0, 0, 0, 0.3));\n",
              "      fill: #FFFFFF;\n",
              "    }\n",
              "  </style>\n",
              "\n",
              "      <script>\n",
              "        const buttonEl =\n",
              "          document.querySelector('#df-a375be30-6b89-4951-981f-7acb805eca03 button.colab-df-convert');\n",
              "        buttonEl.style.display =\n",
              "          google.colab.kernel.accessAllowed ? 'block' : 'none';\n",
              "\n",
              "        async function convertToInteractive(key) {\n",
              "          const element = document.querySelector('#df-a375be30-6b89-4951-981f-7acb805eca03');\n",
              "          const dataTable =\n",
              "            await google.colab.kernel.invokeFunction('convertToInteractive',\n",
              "                                                     [key], {});\n",
              "          if (!dataTable) return;\n",
              "\n",
              "          const docLinkHtml = 'Like what you see? Visit the ' +\n",
              "            '<a target=\"_blank\" href=https://colab.research.google.com/notebooks/data_table.ipynb>data table notebook</a>'\n",
              "            + ' to learn more about interactive tables.';\n",
              "          element.innerHTML = '';\n",
              "          dataTable['output_type'] = 'display_data';\n",
              "          await google.colab.output.renderOutput(dataTable, element);\n",
              "          const docLink = document.createElement('div');\n",
              "          docLink.innerHTML = docLinkHtml;\n",
              "          element.appendChild(docLink);\n",
              "        }\n",
              "      </script>\n",
              "    </div>\n",
              "  </div>\n",
              "  "
            ]
          },
          "metadata": {},
          "execution_count": 3
        }
      ],
      "source": [
        "df_test"
      ]
    },
    {
      "cell_type": "code",
      "execution_count": null,
      "metadata": {
        "colab": {
          "base_uri": "https://localhost:8080/",
          "height": 419
        },
        "id": "Z8Oaq_TwV6B5",
        "outputId": "919633ec-1dd3-4bf7-c334-2bf6f58ac30f"
      },
      "outputs": [
        {
          "output_type": "execute_result",
          "data": {
            "text/plain": [
              "    patient cancer\n",
              "0         1    ALL\n",
              "1         2    ALL\n",
              "2         3    ALL\n",
              "3         4    ALL\n",
              "4         5    ALL\n",
              "..      ...    ...\n",
              "67       68    ALL\n",
              "68       69    ALL\n",
              "69       70    ALL\n",
              "70       71    ALL\n",
              "71       72    ALL\n",
              "\n",
              "[72 rows x 2 columns]"
            ],
            "text/html": [
              "\n",
              "  <div id=\"df-8a6859b4-5cbc-46ae-8382-9d4cb0ab95d1\">\n",
              "    <div class=\"colab-df-container\">\n",
              "      <div>\n",
              "<style scoped>\n",
              "    .dataframe tbody tr th:only-of-type {\n",
              "        vertical-align: middle;\n",
              "    }\n",
              "\n",
              "    .dataframe tbody tr th {\n",
              "        vertical-align: top;\n",
              "    }\n",
              "\n",
              "    .dataframe thead th {\n",
              "        text-align: right;\n",
              "    }\n",
              "</style>\n",
              "<table border=\"1\" class=\"dataframe\">\n",
              "  <thead>\n",
              "    <tr style=\"text-align: right;\">\n",
              "      <th></th>\n",
              "      <th>patient</th>\n",
              "      <th>cancer</th>\n",
              "    </tr>\n",
              "  </thead>\n",
              "  <tbody>\n",
              "    <tr>\n",
              "      <th>0</th>\n",
              "      <td>1</td>\n",
              "      <td>ALL</td>\n",
              "    </tr>\n",
              "    <tr>\n",
              "      <th>1</th>\n",
              "      <td>2</td>\n",
              "      <td>ALL</td>\n",
              "    </tr>\n",
              "    <tr>\n",
              "      <th>2</th>\n",
              "      <td>3</td>\n",
              "      <td>ALL</td>\n",
              "    </tr>\n",
              "    <tr>\n",
              "      <th>3</th>\n",
              "      <td>4</td>\n",
              "      <td>ALL</td>\n",
              "    </tr>\n",
              "    <tr>\n",
              "      <th>4</th>\n",
              "      <td>5</td>\n",
              "      <td>ALL</td>\n",
              "    </tr>\n",
              "    <tr>\n",
              "      <th>...</th>\n",
              "      <td>...</td>\n",
              "      <td>...</td>\n",
              "    </tr>\n",
              "    <tr>\n",
              "      <th>67</th>\n",
              "      <td>68</td>\n",
              "      <td>ALL</td>\n",
              "    </tr>\n",
              "    <tr>\n",
              "      <th>68</th>\n",
              "      <td>69</td>\n",
              "      <td>ALL</td>\n",
              "    </tr>\n",
              "    <tr>\n",
              "      <th>69</th>\n",
              "      <td>70</td>\n",
              "      <td>ALL</td>\n",
              "    </tr>\n",
              "    <tr>\n",
              "      <th>70</th>\n",
              "      <td>71</td>\n",
              "      <td>ALL</td>\n",
              "    </tr>\n",
              "    <tr>\n",
              "      <th>71</th>\n",
              "      <td>72</td>\n",
              "      <td>ALL</td>\n",
              "    </tr>\n",
              "  </tbody>\n",
              "</table>\n",
              "<p>72 rows × 2 columns</p>\n",
              "</div>\n",
              "      <button class=\"colab-df-convert\" onclick=\"convertToInteractive('df-8a6859b4-5cbc-46ae-8382-9d4cb0ab95d1')\"\n",
              "              title=\"Convert this dataframe to an interactive table.\"\n",
              "              style=\"display:none;\">\n",
              "        \n",
              "  <svg xmlns=\"http://www.w3.org/2000/svg\" height=\"24px\"viewBox=\"0 0 24 24\"\n",
              "       width=\"24px\">\n",
              "    <path d=\"M0 0h24v24H0V0z\" fill=\"none\"/>\n",
              "    <path d=\"M18.56 5.44l.94 2.06.94-2.06 2.06-.94-2.06-.94-.94-2.06-.94 2.06-2.06.94zm-11 1L8.5 8.5l.94-2.06 2.06-.94-2.06-.94L8.5 2.5l-.94 2.06-2.06.94zm10 10l.94 2.06.94-2.06 2.06-.94-2.06-.94-.94-2.06-.94 2.06-2.06.94z\"/><path d=\"M17.41 7.96l-1.37-1.37c-.4-.4-.92-.59-1.43-.59-.52 0-1.04.2-1.43.59L10.3 9.45l-7.72 7.72c-.78.78-.78 2.05 0 2.83L4 21.41c.39.39.9.59 1.41.59.51 0 1.02-.2 1.41-.59l7.78-7.78 2.81-2.81c.8-.78.8-2.07 0-2.86zM5.41 20L4 18.59l7.72-7.72 1.47 1.35L5.41 20z\"/>\n",
              "  </svg>\n",
              "      </button>\n",
              "      \n",
              "  <style>\n",
              "    .colab-df-container {\n",
              "      display:flex;\n",
              "      flex-wrap:wrap;\n",
              "      gap: 12px;\n",
              "    }\n",
              "\n",
              "    .colab-df-convert {\n",
              "      background-color: #E8F0FE;\n",
              "      border: none;\n",
              "      border-radius: 50%;\n",
              "      cursor: pointer;\n",
              "      display: none;\n",
              "      fill: #1967D2;\n",
              "      height: 32px;\n",
              "      padding: 0 0 0 0;\n",
              "      width: 32px;\n",
              "    }\n",
              "\n",
              "    .colab-df-convert:hover {\n",
              "      background-color: #E2EBFA;\n",
              "      box-shadow: 0px 1px 2px rgba(60, 64, 67, 0.3), 0px 1px 3px 1px rgba(60, 64, 67, 0.15);\n",
              "      fill: #174EA6;\n",
              "    }\n",
              "\n",
              "    [theme=dark] .colab-df-convert {\n",
              "      background-color: #3B4455;\n",
              "      fill: #D2E3FC;\n",
              "    }\n",
              "\n",
              "    [theme=dark] .colab-df-convert:hover {\n",
              "      background-color: #434B5C;\n",
              "      box-shadow: 0px 1px 3px 1px rgba(0, 0, 0, 0.15);\n",
              "      filter: drop-shadow(0px 1px 2px rgba(0, 0, 0, 0.3));\n",
              "      fill: #FFFFFF;\n",
              "    }\n",
              "  </style>\n",
              "\n",
              "      <script>\n",
              "        const buttonEl =\n",
              "          document.querySelector('#df-8a6859b4-5cbc-46ae-8382-9d4cb0ab95d1 button.colab-df-convert');\n",
              "        buttonEl.style.display =\n",
              "          google.colab.kernel.accessAllowed ? 'block' : 'none';\n",
              "\n",
              "        async function convertToInteractive(key) {\n",
              "          const element = document.querySelector('#df-8a6859b4-5cbc-46ae-8382-9d4cb0ab95d1');\n",
              "          const dataTable =\n",
              "            await google.colab.kernel.invokeFunction('convertToInteractive',\n",
              "                                                     [key], {});\n",
              "          if (!dataTable) return;\n",
              "\n",
              "          const docLinkHtml = 'Like what you see? Visit the ' +\n",
              "            '<a target=\"_blank\" href=https://colab.research.google.com/notebooks/data_table.ipynb>data table notebook</a>'\n",
              "            + ' to learn more about interactive tables.';\n",
              "          element.innerHTML = '';\n",
              "          dataTable['output_type'] = 'display_data';\n",
              "          await google.colab.output.renderOutput(dataTable, element);\n",
              "          const docLink = document.createElement('div');\n",
              "          docLink.innerHTML = docLinkHtml;\n",
              "          element.appendChild(docLink);\n",
              "        }\n",
              "      </script>\n",
              "    </div>\n",
              "  </div>\n",
              "  "
            ]
          },
          "metadata": {},
          "execution_count": 4
        }
      ],
      "source": [
        "df_labels"
      ]
    },
    {
      "cell_type": "markdown",
      "metadata": {
        "id": "9bCafrIaGVo6"
      },
      "source": [
        "# Data Preprocessing"
      ]
    },
    {
      "cell_type": "code",
      "execution_count": null,
      "metadata": {
        "id": "dw1d1BSAIGGV"
      },
      "outputs": [],
      "source": [
        "# get data into a form where features are columns, then get just the values, then get just the calls\n",
        "def process_features(df):\n",
        "  features = df.transpose()\n",
        "  features.columns = features.iloc[0]\n",
        "  features = features[2:]\n",
        "  values = features.drop(index=features.index[1::2])\n",
        "  calls = features.drop(index=features.index[::2])\n",
        "  return(features, values, calls)"
      ]
    },
    {
      "cell_type": "code",
      "execution_count": null,
      "metadata": {
        "id": "aBhhSPXgdf-C"
      },
      "outputs": [],
      "source": [
        "train_features, x_train, train_calls = process_features(df_train)\n",
        "test_features, x_test, test_calls = process_features(df_test)"
      ]
    },
    {
      "cell_type": "code",
      "execution_count": null,
      "metadata": {
        "id": "F_FKpMV4CNlG"
      },
      "outputs": [],
      "source": [
        "# make sure index column of training and testing data are numeric so they can be sorted correctly by patient number\n",
        "x_train.index = pd.to_numeric(x_train.index)\n",
        "x_train.sort_index(inplace = True)\n",
        "x_test.index = pd.to_numeric(x_test.index)\n",
        "x_test.sort_index(inplace = True)"
      ]
    },
    {
      "cell_type": "code",
      "execution_count": null,
      "metadata": {
        "id": "hJ7RKL5gGT_7"
      },
      "outputs": [],
      "source": [
        "# Convert labels to binary classification problem where True is for ALL, False  is for AML\n",
        "y_train = df_labels.iloc[0:38][\"cancer\"]\n",
        "y_train = [y == \"ALL\" for y in y_train]\n",
        "y_test = df_labels.iloc[38:][\"cancer\"]\n",
        "y_test = [y == \"ALL\" for y in y_test]"
      ]
    },
    {
      "cell_type": "markdown",
      "metadata": {
        "id": "rPpTSYx7oShO"
      },
      "source": [
        "# Exploratory Data Analysis"
      ]
    },
    {
      "cell_type": "code",
      "execution_count": null,
      "metadata": {
        "colab": {
          "base_uri": "https://localhost:8080/",
          "height": 592
        },
        "id": "TqLeJ2Ulit3i",
        "outputId": "eb8a9c8e-f376-4179-849b-a0bcfe627607"
      },
      "outputs": [
        {
          "output_type": "execute_result",
          "data": {
            "text/plain": [
              "Gene Description AFFX-BioB-5_at (endogenous control)  \\\n",
              "1                                               -214   \n",
              "2                                               -139   \n",
              "3                                                -76   \n",
              "4                                               -135   \n",
              "5                                               -106   \n",
              "..                                               ...   \n",
              "68                                              -154   \n",
              "69                                               -79   \n",
              "70                                               -55   \n",
              "71                                               -59   \n",
              "72                                              -131   \n",
              "\n",
              "Gene Description AFFX-BioB-M_at (endogenous control)  \\\n",
              "1                                               -153   \n",
              "2                                                -73   \n",
              "3                                                -49   \n",
              "4                                               -114   \n",
              "5                                               -125   \n",
              "..                                               ...   \n",
              "68                                              -136   \n",
              "69                                              -118   \n",
              "70                                               -44   \n",
              "71                                              -114   \n",
              "72                                              -126   \n",
              "\n",
              "Gene Description AFFX-BioB-3_at (endogenous control)  \\\n",
              "1                                                -58   \n",
              "2                                                 -1   \n",
              "3                                               -307   \n",
              "4                                                265   \n",
              "5                                                -76   \n",
              "..                                               ...   \n",
              "68                                                49   \n",
              "69                                               -30   \n",
              "70                                                12   \n",
              "71                                                23   \n",
              "72                                               -50   \n",
              "\n",
              "Gene Description AFFX-BioC-5_at (endogenous control)  \\\n",
              "1                                                 88   \n",
              "2                                                283   \n",
              "3                                                309   \n",
              "4                                                 12   \n",
              "5                                                168   \n",
              "..                                               ...   \n",
              "68                                               180   \n",
              "69                                                68   \n",
              "70                                               129   \n",
              "71                                               146   \n",
              "72                                               211   \n",
              "\n",
              "Gene Description AFFX-BioC-3_at (endogenous control)  \\\n",
              "1                                               -295   \n",
              "2                                               -264   \n",
              "3                                               -376   \n",
              "4                                               -419   \n",
              "5                                               -230   \n",
              "..                                               ...   \n",
              "68                                              -257   \n",
              "69                                              -110   \n",
              "70                                              -108   \n",
              "71                                              -171   \n",
              "72                                              -206   \n",
              "\n",
              "Gene Description AFFX-BioDn-5_at (endogenous control)  \\\n",
              "1                                                -558   \n",
              "2                                                -400   \n",
              "3                                                -650   \n",
              "4                                                -585   \n",
              "5                                                -284   \n",
              "..                                                ...   \n",
              "68                                               -273   \n",
              "69                                               -264   \n",
              "70                                               -301   \n",
              "71                                               -227   \n",
              "72                                               -287   \n",
              "\n",
              "Gene Description AFFX-BioDn-3_at (endogenous control)  \\\n",
              "1                                                 199   \n",
              "2                                                -330   \n",
              "3                                                  33   \n",
              "4                                                 158   \n",
              "5                                                   4   \n",
              "..                                                ...   \n",
              "68                                                141   \n",
              "69                                                -28   \n",
              "70                                               -222   \n",
              "71                                                -73   \n",
              "72                                                -34   \n",
              "\n",
              "Gene Description AFFX-CreX-5_at (endogenous control)  \\\n",
              "1                                               -176   \n",
              "2                                               -168   \n",
              "3                                               -367   \n",
              "4                                               -253   \n",
              "5                                               -122   \n",
              "..                                               ...   \n",
              "68                                              -123   \n",
              "69                                               -61   \n",
              "70                                              -133   \n",
              "71                                              -126   \n",
              "72                                              -114   \n",
              "\n",
              "Gene Description AFFX-CreX-3_at (endogenous control)  \\\n",
              "1                                                252   \n",
              "2                                                101   \n",
              "3                                                206   \n",
              "4                                                 49   \n",
              "5                                                 70   \n",
              "..                                               ...   \n",
              "68                                                52   \n",
              "69                                                40   \n",
              "70                                               136   \n",
              "71                                                -6   \n",
              "72                                                62   \n",
              "\n",
              "Gene Description AFFX-BioB-5_st (endogenous control)  ...  \\\n",
              "1                                                206  ...   \n",
              "2                                                 74  ...   \n",
              "3                                               -215  ...   \n",
              "4                                                 31  ...   \n",
              "5                                                252  ...   \n",
              "..                                               ...  ...   \n",
              "68                                               878  ...   \n",
              "69                                              -217  ...   \n",
              "70                                               320  ...   \n",
              "71                                               149  ...   \n",
              "72                                               341  ...   \n",
              "\n",
              "Gene Description Transcription factor Stat5b (stat5b) mRNA  \\\n",
              "1                                                      185   \n",
              "2                                                      169   \n",
              "3                                                      315   \n",
              "4                                                      240   \n",
              "5                                                      156   \n",
              "..                                                     ...   \n",
              "68                                                     214   \n",
              "69                                                     409   \n",
              "70                                                     131   \n",
              "71                                                     214   \n",
              "72                                                     206   \n",
              "\n",
              "Gene Description Breast epithelial antigen BA46 mRNA  \\\n",
              "1                                                511   \n",
              "2                                                837   \n",
              "3                                               1199   \n",
              "4                                                835   \n",
              "5                                                649   \n",
              "..                                               ...   \n",
              "68                                               540   \n",
              "69                                               617   \n",
              "70                                               318   \n",
              "71                                               760   \n",
              "72                                               697   \n",
              "\n",
              "Gene Description GB DEF = Calcium/calmodulin-dependent protein kinase II delta E mRNA; partial cds  \\\n",
              "1                                                              -125                                  \n",
              "2                                                               -36                                  \n",
              "3                                                                33                                  \n",
              "4                                                               218                                  \n",
              "5                                                                57                                  \n",
              "..                                                              ...                                  \n",
              "68                                                               13                                  \n",
              "69                                                              -34                                  \n",
              "70                                                               35                                  \n",
              "71                                                              -38                                  \n",
              "72                                                                3                                  \n",
              "\n",
              "Gene Description TUBULIN ALPHA-4 CHAIN  \\\n",
              "1                                  389   \n",
              "2                                  442   \n",
              "3                                  168   \n",
              "4                                  174   \n",
              "5                                  504   \n",
              "..                                 ...   \n",
              "68                                1075   \n",
              "69                                 738   \n",
              "70                                 241   \n",
              "71                                 201   \n",
              "72                                1046   \n",
              "\n",
              "Gene Description CYP4B1 Cytochrome P450; subfamily IVB; polypeptide 1  \\\n",
              "1                                                               -37     \n",
              "2                                                               -17     \n",
              "3                                                                52     \n",
              "4                                                              -110     \n",
              "5                                                               -26     \n",
              "..                                                              ...     \n",
              "68                                                              -45     \n",
              "69                                                               11     \n",
              "70                                                              -66     \n",
              "71                                                              -55     \n",
              "72                                                               27     \n",
              "\n",
              "Gene Description PTGER3 Prostaglandin E receptor 3 (subtype EP3) {alternative products}  \\\n",
              "1                                                               793                       \n",
              "2                                                               782                       \n",
              "3                                                              1138                       \n",
              "4                                                               627                       \n",
              "5                                                               250                       \n",
              "..                                                              ...                       \n",
              "68                                                              524                       \n",
              "69                                                              742                       \n",
              "70                                                              320                       \n",
              "71                                                              348                       \n",
              "72                                                              874                       \n",
              "\n",
              "Gene Description HMG2 High-mobility group (nonhistone chromosomal) protein 2  \\\n",
              "1                                                               329            \n",
              "2                                                               295            \n",
              "3                                                               777            \n",
              "4                                                               170            \n",
              "5                                                               314            \n",
              "..                                                              ...            \n",
              "68                                                              249            \n",
              "69                                                              234            \n",
              "70                                                              174            \n",
              "71                                                              208            \n",
              "72                                                              393            \n",
              "\n",
              "Gene Description RB1 Retinoblastoma 1 (including osteosarcoma)  \\\n",
              "1                                                           36   \n",
              "2                                                           11   \n",
              "3                                                           41   \n",
              "4                                                          -50   \n",
              "5                                                           14   \n",
              "..                                                         ...   \n",
              "68                                                          40   \n",
              "69                                                          72   \n",
              "70                                                          -4   \n",
              "71                                                           0   \n",
              "72                                                          34   \n",
              "\n",
              "Gene Description GB DEF = Glycophorin Sta (type A) exons 3 and 4; partial  \\\n",
              "1                                                               191         \n",
              "2                                                                76         \n",
              "3                                                               228         \n",
              "4                                                               126         \n",
              "5                                                                56         \n",
              "..                                                              ...         \n",
              "68                                                              -68         \n",
              "69                                                              109         \n",
              "70                                                              176         \n",
              "71                                                               74         \n",
              "72                                                              237         \n",
              "\n",
              "Gene Description GB DEF = mRNA (clone 1A7)  \n",
              "1                                      -37  \n",
              "2                                      -14  \n",
              "3                                      -41  \n",
              "4                                      -91  \n",
              "5                                      -25  \n",
              "..                                     ...  \n",
              "68                                      -1  \n",
              "69                                     -30  \n",
              "70                                      40  \n",
              "71                                     -12  \n",
              "72                                      -2  \n",
              "\n",
              "[72 rows x 7129 columns]"
            ],
            "text/html": [
              "\n",
              "  <div id=\"df-fd988d2a-b323-4152-b8ee-bcea87510239\">\n",
              "    <div class=\"colab-df-container\">\n",
              "      <div>\n",
              "<style scoped>\n",
              "    .dataframe tbody tr th:only-of-type {\n",
              "        vertical-align: middle;\n",
              "    }\n",
              "\n",
              "    .dataframe tbody tr th {\n",
              "        vertical-align: top;\n",
              "    }\n",
              "\n",
              "    .dataframe thead th {\n",
              "        text-align: right;\n",
              "    }\n",
              "</style>\n",
              "<table border=\"1\" class=\"dataframe\">\n",
              "  <thead>\n",
              "    <tr style=\"text-align: right;\">\n",
              "      <th>Gene Description</th>\n",
              "      <th>AFFX-BioB-5_at (endogenous control)</th>\n",
              "      <th>AFFX-BioB-M_at (endogenous control)</th>\n",
              "      <th>AFFX-BioB-3_at (endogenous control)</th>\n",
              "      <th>AFFX-BioC-5_at (endogenous control)</th>\n",
              "      <th>AFFX-BioC-3_at (endogenous control)</th>\n",
              "      <th>AFFX-BioDn-5_at (endogenous control)</th>\n",
              "      <th>AFFX-BioDn-3_at (endogenous control)</th>\n",
              "      <th>AFFX-CreX-5_at (endogenous control)</th>\n",
              "      <th>AFFX-CreX-3_at (endogenous control)</th>\n",
              "      <th>AFFX-BioB-5_st (endogenous control)</th>\n",
              "      <th>...</th>\n",
              "      <th>Transcription factor Stat5b (stat5b) mRNA</th>\n",
              "      <th>Breast epithelial antigen BA46 mRNA</th>\n",
              "      <th>GB DEF = Calcium/calmodulin-dependent protein kinase II delta E mRNA; partial cds</th>\n",
              "      <th>TUBULIN ALPHA-4 CHAIN</th>\n",
              "      <th>CYP4B1 Cytochrome P450; subfamily IVB; polypeptide 1</th>\n",
              "      <th>PTGER3 Prostaglandin E receptor 3 (subtype EP3) {alternative products}</th>\n",
              "      <th>HMG2 High-mobility group (nonhistone chromosomal) protein 2</th>\n",
              "      <th>RB1 Retinoblastoma 1 (including osteosarcoma)</th>\n",
              "      <th>GB DEF = Glycophorin Sta (type A) exons 3 and 4; partial</th>\n",
              "      <th>GB DEF = mRNA (clone 1A7)</th>\n",
              "    </tr>\n",
              "  </thead>\n",
              "  <tbody>\n",
              "    <tr>\n",
              "      <th>1</th>\n",
              "      <td>-214</td>\n",
              "      <td>-153</td>\n",
              "      <td>-58</td>\n",
              "      <td>88</td>\n",
              "      <td>-295</td>\n",
              "      <td>-558</td>\n",
              "      <td>199</td>\n",
              "      <td>-176</td>\n",
              "      <td>252</td>\n",
              "      <td>206</td>\n",
              "      <td>...</td>\n",
              "      <td>185</td>\n",
              "      <td>511</td>\n",
              "      <td>-125</td>\n",
              "      <td>389</td>\n",
              "      <td>-37</td>\n",
              "      <td>793</td>\n",
              "      <td>329</td>\n",
              "      <td>36</td>\n",
              "      <td>191</td>\n",
              "      <td>-37</td>\n",
              "    </tr>\n",
              "    <tr>\n",
              "      <th>2</th>\n",
              "      <td>-139</td>\n",
              "      <td>-73</td>\n",
              "      <td>-1</td>\n",
              "      <td>283</td>\n",
              "      <td>-264</td>\n",
              "      <td>-400</td>\n",
              "      <td>-330</td>\n",
              "      <td>-168</td>\n",
              "      <td>101</td>\n",
              "      <td>74</td>\n",
              "      <td>...</td>\n",
              "      <td>169</td>\n",
              "      <td>837</td>\n",
              "      <td>-36</td>\n",
              "      <td>442</td>\n",
              "      <td>-17</td>\n",
              "      <td>782</td>\n",
              "      <td>295</td>\n",
              "      <td>11</td>\n",
              "      <td>76</td>\n",
              "      <td>-14</td>\n",
              "    </tr>\n",
              "    <tr>\n",
              "      <th>3</th>\n",
              "      <td>-76</td>\n",
              "      <td>-49</td>\n",
              "      <td>-307</td>\n",
              "      <td>309</td>\n",
              "      <td>-376</td>\n",
              "      <td>-650</td>\n",
              "      <td>33</td>\n",
              "      <td>-367</td>\n",
              "      <td>206</td>\n",
              "      <td>-215</td>\n",
              "      <td>...</td>\n",
              "      <td>315</td>\n",
              "      <td>1199</td>\n",
              "      <td>33</td>\n",
              "      <td>168</td>\n",
              "      <td>52</td>\n",
              "      <td>1138</td>\n",
              "      <td>777</td>\n",
              "      <td>41</td>\n",
              "      <td>228</td>\n",
              "      <td>-41</td>\n",
              "    </tr>\n",
              "    <tr>\n",
              "      <th>4</th>\n",
              "      <td>-135</td>\n",
              "      <td>-114</td>\n",
              "      <td>265</td>\n",
              "      <td>12</td>\n",
              "      <td>-419</td>\n",
              "      <td>-585</td>\n",
              "      <td>158</td>\n",
              "      <td>-253</td>\n",
              "      <td>49</td>\n",
              "      <td>31</td>\n",
              "      <td>...</td>\n",
              "      <td>240</td>\n",
              "      <td>835</td>\n",
              "      <td>218</td>\n",
              "      <td>174</td>\n",
              "      <td>-110</td>\n",
              "      <td>627</td>\n",
              "      <td>170</td>\n",
              "      <td>-50</td>\n",
              "      <td>126</td>\n",
              "      <td>-91</td>\n",
              "    </tr>\n",
              "    <tr>\n",
              "      <th>5</th>\n",
              "      <td>-106</td>\n",
              "      <td>-125</td>\n",
              "      <td>-76</td>\n",
              "      <td>168</td>\n",
              "      <td>-230</td>\n",
              "      <td>-284</td>\n",
              "      <td>4</td>\n",
              "      <td>-122</td>\n",
              "      <td>70</td>\n",
              "      <td>252</td>\n",
              "      <td>...</td>\n",
              "      <td>156</td>\n",
              "      <td>649</td>\n",
              "      <td>57</td>\n",
              "      <td>504</td>\n",
              "      <td>-26</td>\n",
              "      <td>250</td>\n",
              "      <td>314</td>\n",
              "      <td>14</td>\n",
              "      <td>56</td>\n",
              "      <td>-25</td>\n",
              "    </tr>\n",
              "    <tr>\n",
              "      <th>...</th>\n",
              "      <td>...</td>\n",
              "      <td>...</td>\n",
              "      <td>...</td>\n",
              "      <td>...</td>\n",
              "      <td>...</td>\n",
              "      <td>...</td>\n",
              "      <td>...</td>\n",
              "      <td>...</td>\n",
              "      <td>...</td>\n",
              "      <td>...</td>\n",
              "      <td>...</td>\n",
              "      <td>...</td>\n",
              "      <td>...</td>\n",
              "      <td>...</td>\n",
              "      <td>...</td>\n",
              "      <td>...</td>\n",
              "      <td>...</td>\n",
              "      <td>...</td>\n",
              "      <td>...</td>\n",
              "      <td>...</td>\n",
              "      <td>...</td>\n",
              "    </tr>\n",
              "    <tr>\n",
              "      <th>68</th>\n",
              "      <td>-154</td>\n",
              "      <td>-136</td>\n",
              "      <td>49</td>\n",
              "      <td>180</td>\n",
              "      <td>-257</td>\n",
              "      <td>-273</td>\n",
              "      <td>141</td>\n",
              "      <td>-123</td>\n",
              "      <td>52</td>\n",
              "      <td>878</td>\n",
              "      <td>...</td>\n",
              "      <td>214</td>\n",
              "      <td>540</td>\n",
              "      <td>13</td>\n",
              "      <td>1075</td>\n",
              "      <td>-45</td>\n",
              "      <td>524</td>\n",
              "      <td>249</td>\n",
              "      <td>40</td>\n",
              "      <td>-68</td>\n",
              "      <td>-1</td>\n",
              "    </tr>\n",
              "    <tr>\n",
              "      <th>69</th>\n",
              "      <td>-79</td>\n",
              "      <td>-118</td>\n",
              "      <td>-30</td>\n",
              "      <td>68</td>\n",
              "      <td>-110</td>\n",
              "      <td>-264</td>\n",
              "      <td>-28</td>\n",
              "      <td>-61</td>\n",
              "      <td>40</td>\n",
              "      <td>-217</td>\n",
              "      <td>...</td>\n",
              "      <td>409</td>\n",
              "      <td>617</td>\n",
              "      <td>-34</td>\n",
              "      <td>738</td>\n",
              "      <td>11</td>\n",
              "      <td>742</td>\n",
              "      <td>234</td>\n",
              "      <td>72</td>\n",
              "      <td>109</td>\n",
              "      <td>-30</td>\n",
              "    </tr>\n",
              "    <tr>\n",
              "      <th>70</th>\n",
              "      <td>-55</td>\n",
              "      <td>-44</td>\n",
              "      <td>12</td>\n",
              "      <td>129</td>\n",
              "      <td>-108</td>\n",
              "      <td>-301</td>\n",
              "      <td>-222</td>\n",
              "      <td>-133</td>\n",
              "      <td>136</td>\n",
              "      <td>320</td>\n",
              "      <td>...</td>\n",
              "      <td>131</td>\n",
              "      <td>318</td>\n",
              "      <td>35</td>\n",
              "      <td>241</td>\n",
              "      <td>-66</td>\n",
              "      <td>320</td>\n",
              "      <td>174</td>\n",
              "      <td>-4</td>\n",
              "      <td>176</td>\n",
              "      <td>40</td>\n",
              "    </tr>\n",
              "    <tr>\n",
              "      <th>71</th>\n",
              "      <td>-59</td>\n",
              "      <td>-114</td>\n",
              "      <td>23</td>\n",
              "      <td>146</td>\n",
              "      <td>-171</td>\n",
              "      <td>-227</td>\n",
              "      <td>-73</td>\n",
              "      <td>-126</td>\n",
              "      <td>-6</td>\n",
              "      <td>149</td>\n",
              "      <td>...</td>\n",
              "      <td>214</td>\n",
              "      <td>760</td>\n",
              "      <td>-38</td>\n",
              "      <td>201</td>\n",
              "      <td>-55</td>\n",
              "      <td>348</td>\n",
              "      <td>208</td>\n",
              "      <td>0</td>\n",
              "      <td>74</td>\n",
              "      <td>-12</td>\n",
              "    </tr>\n",
              "    <tr>\n",
              "      <th>72</th>\n",
              "      <td>-131</td>\n",
              "      <td>-126</td>\n",
              "      <td>-50</td>\n",
              "      <td>211</td>\n",
              "      <td>-206</td>\n",
              "      <td>-287</td>\n",
              "      <td>-34</td>\n",
              "      <td>-114</td>\n",
              "      <td>62</td>\n",
              "      <td>341</td>\n",
              "      <td>...</td>\n",
              "      <td>206</td>\n",
              "      <td>697</td>\n",
              "      <td>3</td>\n",
              "      <td>1046</td>\n",
              "      <td>27</td>\n",
              "      <td>874</td>\n",
              "      <td>393</td>\n",
              "      <td>34</td>\n",
              "      <td>237</td>\n",
              "      <td>-2</td>\n",
              "    </tr>\n",
              "  </tbody>\n",
              "</table>\n",
              "<p>72 rows × 7129 columns</p>\n",
              "</div>\n",
              "      <button class=\"colab-df-convert\" onclick=\"convertToInteractive('df-fd988d2a-b323-4152-b8ee-bcea87510239')\"\n",
              "              title=\"Convert this dataframe to an interactive table.\"\n",
              "              style=\"display:none;\">\n",
              "        \n",
              "  <svg xmlns=\"http://www.w3.org/2000/svg\" height=\"24px\"viewBox=\"0 0 24 24\"\n",
              "       width=\"24px\">\n",
              "    <path d=\"M0 0h24v24H0V0z\" fill=\"none\"/>\n",
              "    <path d=\"M18.56 5.44l.94 2.06.94-2.06 2.06-.94-2.06-.94-.94-2.06-.94 2.06-2.06.94zm-11 1L8.5 8.5l.94-2.06 2.06-.94-2.06-.94L8.5 2.5l-.94 2.06-2.06.94zm10 10l.94 2.06.94-2.06 2.06-.94-2.06-.94-.94-2.06-.94 2.06-2.06.94z\"/><path d=\"M17.41 7.96l-1.37-1.37c-.4-.4-.92-.59-1.43-.59-.52 0-1.04.2-1.43.59L10.3 9.45l-7.72 7.72c-.78.78-.78 2.05 0 2.83L4 21.41c.39.39.9.59 1.41.59.51 0 1.02-.2 1.41-.59l7.78-7.78 2.81-2.81c.8-.78.8-2.07 0-2.86zM5.41 20L4 18.59l7.72-7.72 1.47 1.35L5.41 20z\"/>\n",
              "  </svg>\n",
              "      </button>\n",
              "      \n",
              "  <style>\n",
              "    .colab-df-container {\n",
              "      display:flex;\n",
              "      flex-wrap:wrap;\n",
              "      gap: 12px;\n",
              "    }\n",
              "\n",
              "    .colab-df-convert {\n",
              "      background-color: #E8F0FE;\n",
              "      border: none;\n",
              "      border-radius: 50%;\n",
              "      cursor: pointer;\n",
              "      display: none;\n",
              "      fill: #1967D2;\n",
              "      height: 32px;\n",
              "      padding: 0 0 0 0;\n",
              "      width: 32px;\n",
              "    }\n",
              "\n",
              "    .colab-df-convert:hover {\n",
              "      background-color: #E2EBFA;\n",
              "      box-shadow: 0px 1px 2px rgba(60, 64, 67, 0.3), 0px 1px 3px 1px rgba(60, 64, 67, 0.15);\n",
              "      fill: #174EA6;\n",
              "    }\n",
              "\n",
              "    [theme=dark] .colab-df-convert {\n",
              "      background-color: #3B4455;\n",
              "      fill: #D2E3FC;\n",
              "    }\n",
              "\n",
              "    [theme=dark] .colab-df-convert:hover {\n",
              "      background-color: #434B5C;\n",
              "      box-shadow: 0px 1px 3px 1px rgba(0, 0, 0, 0.15);\n",
              "      filter: drop-shadow(0px 1px 2px rgba(0, 0, 0, 0.3));\n",
              "      fill: #FFFFFF;\n",
              "    }\n",
              "  </style>\n",
              "\n",
              "      <script>\n",
              "        const buttonEl =\n",
              "          document.querySelector('#df-fd988d2a-b323-4152-b8ee-bcea87510239 button.colab-df-convert');\n",
              "        buttonEl.style.display =\n",
              "          google.colab.kernel.accessAllowed ? 'block' : 'none';\n",
              "\n",
              "        async function convertToInteractive(key) {\n",
              "          const element = document.querySelector('#df-fd988d2a-b323-4152-b8ee-bcea87510239');\n",
              "          const dataTable =\n",
              "            await google.colab.kernel.invokeFunction('convertToInteractive',\n",
              "                                                     [key], {});\n",
              "          if (!dataTable) return;\n",
              "\n",
              "          const docLinkHtml = 'Like what you see? Visit the ' +\n",
              "            '<a target=\"_blank\" href=https://colab.research.google.com/notebooks/data_table.ipynb>data table notebook</a>'\n",
              "            + ' to learn more about interactive tables.';\n",
              "          element.innerHTML = '';\n",
              "          dataTable['output_type'] = 'display_data';\n",
              "          await google.colab.output.renderOutput(dataTable, element);\n",
              "          const docLink = document.createElement('div');\n",
              "          docLink.innerHTML = docLinkHtml;\n",
              "          element.appendChild(docLink);\n",
              "        }\n",
              "      </script>\n",
              "    </div>\n",
              "  </div>\n",
              "  "
            ]
          },
          "metadata": {},
          "execution_count": 84
        }
      ],
      "source": [
        "# Rebuild Df\n",
        "X = pd.concat([x_train, x_test])\n",
        "y = y_train + y_test\n",
        "X"
      ]
    },
    {
      "cell_type": "code",
      "execution_count": null,
      "metadata": {
        "colab": {
          "base_uri": "https://localhost:8080/"
        },
        "id": "3Z19nkwvkiVP",
        "outputId": "109bfa0e-e948-4333-df85-2d5940f3849d"
      },
      "outputs": [
        {
          "output_type": "stream",
          "name": "stdout",
          "text": [
            "72 samples 7129 number of features\n",
            "72 samples\n"
          ]
        }
      ],
      "source": [
        "# Look at number of features and samples we're dealing with\n",
        "print(X.shape[0], \"samples\", X.shape[1], \"number of features\")\n",
        "print(len(y), \"samples\")"
      ]
    },
    {
      "cell_type": "code",
      "execution_count": null,
      "metadata": {
        "colab": {
          "base_uri": "https://localhost:8080/"
        },
        "id": "yHmp4YOQpu1Z",
        "outputId": "c05e93bd-741f-4ba9-8155-7de362976bc2"
      },
      "outputs": [
        {
          "output_type": "stream",
          "name": "stdout",
          "text": [
            "[True, True, True, True, True, True, True, True, True, True, True, True, True, True, True, True, True, True, True, True, True, True, True, True, True, True, True, False, False, False, False, False, False, False, False, False, False, False, True, True, True, True, True, True, True, True, True, True, True, False, False, False, False, False, True, True, False, False, True, False, False, False, False, False, False, False, True, True, True, True, True, True]\n"
          ]
        }
      ],
      "source": [
        "print(y)"
      ]
    },
    {
      "cell_type": "code",
      "execution_count": null,
      "metadata": {
        "colab": {
          "base_uri": "https://localhost:8080/",
          "height": 469
        },
        "id": "c53hdj10qRfn",
        "outputId": "681f93b2-9418-4ccf-c66a-22af6ec809b1"
      },
      "outputs": [
        {
          "output_type": "execute_result",
          "data": {
            "text/plain": [
              "Text(0.5, 1.0, 'Frequency of Cancer Classifications')"
            ]
          },
          "metadata": {},
          "execution_count": 87
        },
        {
          "output_type": "display_data",
          "data": {
            "text/plain": [
              "<Figure size 640x480 with 1 Axes>"
            ],
            "image/png": "[encoded data removed]"
          },
          "metadata": {}
        }
      ],
      "source": [
        "# Display distribution of ALL vs AML\n",
        "import matplotlib.pyplot as plt\n",
        "all_count = sum(y)\n",
        "aml_count = len(y) - all_count\n",
        "counts = [all_count, aml_count]\n",
        "labels = [\"ALL\", \"AML\"]\n",
        "\n",
        "plt.bar(labels, counts)\n",
        "plt.ylabel(\"Frequency\")\n",
        "plt.title(\"Frequency of Cancer Classifications\")\n",
        "# For Top features with the most feature importance, display their boxplots of distributions"
      ]
    },
    {
      "cell_type": "markdown",
      "source": [
        "# Data Analysis"
      ],
      "metadata": {
        "id": "9sgcg3lkTIbm"
      }
    },
    {
      "cell_type": "markdown",
      "metadata": {
        "id": "2F0q27-OE6DU"
      },
      "source": [
        "### Principal Component Analysis and Regression"
      ]
    },
    {
      "cell_type": "code",
      "execution_count": null,
      "metadata": {
        "colab": {
          "base_uri": "https://localhost:8080/",
          "height": 1000
        },
        "id": "o6Wj_zFVE6lD",
        "outputId": "6f2c3b02-67c0-401b-80fd-df619758562d"
      },
      "outputs": [
        {
          "output_type": "execute_result",
          "data": {
            "text/plain": [
              "     M        MSE\n",
              "0   35   0.041480\n",
              "1   38   0.045119\n",
              "2   37   0.045284\n",
              "3   36   0.046252\n",
              "4   34   0.058293\n",
              "5   33   0.060410\n",
              "6    9   0.081520\n",
              "7    8   0.087963\n",
              "8   32   0.088243\n",
              "9    5   0.096839\n",
              "10   4   0.101401\n",
              "11   2   0.103465\n",
              "12   3   0.104964\n",
              "13   7   0.110287\n",
              "14   6   0.110419\n",
              "15  15   0.150660\n",
              "16  10   0.154888\n",
              "17  31   0.169538\n",
              "18  16   0.170665\n",
              "19  17   0.170970\n",
              "20  23   0.203937\n",
              "21  24   0.207347\n",
              "22  22   0.208542\n",
              "23  18   0.218904\n",
              "24  12   0.228549\n",
              "25  11   0.234524\n",
              "26   1   0.234734\n",
              "27  13   0.272914\n",
              "28  14   0.300148\n",
              "29   0   0.305254\n",
              "30  19   0.345464\n",
              "31  25   0.391828\n",
              "32  20   0.428055\n",
              "33  21   0.525996\n",
              "34  26   0.564982\n",
              "35  27   0.599134\n",
              "36  28   1.119507\n",
              "37  29  12.898485\n",
              "38  30  14.152589"
            ],
            "text/html": [
              "\n",
              "  <div id=\"df-5d877c27-2689-4576-8b5a-96aa4b3e41a2\">\n",
              "    <div class=\"colab-df-container\">\n",
              "      <div>\n",
              "<style scoped>\n",
              "    .dataframe tbody tr th:only-of-type {\n",
              "        vertical-align: middle;\n",
              "    }\n",
              "\n",
              "    .dataframe tbody tr th {\n",
              "        vertical-align: top;\n",
              "    }\n",
              "\n",
              "    .dataframe thead th {\n",
              "        text-align: right;\n",
              "    }\n",
              "</style>\n",
              "<table border=\"1\" class=\"dataframe\">\n",
              "  <thead>\n",
              "    <tr style=\"text-align: right;\">\n",
              "      <th></th>\n",
              "      <th>M</th>\n",
              "      <th>MSE</th>\n",
              "    </tr>\n",
              "  </thead>\n",
              "  <tbody>\n",
              "    <tr>\n",
              "      <th>0</th>\n",
              "      <td>35</td>\n",
              "      <td>0.041480</td>\n",
              "    </tr>\n",
              "    <tr>\n",
              "      <th>1</th>\n",
              "      <td>38</td>\n",
              "      <td>0.045119</td>\n",
              "    </tr>\n",
              "    <tr>\n",
              "      <th>2</th>\n",
              "      <td>37</td>\n",
              "      <td>0.045284</td>\n",
              "    </tr>\n",
              "    <tr>\n",
              "      <th>3</th>\n",
              "      <td>36</td>\n",
              "      <td>0.046252</td>\n",
              "    </tr>\n",
              "    <tr>\n",
              "      <th>4</th>\n",
              "      <td>34</td>\n",
              "      <td>0.058293</td>\n",
              "    </tr>\n",
              "    <tr>\n",
              "      <th>5</th>\n",
              "      <td>33</td>\n",
              "      <td>0.060410</td>\n",
              "    </tr>\n",
              "    <tr>\n",
              "      <th>6</th>\n",
              "      <td>9</td>\n",
              "      <td>0.081520</td>\n",
              "    </tr>\n",
              "    <tr>\n",
              "      <th>7</th>\n",
              "      <td>8</td>\n",
              "      <td>0.087963</td>\n",
              "    </tr>\n",
              "    <tr>\n",
              "      <th>8</th>\n",
              "      <td>32</td>\n",
              "      <td>0.088243</td>\n",
              "    </tr>\n",
              "    <tr>\n",
              "      <th>9</th>\n",
              "      <td>5</td>\n",
              "      <td>0.096839</td>\n",
              "    </tr>\n",
              "    <tr>\n",
              "      <th>10</th>\n",
              "      <td>4</td>\n",
              "      <td>0.101401</td>\n",
              "    </tr>\n",
              "    <tr>\n",
              "      <th>11</th>\n",
              "      <td>2</td>\n",
              "      <td>0.103465</td>\n",
              "    </tr>\n",
              "    <tr>\n",
              "      <th>12</th>\n",
              "      <td>3</td>\n",
              "      <td>0.104964</td>\n",
              "    </tr>\n",
              "    <tr>\n",
              "      <th>13</th>\n",
              "      <td>7</td>\n",
              "      <td>0.110287</td>\n",
              "    </tr>\n",
              "    <tr>\n",
              "      <th>14</th>\n",
              "      <td>6</td>\n",
              "      <td>0.110419</td>\n",
              "    </tr>\n",
              "    <tr>\n",
              "      <th>15</th>\n",
              "      <td>15</td>\n",
              "      <td>0.150660</td>\n",
              "    </tr>\n",
              "    <tr>\n",
              "      <th>16</th>\n",
              "      <td>10</td>\n",
              "      <td>0.154888</td>\n",
              "    </tr>\n",
              "    <tr>\n",
              "      <th>17</th>\n",
              "      <td>31</td>\n",
              "      <td>0.169538</td>\n",
              "    </tr>\n",
              "    <tr>\n",
              "      <th>18</th>\n",
              "      <td>16</td>\n",
              "      <td>0.170665</td>\n",
              "    </tr>\n",
              "    <tr>\n",
              "      <th>19</th>\n",
              "      <td>17</td>\n",
              "      <td>0.170970</td>\n",
              "    </tr>\n",
              "    <tr>\n",
              "      <th>20</th>\n",
              "      <td>23</td>\n",
              "      <td>0.203937</td>\n",
              "    </tr>\n",
              "    <tr>\n",
              "      <th>21</th>\n",
              "      <td>24</td>\n",
              "      <td>0.207347</td>\n",
              "    </tr>\n",
              "    <tr>\n",
              "      <th>22</th>\n",
              "      <td>22</td>\n",
              "      <td>0.208542</td>\n",
              "    </tr>\n",
              "    <tr>\n",
              "      <th>23</th>\n",
              "      <td>18</td>\n",
              "      <td>0.218904</td>\n",
              "    </tr>\n",
              "    <tr>\n",
              "      <th>24</th>\n",
              "      <td>12</td>\n",
              "      <td>0.228549</td>\n",
              "    </tr>\n",
              "    <tr>\n",
              "      <th>25</th>\n",
              "      <td>11</td>\n",
              "      <td>0.234524</td>\n",
              "    </tr>\n",
              "    <tr>\n",
              "      <th>26</th>\n",
              "      <td>1</td>\n",
              "      <td>0.234734</td>\n",
              "    </tr>\n",
              "    <tr>\n",
              "      <th>27</th>\n",
              "      <td>13</td>\n",
              "      <td>0.272914</td>\n",
              "    </tr>\n",
              "    <tr>\n",
              "      <th>28</th>\n",
              "      <td>14</td>\n",
              "      <td>0.300148</td>\n",
              "    </tr>\n",
              "    <tr>\n",
              "      <th>29</th>\n",
              "      <td>0</td>\n",
              "      <td>0.305254</td>\n",
              "    </tr>\n",
              "    <tr>\n",
              "      <th>30</th>\n",
              "      <td>19</td>\n",
              "      <td>0.345464</td>\n",
              "    </tr>\n",
              "    <tr>\n",
              "      <th>31</th>\n",
              "      <td>25</td>\n",
              "      <td>0.391828</td>\n",
              "    </tr>\n",
              "    <tr>\n",
              "      <th>32</th>\n",
              "      <td>20</td>\n",
              "      <td>0.428055</td>\n",
              "    </tr>\n",
              "    <tr>\n",
              "      <th>33</th>\n",
              "      <td>21</td>\n",
              "      <td>0.525996</td>\n",
              "    </tr>\n",
              "    <tr>\n",
              "      <th>34</th>\n",
              "      <td>26</td>\n",
              "      <td>0.564982</td>\n",
              "    </tr>\n",
              "    <tr>\n",
              "      <th>35</th>\n",
              "      <td>27</td>\n",
              "      <td>0.599134</td>\n",
              "    </tr>\n",
              "    <tr>\n",
              "      <th>36</th>\n",
              "      <td>28</td>\n",
              "      <td>1.119507</td>\n",
              "    </tr>\n",
              "    <tr>\n",
              "      <th>37</th>\n",
              "      <td>29</td>\n",
              "      <td>12.898485</td>\n",
              "    </tr>\n",
              "    <tr>\n",
              "      <th>38</th>\n",
              "      <td>30</td>\n",
              "      <td>14.152589</td>\n",
              "    </tr>\n",
              "  </tbody>\n",
              "</table>\n",
              "</div>\n",
              "      <button class=\"colab-df-convert\" onclick=\"convertToInteractive('df-5d877c27-2689-4576-8b5a-96aa4b3e41a2')\"\n",
              "              title=\"Convert this dataframe to an interactive table.\"\n",
              "              style=\"display:none;\">\n",
              "        \n",
              "  <svg xmlns=\"http://www.w3.org/2000/svg\" height=\"24px\"viewBox=\"0 0 24 24\"\n",
              "       width=\"24px\">\n",
              "    <path d=\"M0 0h24v24H0V0z\" fill=\"none\"/>\n",
              "    <path d=\"M18.56 5.44l.94 2.06.94-2.06 2.06-.94-2.06-.94-.94-2.06-.94 2.06-2.06.94zm-11 1L8.5 8.5l.94-2.06 2.06-.94-2.06-.94L8.5 2.5l-.94 2.06-2.06.94zm10 10l.94 2.06.94-2.06 2.06-.94-2.06-.94-.94-2.06-.94 2.06-2.06.94z\"/><path d=\"M17.41 7.96l-1.37-1.37c-.4-.4-.92-.59-1.43-.59-.52 0-1.04.2-1.43.59L10.3 9.45l-7.72 7.72c-.78.78-.78 2.05 0 2.83L4 21.41c.39.39.9.59 1.41.59.51 0 1.02-.2 1.41-.59l7.78-7.78 2.81-2.81c.8-.78.8-2.07 0-2.86zM5.41 20L4 18.59l7.72-7.72 1.47 1.35L5.41 20z\"/>\n",
              "  </svg>\n",
              "      </button>\n",
              "      \n",
              "  <style>\n",
              "    .colab-df-container {\n",
              "      display:flex;\n",
              "      flex-wrap:wrap;\n",
              "      gap: 12px;\n",
              "    }\n",
              "\n",
              "    .colab-df-convert {\n",
              "      background-color: #E8F0FE;\n",
              "      border: none;\n",
              "      border-radius: 50%;\n",
              "      cursor: pointer;\n",
              "      display: none;\n",
              "      fill: #1967D2;\n",
              "      height: 32px;\n",
              "      padding: 0 0 0 0;\n",
              "      width: 32px;\n",
              "    }\n",
              "\n",
              "    .colab-df-convert:hover {\n",
              "      background-color: #E2EBFA;\n",
              "      box-shadow: 0px 1px 2px rgba(60, 64, 67, 0.3), 0px 1px 3px 1px rgba(60, 64, 67, 0.15);\n",
              "      fill: #174EA6;\n",
              "    }\n",
              "\n",
              "    [theme=dark] .colab-df-convert {\n",
              "      background-color: #3B4455;\n",
              "      fill: #D2E3FC;\n",
              "    }\n",
              "\n",
              "    [theme=dark] .colab-df-convert:hover {\n",
              "      background-color: #434B5C;\n",
              "      box-shadow: 0px 1px 3px 1px rgba(0, 0, 0, 0.15);\n",
              "      filter: drop-shadow(0px 1px 2px rgba(0, 0, 0, 0.3));\n",
              "      fill: #FFFFFF;\n",
              "    }\n",
              "  </style>\n",
              "\n",
              "      <script>\n",
              "        const buttonEl =\n",
              "          document.querySelector('#df-5d877c27-2689-4576-8b5a-96aa4b3e41a2 button.colab-df-convert');\n",
              "        buttonEl.style.display =\n",
              "          google.colab.kernel.accessAllowed ? 'block' : 'none';\n",
              "\n",
              "        async function convertToInteractive(key) {\n",
              "          const element = document.querySelector('#df-5d877c27-2689-4576-8b5a-96aa4b3e41a2');\n",
              "          const dataTable =\n",
              "            await google.colab.kernel.invokeFunction('convertToInteractive',\n",
              "                                                     [key], {});\n",
              "          if (!dataTable) return;\n",
              "\n",
              "          const docLinkHtml = 'Like what you see? Visit the ' +\n",
              "            '<a target=\"_blank\" href=https://colab.research.google.com/notebooks/data_table.ipynb>data table notebook</a>'\n",
              "            + ' to learn more about interactive tables.';\n",
              "          element.innerHTML = '';\n",
              "          dataTable['output_type'] = 'display_data';\n",
              "          await google.colab.output.renderOutput(dataTable, element);\n",
              "          const docLink = document.createElement('div');\n",
              "          docLink.innerHTML = docLinkHtml;\n",
              "          element.appendChild(docLink);\n",
              "        }\n",
              "      </script>\n",
              "    </div>\n",
              "  </div>\n",
              "  "
            ]
          },
          "metadata": {},
          "execution_count": 13
        }
      ],
      "source": [
        "import numpy as np\n",
        "from sklearn.decomposition import PCA\n",
        "from sklearn.linear_model import LinearRegression\n",
        "from sklearn.model_selection import cross_val_score\n",
        "\n",
        "pca = PCA()\n",
        "x_train_reduced = pca.fit_transform(x_train)\n",
        "pca_errors = {}\n",
        "\n",
        "pca_errors[0] = 0 - cross_val_score(LinearRegression(),\n",
        "                                    np.ones((len(x_train_reduced), 1)),\n",
        "                                    y_train,\n",
        "                                    scoring=\"neg_mean_squared_error\").mean()\n",
        "\n",
        "for i in range(1,39):\n",
        "  score = cross_val_score(LinearRegression(),\n",
        "                          x_train_reduced[:, :i],\n",
        "                          y_train,\n",
        "                          scoring=\"neg_mean_squared_error\").mean()\n",
        "  pca_errors[i] = 0 - score\n",
        "\n",
        "pca_df = pd.DataFrame({\"M\" : pca_errors.keys(),\n",
        "                       \"MSE\" : pca_errors.values()})\n",
        "pca_df.sort_values(by=\"MSE\").reset_index(drop=True)"
      ]
    },
    {
      "cell_type": "code",
      "execution_count": null,
      "metadata": {
        "colab": {
          "base_uri": "https://localhost:8080/"
        },
        "id": "K2FfcCuLE7ET",
        "outputId": "f843ed2c-5924-4572-a38b-cf61a0d258e3"
      },
      "outputs": [
        {
          "output_type": "stream",
          "name": "stdout",
          "text": [
            "Principal Component Regression\n",
            " R^2 Score  0.7284760531622027 \n",
            " MSE:  0.06576704594687133\n"
          ]
        }
      ],
      "source": [
        "from sklearn.metrics import r2_score, mean_squared_error\n",
        "\n",
        "x_test_reduced = pca.transform(x_test)[:, :35]\n",
        "pcr = LinearRegression().fit(x_train_reduced[:, :35], y_train)\n",
        "print(\"Principal Component Regression\\n R^2 Score \",\n",
        "      r2_score(y_test, pcr.predict(x_test_reduced)),\n",
        "      \"\\n MSE: \",\n",
        "      mean_squared_error(y_test, pcr.predict(x_test_reduced)))"
      ]
    },
    {
      "cell_type": "markdown",
      "metadata": {
        "id": "1OWwKknvEi-Q"
      },
      "source": [
        "### Logistic Regression"
      ]
    },
    {
      "cell_type": "code",
      "execution_count": null,
      "metadata": {
        "id": "rCh9-0nsFTBx"
      },
      "outputs": [],
      "source": [
        "from sklearn.linear_model import LogisticRegression\n",
        "from sklearn.metrics import classification_report, confusion_matrix, ConfusionMatrixDisplay, mean_squared_error\n",
        "import matplotlib.pyplot as plt\n",
        "import numpy as np"
      ]
    },
    {
      "cell_type": "code",
      "execution_count": null,
      "metadata": {
        "colab": {
          "base_uri": "https://localhost:8080/",
          "height": 74
        },
        "id": "9smDjom7gU2g",
        "outputId": "805852e6-380f-4219-a76d-1d365dbc6476"
      },
      "outputs": [
        {
          "output_type": "execute_result",
          "data": {
            "text/plain": [
              "LogisticRegression()"
            ],
            "text/html": [
              "<style>#sk-container-id-1 {color: black;background-color: white;}#sk-container-id-1 pre{padding: 0;}#sk-container-id-1 div.sk-toggleable {background-color: white;}#sk-container-id-1 label.sk-toggleable__label {cursor: pointer;display: block;width: 100%;margin-bottom: 0;padding: 0.3em;box-sizing: border-box;text-align: center;}#sk-container-id-1 label.sk-toggleable__label-arrow:before {content: \"▸\";float: left;margin-right: 0.25em;color: #696969;}#sk-container-id-1 label.sk-toggleable__label-arrow:hover:before {color: black;}#sk-container-id-1 div.sk-estimator:hover label.sk-toggleable__label-arrow:before {color: black;}#sk-container-id-1 div.sk-toggleable__content {max-height: 0;max-width: 0;overflow: hidden;text-align: left;background-color: #f0f8ff;}#sk-container-id-1 div.sk-toggleable__content pre {margin: 0.2em;color: black;border-radius: 0.25em;background-color: #f0f8ff;}#sk-container-id-1 input.sk-toggleable__control:checked~div.sk-toggleable__content {max-height: 200px;max-width: 100%;overflow: auto;}#sk-container-id-1 input.sk-toggleable__control:checked~label.sk-toggleable__label-arrow:before {content: \"▾\";}#sk-container-id-1 div.sk-estimator input.sk-toggleable__control:checked~label.sk-toggleable__label {background-color: #d4ebff;}#sk-container-id-1 div.sk-label input.sk-toggleable__control:checked~label.sk-toggleable__label {background-color: #d4ebff;}#sk-container-id-1 input.sk-hidden--visually {border: 0;clip: rect(1px 1px 1px 1px);clip: rect(1px, 1px, 1px, 1px);height: 1px;margin: -1px;overflow: hidden;padding: 0;position: absolute;width: 1px;}#sk-container-id-1 div.sk-estimator {font-family: monospace;background-color: #f0f8ff;border: 1px dotted black;border-radius: 0.25em;box-sizing: border-box;margin-bottom: 0.5em;}#sk-container-id-1 div.sk-estimator:hover {background-color: #d4ebff;}#sk-container-id-1 div.sk-parallel-item::after {content: \"\";width: 100%;border-bottom: 1px solid gray;flex-grow: 1;}#sk-container-id-1 div.sk-label:hover label.sk-toggleable__label {background-color: #d4ebff;}#sk-container-id-1 div.sk-serial::before {content: \"\";position: absolute;border-left: 1px solid gray;box-sizing: border-box;top: 0;bottom: 0;left: 50%;z-index: 0;}#sk-container-id-1 div.sk-serial {display: flex;flex-direction: column;align-items: center;background-color: white;padding-right: 0.2em;padding-left: 0.2em;position: relative;}#sk-container-id-1 div.sk-item {position: relative;z-index: 1;}#sk-container-id-1 div.sk-parallel {display: flex;align-items: stretch;justify-content: center;background-color: white;position: relative;}#sk-container-id-1 div.sk-item::before, #sk-container-id-1 div.sk-parallel-item::before {content: \"\";position: absolute;border-left: 1px solid gray;box-sizing: border-box;top: 0;bottom: 0;left: 50%;z-index: -1;}#sk-container-id-1 div.sk-parallel-item {display: flex;flex-direction: column;z-index: 1;position: relative;background-color: white;}#sk-container-id-1 div.sk-parallel-item:first-child::after {align-self: flex-end;width: 50%;}#sk-container-id-1 div.sk-parallel-item:last-child::after {align-self: flex-start;width: 50%;}#sk-container-id-1 div.sk-parallel-item:only-child::after {width: 0;}#sk-container-id-1 div.sk-dashed-wrapped {border: 1px dashed gray;margin: 0 0.4em 0.5em 0.4em;box-sizing: border-box;padding-bottom: 0.4em;background-color: white;}#sk-container-id-1 div.sk-label label {font-family: monospace;font-weight: bold;display: inline-block;line-height: 1.2em;}#sk-container-id-1 div.sk-label-container {text-align: center;}#sk-container-id-1 div.sk-container {/* jupyter's `normalize.less` sets `[hidden] { display: none; }` but bootstrap.min.css set `[hidden] { display: none !important; }` so we also need the `!important` here to be able to override the default hidden behavior on the sphinx rendered scikit-learn.org. See: https://github.com/scikit-learn/scikit-learn/issues/21755 */display: inline-block !important;position: relative;}#sk-container-id-1 div.sk-text-repr-fallback {display: none;}</style><div id=\"sk-container-id-1\" class=\"sk-top-container\"><div class=\"sk-text-repr-fallback\"><pre>LogisticRegression()</pre><b>In a Jupyter environment, please rerun this cell to show the HTML representation or trust the notebook. <br />On GitHub, the HTML representation is unable to render, please try loading this page with nbviewer.org.</b></div><div class=\"sk-container\" hidden><div class=\"sk-item\"><div class=\"sk-estimator sk-toggleable\"><input class=\"sk-toggleable__control sk-hidden--visually\" id=\"sk-estimator-id-1\" type=\"checkbox\" checked><label for=\"sk-estimator-id-1\" class=\"sk-toggleable__label sk-toggleable__label-arrow\">LogisticRegression</label><div class=\"sk-toggleable__content\"><pre>LogisticRegression()</pre></div></div></div></div></div>"
            ]
          },
          "metadata": {},
          "execution_count": 16
        }
      ],
      "source": [
        "logreg = LogisticRegression()\n",
        "logreg.fit(x_train, y_train)"
      ]
    },
    {
      "cell_type": "code",
      "execution_count": null,
      "metadata": {
        "colab": {
          "base_uri": "https://localhost:8080/"
        },
        "id": "ImdJcZkhGVp5",
        "outputId": "9428857e-0eaf-43dd-f60f-b21f4bb6927c"
      },
      "outputs": [
        {
          "output_type": "stream",
          "name": "stdout",
          "text": [
            "              precision    recall  f1-score   support\n",
            "\n",
            "       False       0.93      1.00      0.97        14\n",
            "        True       1.00      0.95      0.97        20\n",
            "\n",
            "    accuracy                           0.97        34\n",
            "   macro avg       0.97      0.97      0.97        34\n",
            "weighted avg       0.97      0.97      0.97        34\n",
            "\n"
          ]
        }
      ],
      "source": [
        "predictions = logreg.predict(x_test)\n",
        "print(classification_report(y_test, predictions))"
      ]
    },
    {
      "cell_type": "code",
      "execution_count": null,
      "metadata": {
        "colab": {
          "base_uri": "https://localhost:8080/",
          "height": 449
        },
        "id": "gwoGv3V4F3gK",
        "outputId": "6e292864-955f-4bf4-c5f6-ed62293b9315"
      },
      "outputs": [
        {
          "output_type": "display_data",
          "data": {
            "text/plain": [
              "<Figure size 640x480 with 2 Axes>"
            ],
            "image/png": "[encoded data removed]"
          },
          "metadata": {}
        }
      ],
      "source": [
        "plt.show(ConfusionMatrixDisplay(confusion_matrix = confusion_matrix(y_test, predictions), display_labels = [False, True]).plot())"
      ]
    },
    {
      "cell_type": "markdown",
      "metadata": {
        "id": "1yBnO2vPrvJv"
      },
      "source": [
        "### Logistic Regression with dimension reduction by PCA"
      ]
    },
    {
      "cell_type": "code",
      "execution_count": null,
      "metadata": {
        "colab": {
          "base_uri": "https://localhost:8080/",
          "height": 74
        },
        "id": "JBKXGkFmmTGS",
        "outputId": "2086acd7-d9f2-4db8-c3c4-cd6fb6da5fc6"
      },
      "outputs": [
        {
          "output_type": "execute_result",
          "data": {
            "text/plain": [
              "LogisticRegression()"
            ],
            "text/html": [
              "<style>#sk-container-id-2 {color: black;background-color: white;}#sk-container-id-2 pre{padding: 0;}#sk-container-id-2 div.sk-toggleable {background-color: white;}#sk-container-id-2 label.sk-toggleable__label {cursor: pointer;display: block;width: 100%;margin-bottom: 0;padding: 0.3em;box-sizing: border-box;text-align: center;}#sk-container-id-2 label.sk-toggleable__label-arrow:before {content: \"▸\";float: left;margin-right: 0.25em;color: #696969;}#sk-container-id-2 label.sk-toggleable__label-arrow:hover:before {color: black;}#sk-container-id-2 div.sk-estimator:hover label.sk-toggleable__label-arrow:before {color: black;}#sk-container-id-2 div.sk-toggleable__content {max-height: 0;max-width: 0;overflow: hidden;text-align: left;background-color: #f0f8ff;}#sk-container-id-2 div.sk-toggleable__content pre {margin: 0.2em;color: black;border-radius: 0.25em;background-color: #f0f8ff;}#sk-container-id-2 input.sk-toggleable__control:checked~div.sk-toggleable__content {max-height: 200px;max-width: 100%;overflow: auto;}#sk-container-id-2 input.sk-toggleable__control:checked~label.sk-toggleable__label-arrow:before {content: \"▾\";}#sk-container-id-2 div.sk-estimator input.sk-toggleable__control:checked~label.sk-toggleable__label {background-color: #d4ebff;}#sk-container-id-2 div.sk-label input.sk-toggleable__control:checked~label.sk-toggleable__label {background-color: #d4ebff;}#sk-container-id-2 input.sk-hidden--visually {border: 0;clip: rect(1px 1px 1px 1px);clip: rect(1px, 1px, 1px, 1px);height: 1px;margin: -1px;overflow: hidden;padding: 0;position: absolute;width: 1px;}#sk-container-id-2 div.sk-estimator {font-family: monospace;background-color: #f0f8ff;border: 1px dotted black;border-radius: 0.25em;box-sizing: border-box;margin-bottom: 0.5em;}#sk-container-id-2 div.sk-estimator:hover {background-color: #d4ebff;}#sk-container-id-2 div.sk-parallel-item::after {content: \"\";width: 100%;border-bottom: 1px solid gray;flex-grow: 1;}#sk-container-id-2 div.sk-label:hover label.sk-toggleable__label {background-color: #d4ebff;}#sk-container-id-2 div.sk-serial::before {content: \"\";position: absolute;border-left: 1px solid gray;box-sizing: border-box;top: 0;bottom: 0;left: 50%;z-index: 0;}#sk-container-id-2 div.sk-serial {display: flex;flex-direction: column;align-items: center;background-color: white;padding-right: 0.2em;padding-left: 0.2em;position: relative;}#sk-container-id-2 div.sk-item {position: relative;z-index: 1;}#sk-container-id-2 div.sk-parallel {display: flex;align-items: stretch;justify-content: center;background-color: white;position: relative;}#sk-container-id-2 div.sk-item::before, #sk-container-id-2 div.sk-parallel-item::before {content: \"\";position: absolute;border-left: 1px solid gray;box-sizing: border-box;top: 0;bottom: 0;left: 50%;z-index: -1;}#sk-container-id-2 div.sk-parallel-item {display: flex;flex-direction: column;z-index: 1;position: relative;background-color: white;}#sk-container-id-2 div.sk-parallel-item:first-child::after {align-self: flex-end;width: 50%;}#sk-container-id-2 div.sk-parallel-item:last-child::after {align-self: flex-start;width: 50%;}#sk-container-id-2 div.sk-parallel-item:only-child::after {width: 0;}#sk-container-id-2 div.sk-dashed-wrapped {border: 1px dashed gray;margin: 0 0.4em 0.5em 0.4em;box-sizing: border-box;padding-bottom: 0.4em;background-color: white;}#sk-container-id-2 div.sk-label label {font-family: monospace;font-weight: bold;display: inline-block;line-height: 1.2em;}#sk-container-id-2 div.sk-label-container {text-align: center;}#sk-container-id-2 div.sk-container {/* jupyter's `normalize.less` sets `[hidden] { display: none; }` but bootstrap.min.css set `[hidden] { display: none !important; }` so we also need the `!important` here to be able to override the default hidden behavior on the sphinx rendered scikit-learn.org. See: https://github.com/scikit-learn/scikit-learn/issues/21755 */display: inline-block !important;position: relative;}#sk-container-id-2 div.sk-text-repr-fallback {display: none;}</style><div id=\"sk-container-id-2\" class=\"sk-top-container\"><div class=\"sk-text-repr-fallback\"><pre>LogisticRegression()</pre><b>In a Jupyter environment, please rerun this cell to show the HTML representation or trust the notebook. <br />On GitHub, the HTML representation is unable to render, please try loading this page with nbviewer.org.</b></div><div class=\"sk-container\" hidden><div class=\"sk-item\"><div class=\"sk-estimator sk-toggleable\"><input class=\"sk-toggleable__control sk-hidden--visually\" id=\"sk-estimator-id-2\" type=\"checkbox\" checked><label for=\"sk-estimator-id-2\" class=\"sk-toggleable__label sk-toggleable__label-arrow\">LogisticRegression</label><div class=\"sk-toggleable__content\"><pre>LogisticRegression()</pre></div></div></div></div></div>"
            ]
          },
          "metadata": {},
          "execution_count": 19
        }
      ],
      "source": [
        "logreg = LogisticRegression()\n",
        "logreg.fit(pd.DataFrame(x_train_reduced[:, :35]), y_train)"
      ]
    },
    {
      "cell_type": "code",
      "execution_count": null,
      "metadata": {
        "colab": {
          "base_uri": "https://localhost:8080/"
        },
        "id": "s2jxQTpEqJ7H",
        "outputId": "13ba7215-57cd-48ee-bccc-744dc088d5d9"
      },
      "outputs": [
        {
          "output_type": "stream",
          "name": "stdout",
          "text": [
            "              precision    recall  f1-score   support\n",
            "\n",
            "       False       0.78      1.00      0.88        14\n",
            "        True       1.00      0.80      0.89        20\n",
            "\n",
            "    accuracy                           0.88        34\n",
            "   macro avg       0.89      0.90      0.88        34\n",
            "weighted avg       0.91      0.88      0.88        34\n",
            "\n"
          ]
        }
      ],
      "source": [
        "predictions = logreg.predict(pd.DataFrame(x_test_reduced[:, :35]))\n",
        "print(classification_report(y_test, predictions))"
      ]
    },
    {
      "cell_type": "code",
      "execution_count": null,
      "metadata": {
        "colab": {
          "base_uri": "https://localhost:8080/",
          "height": 455
        },
        "id": "qPFyRsbHqGKz",
        "outputId": "1211675f-3824-42ec-a8d4-69054bee387c"
      },
      "outputs": [
        {
          "output_type": "display_data",
          "data": {
            "text/plain": [
              "<Figure size 640x480 with 2 Axes>"
            ],
            "image/png": "[encoded data removed]"
          },
          "metadata": {}
        }
      ],
      "source": [
        "plt.show(ConfusionMatrixDisplay(confusion_matrix = confusion_matrix(y_test, predictions), display_labels = [False, True]).plot())"
      ]
    },
    {
      "cell_type": "markdown",
      "metadata": {
        "id": "7_7bKTqnEtqM"
      },
      "source": [
        "### Random Forest Classifier"
      ]
    },
    {
      "cell_type": "code",
      "execution_count": null,
      "metadata": {
        "id": "jAsWKdgxHwHb"
      },
      "outputs": [],
      "source": [
        "import sklearn.metrics as skmetrics\n",
        "import sklearn.ensemble as ske\n",
        "import sklearn.model_selection as skm"
      ]
    },
    {
      "cell_type": "code",
      "execution_count": null,
      "metadata": {
        "colab": {
          "base_uri": "https://localhost:8080/",
          "height": 502
        },
        "id": "cEK1e5ABHkR2",
        "outputId": "dc1634e6-b738-42ff-8a34-4afc85740b68"
      },
      "outputs": [
        {
          "output_type": "stream",
          "name": "stdout",
          "text": [
            "\n",
            "Feature Importance\n"
          ]
        },
        {
          "output_type": "display_data",
          "data": {
            "text/plain": [
              "                                                feature  importance\n",
              "2287             DF D component of complement (adipsin)    0.025586\n",
              "1119  SNRPN Small nuclear ribonucleoprotein polypept...    0.022712\n",
              "1806                                  Neuromedin B mRNA    0.022376\n",
              "1143  SPTAN1 Spectrin; alpha; non-erythrocytic 1 (al...    0.020000\n",
              "5038                               LEPR Leptin receptor    0.017276\n",
              "5898  Rhesus (Rh) Blood Group System Ce-Antigen; Alt...    0.016782\n",
              "234                                       KIAA0022 gene    0.015921\n",
              "2885                         Transmembrane protein mRNA    0.015440\n",
              "1845                          CTRB1 Chymotrypsinogen B1    0.012494\n",
              "3257  Phosphotyrosine independent ligand p62 for the...    0.012159"
            ],
            "text/html": [
              "\n",
              "  <div id=\"df-379ed070-5c64-4ee9-8353-8f471dbca5a0\">\n",
              "    <div class=\"colab-df-container\">\n",
              "      <div>\n",
              "<style scoped>\n",
              "    .dataframe tbody tr th:only-of-type {\n",
              "        vertical-align: middle;\n",
              "    }\n",
              "\n",
              "    .dataframe tbody tr th {\n",
              "        vertical-align: top;\n",
              "    }\n",
              "\n",
              "    .dataframe thead th {\n",
              "        text-align: right;\n",
              "    }\n",
              "</style>\n",
              "<table border=\"1\" class=\"dataframe\">\n",
              "  <thead>\n",
              "    <tr style=\"text-align: right;\">\n",
              "      <th></th>\n",
              "      <th>feature</th>\n",
              "      <th>importance</th>\n",
              "    </tr>\n",
              "  </thead>\n",
              "  <tbody>\n",
              "    <tr>\n",
              "      <th>2287</th>\n",
              "      <td>DF D component of complement (adipsin)</td>\n",
              "      <td>0.025586</td>\n",
              "    </tr>\n",
              "    <tr>\n",
              "      <th>1119</th>\n",
              "      <td>SNRPN Small nuclear ribonucleoprotein polypept...</td>\n",
              "      <td>0.022712</td>\n",
              "    </tr>\n",
              "    <tr>\n",
              "      <th>1806</th>\n",
              "      <td>Neuromedin B mRNA</td>\n",
              "      <td>0.022376</td>\n",
              "    </tr>\n",
              "    <tr>\n",
              "      <th>1143</th>\n",
              "      <td>SPTAN1 Spectrin; alpha; non-erythrocytic 1 (al...</td>\n",
              "      <td>0.020000</td>\n",
              "    </tr>\n",
              "    <tr>\n",
              "      <th>5038</th>\n",
              "      <td>LEPR Leptin receptor</td>\n",
              "      <td>0.017276</td>\n",
              "    </tr>\n",
              "    <tr>\n",
              "      <th>5898</th>\n",
              "      <td>Rhesus (Rh) Blood Group System Ce-Antigen; Alt...</td>\n",
              "      <td>0.016782</td>\n",
              "    </tr>\n",
              "    <tr>\n",
              "      <th>234</th>\n",
              "      <td>KIAA0022 gene</td>\n",
              "      <td>0.015921</td>\n",
              "    </tr>\n",
              "    <tr>\n",
              "      <th>2885</th>\n",
              "      <td>Transmembrane protein mRNA</td>\n",
              "      <td>0.015440</td>\n",
              "    </tr>\n",
              "    <tr>\n",
              "      <th>1845</th>\n",
              "      <td>CTRB1 Chymotrypsinogen B1</td>\n",
              "      <td>0.012494</td>\n",
              "    </tr>\n",
              "    <tr>\n",
              "      <th>3257</th>\n",
              "      <td>Phosphotyrosine independent ligand p62 for the...</td>\n",
              "      <td>0.012159</td>\n",
              "    </tr>\n",
              "  </tbody>\n",
              "</table>\n",
              "</div>\n",
              "      <button class=\"colab-df-convert\" onclick=\"convertToInteractive('df-379ed070-5c64-4ee9-8353-8f471dbca5a0')\"\n",
              "              title=\"Convert this dataframe to an interactive table.\"\n",
              "              style=\"display:none;\">\n",
              "        \n",
              "  <svg xmlns=\"http://www.w3.org/2000/svg\" height=\"24px\"viewBox=\"0 0 24 24\"\n",
              "       width=\"24px\">\n",
              "    <path d=\"M0 0h24v24H0V0z\" fill=\"none\"/>\n",
              "    <path d=\"M18.56 5.44l.94 2.06.94-2.06 2.06-.94-2.06-.94-.94-2.06-.94 2.06-2.06.94zm-11 1L8.5 8.5l.94-2.06 2.06-.94-2.06-.94L8.5 2.5l-.94 2.06-2.06.94zm10 10l.94 2.06.94-2.06 2.06-.94-2.06-.94-.94-2.06-.94 2.06-2.06.94z\"/><path d=\"M17.41 7.96l-1.37-1.37c-.4-.4-.92-.59-1.43-.59-.52 0-1.04.2-1.43.59L10.3 9.45l-7.72 7.72c-.78.78-.78 2.05 0 2.83L4 21.41c.39.39.9.59 1.41.59.51 0 1.02-.2 1.41-.59l7.78-7.78 2.81-2.81c.8-.78.8-2.07 0-2.86zM5.41 20L4 18.59l7.72-7.72 1.47 1.35L5.41 20z\"/>\n",
              "  </svg>\n",
              "      </button>\n",
              "      \n",
              "  <style>\n",
              "    .colab-df-container {\n",
              "      display:flex;\n",
              "      flex-wrap:wrap;\n",
              "      gap: 12px;\n",
              "    }\n",
              "\n",
              "    .colab-df-convert {\n",
              "      background-color: #E8F0FE;\n",
              "      border: none;\n",
              "      border-radius: 50%;\n",
              "      cursor: pointer;\n",
              "      display: none;\n",
              "      fill: #1967D2;\n",
              "      height: 32px;\n",
              "      padding: 0 0 0 0;\n",
              "      width: 32px;\n",
              "    }\n",
              "\n",
              "    .colab-df-convert:hover {\n",
              "      background-color: #E2EBFA;\n",
              "      box-shadow: 0px 1px 2px rgba(60, 64, 67, 0.3), 0px 1px 3px 1px rgba(60, 64, 67, 0.15);\n",
              "      fill: #174EA6;\n",
              "    }\n",
              "\n",
              "    [theme=dark] .colab-df-convert {\n",
              "      background-color: #3B4455;\n",
              "      fill: #D2E3FC;\n",
              "    }\n",
              "\n",
              "    [theme=dark] .colab-df-convert:hover {\n",
              "      background-color: #434B5C;\n",
              "      box-shadow: 0px 1px 3px 1px rgba(0, 0, 0, 0.15);\n",
              "      filter: drop-shadow(0px 1px 2px rgba(0, 0, 0, 0.3));\n",
              "      fill: #FFFFFF;\n",
              "    }\n",
              "  </style>\n",
              "\n",
              "      <script>\n",
              "        const buttonEl =\n",
              "          document.querySelector('#df-379ed070-5c64-4ee9-8353-8f471dbca5a0 button.colab-df-convert');\n",
              "        buttonEl.style.display =\n",
              "          google.colab.kernel.accessAllowed ? 'block' : 'none';\n",
              "\n",
              "        async function convertToInteractive(key) {\n",
              "          const element = document.querySelector('#df-379ed070-5c64-4ee9-8353-8f471dbca5a0');\n",
              "          const dataTable =\n",
              "            await google.colab.kernel.invokeFunction('convertToInteractive',\n",
              "                                                     [key], {});\n",
              "          if (!dataTable) return;\n",
              "\n",
              "          const docLinkHtml = 'Like what you see? Visit the ' +\n",
              "            '<a target=\"_blank\" href=https://colab.research.google.com/notebooks/data_table.ipynb>data table notebook</a>'\n",
              "            + ' to learn more about interactive tables.';\n",
              "          element.innerHTML = '';\n",
              "          dataTable['output_type'] = 'display_data';\n",
              "          await google.colab.output.renderOutput(dataTable, element);\n",
              "          const docLink = document.createElement('div');\n",
              "          docLink.innerHTML = docLinkHtml;\n",
              "          element.appendChild(docLink);\n",
              "        }\n",
              "      </script>\n",
              "    </div>\n",
              "  </div>\n",
              "  "
            ]
          },
          "metadata": {}
        },
        {
          "output_type": "stream",
          "name": "stdout",
          "text": [
            "Train error: 0.0\n",
            "Test error: 0.23529411764705888\n",
            "Train F1: 1.0\n",
            "Test F1: 0.8333333333333333\n",
            "Train AUC: 1.0\n",
            "Test AUC: 0.7142857142857143\n"
          ]
        }
      ],
      "source": [
        "rfc = ske.RandomForestClassifier(random_state = 123)\n",
        "rfc.fit(x_train, y_train)\n",
        "predictions_train = rfc.predict(x_train)\n",
        "predictions_test = rfc.predict(x_test)\n",
        "train_error = 1 - skmetrics.accuracy_score(y_train, predictions_train)\n",
        "test_error = 1 - skmetrics.accuracy_score(y_test, predictions_test)\n",
        "train_f1 = skmetrics.f1_score(y_train, predictions_train)\n",
        "test_f1 = skmetrics.f1_score(y_test, predictions_test)\n",
        "train_auc = skmetrics.roc_auc_score(y_train, predictions_train)\n",
        "test_auc = skmetrics.roc_auc_score(y_test, predictions_test)\n",
        "print(\"\\nFeature Importance\")\n",
        "best_features = pd.DataFrame({\"feature\": x_train.columns, \"importance\": rfc.feature_importances_,}).sort_values(\"importance\", ascending = False)\n",
        "display(best_features.head(10))\n",
        "print(\"Train error: \" + str(train_error) + \"\\nTest error: \" + str(test_error) + \"\\nTrain F1: \" +  str(train_f1) + \"\\nTest F1: \" + str(test_f1) + \"\\nTrain AUC: \" + str(train_auc) + \"\\nTest AUC: \" + str(test_auc))"
      ]
    },
    {
      "cell_type": "code",
      "execution_count": null,
      "metadata": {
        "colab": {
          "base_uri": "https://localhost:8080/"
        },
        "id": "CaqdE6qZLsMQ",
        "outputId": "22db511e-1b93-45ba-9ce8-660122c8d517"
      },
      "outputs": [
        {
          "output_type": "stream",
          "name": "stdout",
          "text": [
            "Best parameters: \n",
            "{'min_samples_leaf': 2, 'min_samples_split': 9, 'n_estimators': 100}\n",
            "Best score: 0.9818181818181818\n"
          ]
        }
      ],
      "source": [
        "rfc = ske.RandomForestClassifier(random_state = 123)\n",
        "gscv = skm.GridSearchCV(rfc, {\"n_estimators\":[50, 100, 250, 500,], \"min_samples_split\":list(range(2,10)), \"min_samples_leaf\":list(range(2,10))}, scoring = 'f1')\n",
        "gscv.fit(x_train, y_train)\n",
        "print(\"Best parameters: \")\n",
        "print(gscv.best_params_)\n",
        "print(\"Best score: \" + str(gscv.best_score_))"
      ]
    },
    {
      "cell_type": "code",
      "execution_count": null,
      "metadata": {
        "colab": {
          "base_uri": "https://localhost:8080/",
          "height": 502
        },
        "id": "Cll2YoafNE8S",
        "outputId": "d312ca46-7817-4002-919e-b74ac8facfb2"
      },
      "outputs": [
        {
          "output_type": "stream",
          "name": "stdout",
          "text": [
            "\n",
            "Feature Importance\n"
          ]
        },
        {
          "output_type": "display_data",
          "data": {
            "text/plain": [
              "                                                feature  importance\n",
              "2287             DF D component of complement (adipsin)    0.027093\n",
              "1119  SNRPN Small nuclear ribonucleoprotein polypept...    0.024451\n",
              "1806                                  Neuromedin B mRNA    0.020000\n",
              "1143  SPTAN1 Spectrin; alpha; non-erythrocytic 1 (al...    0.020000\n",
              "5898  Rhesus (Rh) Blood Group System Ce-Antigen; Alt...    0.018851\n",
              "234                                       KIAA0022 gene    0.017618\n",
              "5038                               LEPR Leptin receptor    0.017276\n",
              "2885                         Transmembrane protein mRNA    0.017112\n",
              "3257  Phosphotyrosine independent ligand p62 for the...    0.013271\n",
              "1845                          CTRB1 Chymotrypsinogen B1    0.011900"
            ],
            "text/html": [
              "\n",
              "  <div id=\"df-7bcfc0fe-7b89-48f3-9f22-ac207cebf765\">\n",
              "    <div class=\"colab-df-container\">\n",
              "      <div>\n",
              "<style scoped>\n",
              "    .dataframe tbody tr th:only-of-type {\n",
              "        vertical-align: middle;\n",
              "    }\n",
              "\n",
              "    .dataframe tbody tr th {\n",
              "        vertical-align: top;\n",
              "    }\n",
              "\n",
              "    .dataframe thead th {\n",
              "        text-align: right;\n",
              "    }\n",
              "</style>\n",
              "<table border=\"1\" class=\"dataframe\">\n",
              "  <thead>\n",
              "    <tr style=\"text-align: right;\">\n",
              "      <th></th>\n",
              "      <th>feature</th>\n",
              "      <th>importance</th>\n",
              "    </tr>\n",
              "  </thead>\n",
              "  <tbody>\n",
              "    <tr>\n",
              "      <th>2287</th>\n",
              "      <td>DF D component of complement (adipsin)</td>\n",
              "      <td>0.027093</td>\n",
              "    </tr>\n",
              "    <tr>\n",
              "      <th>1119</th>\n",
              "      <td>SNRPN Small nuclear ribonucleoprotein polypept...</td>\n",
              "      <td>0.024451</td>\n",
              "    </tr>\n",
              "    <tr>\n",
              "      <th>1806</th>\n",
              "      <td>Neuromedin B mRNA</td>\n",
              "      <td>0.020000</td>\n",
              "    </tr>\n",
              "    <tr>\n",
              "      <th>1143</th>\n",
              "      <td>SPTAN1 Spectrin; alpha; non-erythrocytic 1 (al...</td>\n",
              "      <td>0.020000</td>\n",
              "    </tr>\n",
              "    <tr>\n",
              "      <th>5898</th>\n",
              "      <td>Rhesus (Rh) Blood Group System Ce-Antigen; Alt...</td>\n",
              "      <td>0.018851</td>\n",
              "    </tr>\n",
              "    <tr>\n",
              "      <th>234</th>\n",
              "      <td>KIAA0022 gene</td>\n",
              "      <td>0.017618</td>\n",
              "    </tr>\n",
              "    <tr>\n",
              "      <th>5038</th>\n",
              "      <td>LEPR Leptin receptor</td>\n",
              "      <td>0.017276</td>\n",
              "    </tr>\n",
              "    <tr>\n",
              "      <th>2885</th>\n",
              "      <td>Transmembrane protein mRNA</td>\n",
              "      <td>0.017112</td>\n",
              "    </tr>\n",
              "    <tr>\n",
              "      <th>3257</th>\n",
              "      <td>Phosphotyrosine independent ligand p62 for the...</td>\n",
              "      <td>0.013271</td>\n",
              "    </tr>\n",
              "    <tr>\n",
              "      <th>1845</th>\n",
              "      <td>CTRB1 Chymotrypsinogen B1</td>\n",
              "      <td>0.011900</td>\n",
              "    </tr>\n",
              "  </tbody>\n",
              "</table>\n",
              "</div>\n",
              "      <button class=\"colab-df-convert\" onclick=\"convertToInteractive('df-7bcfc0fe-7b89-48f3-9f22-ac207cebf765')\"\n",
              "              title=\"Convert this dataframe to an interactive table.\"\n",
              "              style=\"display:none;\">\n",
              "        \n",
              "  <svg xmlns=\"http://www.w3.org/2000/svg\" height=\"24px\"viewBox=\"0 0 24 24\"\n",
              "       width=\"24px\">\n",
              "    <path d=\"M0 0h24v24H0V0z\" fill=\"none\"/>\n",
              "    <path d=\"M18.56 5.44l.94 2.06.94-2.06 2.06-.94-2.06-.94-.94-2.06-.94 2.06-2.06.94zm-11 1L8.5 8.5l.94-2.06 2.06-.94-2.06-.94L8.5 2.5l-.94 2.06-2.06.94zm10 10l.94 2.06.94-2.06 2.06-.94-2.06-.94-.94-2.06-.94 2.06-2.06.94z\"/><path d=\"M17.41 7.96l-1.37-1.37c-.4-.4-.92-.59-1.43-.59-.52 0-1.04.2-1.43.59L10.3 9.45l-7.72 7.72c-.78.78-.78 2.05 0 2.83L4 21.41c.39.39.9.59 1.41.59.51 0 1.02-.2 1.41-.59l7.78-7.78 2.81-2.81c.8-.78.8-2.07 0-2.86zM5.41 20L4 18.59l7.72-7.72 1.47 1.35L5.41 20z\"/>\n",
              "  </svg>\n",
              "      </button>\n",
              "      \n",
              "  <style>\n",
              "    .colab-df-container {\n",
              "      display:flex;\n",
              "      flex-wrap:wrap;\n",
              "      gap: 12px;\n",
              "    }\n",
              "\n",
              "    .colab-df-convert {\n",
              "      background-color: #E8F0FE;\n",
              "      border: none;\n",
              "      border-radius: 50%;\n",
              "      cursor: pointer;\n",
              "      display: none;\n",
              "      fill: #1967D2;\n",
              "      height: 32px;\n",
              "      padding: 0 0 0 0;\n",
              "      width: 32px;\n",
              "    }\n",
              "\n",
              "    .colab-df-convert:hover {\n",
              "      background-color: #E2EBFA;\n",
              "      box-shadow: 0px 1px 2px rgba(60, 64, 67, 0.3), 0px 1px 3px 1px rgba(60, 64, 67, 0.15);\n",
              "      fill: #174EA6;\n",
              "    }\n",
              "\n",
              "    [theme=dark] .colab-df-convert {\n",
              "      background-color: #3B4455;\n",
              "      fill: #D2E3FC;\n",
              "    }\n",
              "\n",
              "    [theme=dark] .colab-df-convert:hover {\n",
              "      background-color: #434B5C;\n",
              "      box-shadow: 0px 1px 3px 1px rgba(0, 0, 0, 0.15);\n",
              "      filter: drop-shadow(0px 1px 2px rgba(0, 0, 0, 0.3));\n",
              "      fill: #FFFFFF;\n",
              "    }\n",
              "  </style>\n",
              "\n",
              "      <script>\n",
              "        const buttonEl =\n",
              "          document.querySelector('#df-7bcfc0fe-7b89-48f3-9f22-ac207cebf765 button.colab-df-convert');\n",
              "        buttonEl.style.display =\n",
              "          google.colab.kernel.accessAllowed ? 'block' : 'none';\n",
              "\n",
              "        async function convertToInteractive(key) {\n",
              "          const element = document.querySelector('#df-7bcfc0fe-7b89-48f3-9f22-ac207cebf765');\n",
              "          const dataTable =\n",
              "            await google.colab.kernel.invokeFunction('convertToInteractive',\n",
              "                                                     [key], {});\n",
              "          if (!dataTable) return;\n",
              "\n",
              "          const docLinkHtml = 'Like what you see? Visit the ' +\n",
              "            '<a target=\"_blank\" href=https://colab.research.google.com/notebooks/data_table.ipynb>data table notebook</a>'\n",
              "            + ' to learn more about interactive tables.';\n",
              "          element.innerHTML = '';\n",
              "          dataTable['output_type'] = 'display_data';\n",
              "          await google.colab.output.renderOutput(dataTable, element);\n",
              "          const docLink = document.createElement('div');\n",
              "          docLink.innerHTML = docLinkHtml;\n",
              "          element.appendChild(docLink);\n",
              "        }\n",
              "      </script>\n",
              "    </div>\n",
              "  </div>\n",
              "  "
            ]
          },
          "metadata": {}
        },
        {
          "output_type": "stream",
          "name": "stdout",
          "text": [
            "Train error: 0.0\n",
            "Test error: 0.2647058823529411\n",
            "Train F1: 1.0\n",
            "Test F1: 0.8163265306122449\n",
            "Train AUC: 1.0\n",
            "Test AUC: 0.6785714285714286\n"
          ]
        }
      ],
      "source": [
        "rfc = ske.RandomForestClassifier(n_estimators = 100, min_samples_leaf = 2, min_samples_split = 9, random_state = 123)\n",
        "rfc.fit(x_train, y_train)\n",
        "predictions_train = rfc.predict(x_train)\n",
        "predictions_test = rfc.predict(x_test)\n",
        "train_error = 1 - skmetrics.accuracy_score(y_train, predictions_train)\n",
        "test_error = 1 - skmetrics.accuracy_score(y_test, predictions_test)\n",
        "train_f1 = skmetrics.f1_score(y_train, predictions_train)\n",
        "test_f1 = skmetrics.f1_score(y_test, predictions_test)\n",
        "train_auc = skmetrics.roc_auc_score(y_train, predictions_train)\n",
        "test_auc = skmetrics.roc_auc_score(y_test, predictions_test)\n",
        "print(\"\\nFeature Importance\")\n",
        "display(pd.DataFrame({\"feature\": x_train.columns, \"importance\": rfc.feature_importances_,}).sort_values(\"importance\", ascending = False).head(10))\n",
        "print(\"Train error: \" + str(train_error) + \"\\nTest error: \" + str(test_error) + \"\\nTrain F1: \" +  str(train_f1) + \"\\nTest F1: \" + str(test_f1) + \"\\nTrain AUC: \" + str(train_auc) + \"\\nTest AUC: \" + str(test_auc))"
      ]
    },
    {
      "cell_type": "code",
      "execution_count": null,
      "metadata": {
        "id": "X34Bq1E08998"
      },
      "outputs": [],
      "source": [
        "best_features.to_csv(\"feature_importance.csv\")"
      ]
    },
    {
      "cell_type": "code",
      "execution_count": null,
      "metadata": {
        "colab": {
          "base_uri": "https://localhost:8080/",
          "height": 455
        },
        "id": "ybDb0IUz1t6g",
        "outputId": "69aa30b6-be95-40c9-fd49-6ac9c696a037"
      },
      "outputs": [
        {
          "output_type": "display_data",
          "data": {
            "text/plain": [
              "<Figure size 640x480 with 2 Axes>"
            ],
            "image/png": "[encoded data removed]"
          },
          "metadata": {}
        }
      ],
      "source": [
        "plt.show(ConfusionMatrixDisplay(confusion_matrix = confusion_matrix(y_test, predictions_test), display_labels = [False, True]).plot())"
      ]
    },
    {
      "cell_type": "markdown",
      "source": [
        "### Random Forest Classifier with Reduced Number of Features Using Feature Importances"
      ],
      "metadata": {
        "id": "bw20Yvpweevo"
      }
    },
    {
      "cell_type": "code",
      "source": [
        "for i in [10, 20, 30, 40, 50, 60, 70, 80, 90, 100]:\n",
        "  x_train_reduced = x_train.drop(best_features.iloc[i:][\"feature\"], axis = 1)\n",
        "  x_test_reduced = x_test.drop(best_features.iloc[i:][\"feature\"], axis = 1)\n",
        "  rfc = ske.RandomForestClassifier(random_state = 123)\n",
        "  rfc.fit(x_train_reduced, y_train)\n",
        "  predictions_train = rfc.predict(x_train_reduced)\n",
        "  predictions_test = rfc.predict(x_test_reduced)\n",
        "  train_error = 1 - skmetrics.accuracy_score(y_train, predictions_train)\n",
        "  test_error = 1 - skmetrics.accuracy_score(y_test, predictions_test)\n",
        "  train_f1 = skmetrics.f1_score(y_train, predictions_train)\n",
        "  test_f1 = skmetrics.f1_score(y_test, predictions_test)\n",
        "  train_auc = skmetrics.roc_auc_score(y_train, predictions_train)\n",
        "  test_auc = skmetrics.roc_auc_score(y_test, predictions_test)\n",
        "  print(\"Features: \" + str(i) + \"\\nTrain error: \" + str(train_error) + \"\\nTest error: \" + str(test_error) + \"\\nTrain F1: \" +  str(train_f1) + \"\\nTest F1: \" + str(test_f1) + \"\\nTrain AUC: \" + str(train_auc) + \"\\nTest AUC: \" + str(test_auc) + \"\\n\")"
      ],
      "metadata": {
        "colab": {
          "base_uri": "https://localhost:8080/"
        },
        "id": "EDksL0pjecM-",
        "outputId": "2502bd88-aecd-48d1-98fb-cc6b53638715"
      },
      "execution_count": null,
      "outputs": [
        {
          "output_type": "stream",
          "name": "stdout",
          "text": [
            "Features: 10\n",
            "Train error: 0.0\n",
            "Test error: 0.17647058823529416\n",
            "Train F1: 1.0\n",
            "Test F1: 0.8695652173913044\n",
            "Train AUC: 1.0\n",
            "Test AUC: 0.7857142857142857\n",
            "\n",
            "Features: 20\n",
            "Train error: 0.0\n",
            "Test error: 0.2647058823529411\n",
            "Train F1: 1.0\n",
            "Test F1: 0.8085106382978724\n",
            "Train AUC: 1.0\n",
            "Test AUC: 0.6892857142857143\n",
            "\n",
            "Features: 30\n",
            "Train error: 0.0\n",
            "Test error: 0.17647058823529416\n",
            "Train F1: 1.0\n",
            "Test F1: 0.8695652173913044\n",
            "Train AUC: 1.0\n",
            "Test AUC: 0.7857142857142857\n",
            "\n",
            "Features: 40\n",
            "Train error: 0.0\n",
            "Test error: 0.17647058823529416\n",
            "Train F1: 1.0\n",
            "Test F1: 0.8695652173913044\n",
            "Train AUC: 1.0\n",
            "Test AUC: 0.7857142857142857\n",
            "\n",
            "Features: 50\n",
            "Train error: 0.0\n",
            "Test error: 0.17647058823529416\n",
            "Train F1: 1.0\n",
            "Test F1: 0.8695652173913044\n",
            "Train AUC: 1.0\n",
            "Test AUC: 0.7857142857142857\n",
            "\n",
            "Features: 60\n",
            "Train error: 0.0\n",
            "Test error: 0.1470588235294118\n",
            "Train F1: 1.0\n",
            "Test F1: 0.888888888888889\n",
            "Train AUC: 1.0\n",
            "Test AUC: 0.8214285714285714\n",
            "\n",
            "Features: 70\n",
            "Train error: 0.0\n",
            "Test error: 0.1470588235294118\n",
            "Train F1: 1.0\n",
            "Test F1: 0.888888888888889\n",
            "Train AUC: 1.0\n",
            "Test AUC: 0.8214285714285714\n",
            "\n",
            "Features: 80\n",
            "Train error: 0.0\n",
            "Test error: 0.11764705882352944\n",
            "Train F1: 1.0\n",
            "Test F1: 0.9090909090909091\n",
            "Train AUC: 1.0\n",
            "Test AUC: 0.8571428571428572\n",
            "\n",
            "Features: 90\n",
            "Train error: 0.0\n",
            "Test error: 0.20588235294117652\n",
            "Train F1: 1.0\n",
            "Test F1: 0.851063829787234\n",
            "Train AUC: 1.0\n",
            "Test AUC: 0.75\n",
            "\n",
            "Features: 100\n",
            "Train error: 0.0\n",
            "Test error: 0.17647058823529416\n",
            "Train F1: 1.0\n",
            "Test F1: 0.8695652173913044\n",
            "Train AUC: 1.0\n",
            "Test AUC: 0.7857142857142857\n",
            "\n"
          ]
        }
      ]
    },
    {
      "cell_type": "code",
      "source": [
        "# Columns 80 and below were best so choose that set of features as train and test data\n",
        "x_train_reduced = x_train.drop(best_features.iloc[80:][\"feature\"], axis = 1)\n",
        "x_test_reduced = x_test.drop(best_features.iloc[80:][\"feature\"], axis = 1)"
      ],
      "metadata": {
        "id": "H8GwSlHLmOfy"
      },
      "execution_count": null,
      "outputs": []
    },
    {
      "cell_type": "code",
      "source": [
        "rfc = ske.RandomForestClassifier(random_state = 123)\n",
        "rfc.fit(x_train_reduced, y_train)\n",
        "predictions_train = rfc.predict(x_train_reduced)\n",
        "predictions_test = rfc.predict(x_test_reduced)\n",
        "train_error = 1 - skmetrics.accuracy_score(y_train, predictions_train)\n",
        "test_error = 1 - skmetrics.accuracy_score(y_test, predictions_test)\n",
        "train_f1 = skmetrics.f1_score(y_train, predictions_train)\n",
        "test_f1 = skmetrics.f1_score(y_test, predictions_test)\n",
        "train_auc = skmetrics.roc_auc_score(y_train, predictions_train)\n",
        "test_auc = skmetrics.roc_auc_score(y_test, predictions_test)\n",
        "print(\"Train error: \" + str(train_error) + \"\\nTest error: \" + str(test_error) + \"\\nTrain F1: \" +  str(train_f1) + \"\\nTest F1: \" + str(test_f1) + \"\\nTrain AUC: \" + str(train_auc) + \"\\nTest AUC: \" + str(test_auc))"
      ],
      "metadata": {
        "colab": {
          "base_uri": "https://localhost:8080/"
        },
        "id": "tJSptxHUfzY3",
        "outputId": "eb481809-c7c3-4995-f0cb-82db5ea4e351"
      },
      "execution_count": null,
      "outputs": [
        {
          "output_type": "stream",
          "name": "stdout",
          "text": [
            "Train error: 0.0\n",
            "Test error: 0.11764705882352944\n",
            "Train F1: 1.0\n",
            "Test F1: 0.9090909090909091\n",
            "Train AUC: 1.0\n",
            "Test AUC: 0.8571428571428572\n"
          ]
        }
      ]
    },
    {
      "cell_type": "code",
      "source": [
        "plt.show(ConfusionMatrixDisplay(confusion_matrix = confusion_matrix(y_test, predictions_test), display_labels = [False, True]).plot())"
      ],
      "metadata": {
        "colab": {
          "base_uri": "https://localhost:8080/",
          "height": 455
        },
        "id": "j4wB62C1f3Dl",
        "outputId": "a0a36483-2ae0-408b-94fc-e87499961268"
      },
      "execution_count": null,
      "outputs": [
        {
          "output_type": "display_data",
          "data": {
            "text/plain": [
              "<Figure size 640x480 with 2 Axes>"
            ],
            "image/png": "[encoded data removed]"
          },
          "metadata": {}
        }
      ]
    },
    {
      "cell_type": "markdown",
      "metadata": {
        "id": "tMoVR7ylr6Sg"
      },
      "source": [
        "### Random Forest Classifier with dimension reduction by PCA"
      ]
    },
    {
      "cell_type": "code",
      "execution_count": null,
      "metadata": {
        "colab": {
          "base_uri": "https://localhost:8080/",
          "height": 495
        },
        "id": "yB5I-fgVrKLG",
        "outputId": "c58ab095-da08-4ea9-b8dd-66733bbb0518"
      },
      "outputs": [
        {
          "output_type": "stream",
          "name": "stdout",
          "text": [
            "\n",
            "Feature Importance\n"
          ]
        },
        {
          "output_type": "display_data",
          "data": {
            "text/plain": [
              "    feature  importance\n",
              "1         1    0.163099\n",
              "0         0    0.074177\n",
              "18       18    0.060708\n",
              "15       15    0.052153\n",
              "4         4    0.052124\n",
              "6         6    0.047910\n",
              "23       23    0.038980\n",
              "21       21    0.037486\n",
              "11       11    0.031870\n",
              "22       22    0.030291"
            ],
            "text/html": [
              "\n",
              "  <div id=\"df-fcf3af66-61a2-4b38-b4bf-b9369a988932\">\n",
              "    <div class=\"colab-df-container\">\n",
              "      <div>\n",
              "<style scoped>\n",
              "    .dataframe tbody tr th:only-of-type {\n",
              "        vertical-align: middle;\n",
              "    }\n",
              "\n",
              "    .dataframe tbody tr th {\n",
              "        vertical-align: top;\n",
              "    }\n",
              "\n",
              "    .dataframe thead th {\n",
              "        text-align: right;\n",
              "    }\n",
              "</style>\n",
              "<table border=\"1\" class=\"dataframe\">\n",
              "  <thead>\n",
              "    <tr style=\"text-align: right;\">\n",
              "      <th></th>\n",
              "      <th>feature</th>\n",
              "      <th>importance</th>\n",
              "    </tr>\n",
              "  </thead>\n",
              "  <tbody>\n",
              "    <tr>\n",
              "      <th>1</th>\n",
              "      <td>1</td>\n",
              "      <td>0.163099</td>\n",
              "    </tr>\n",
              "    <tr>\n",
              "      <th>0</th>\n",
              "      <td>0</td>\n",
              "      <td>0.074177</td>\n",
              "    </tr>\n",
              "    <tr>\n",
              "      <th>18</th>\n",
              "      <td>18</td>\n",
              "      <td>0.060708</td>\n",
              "    </tr>\n",
              "    <tr>\n",
              "      <th>15</th>\n",
              "      <td>15</td>\n",
              "      <td>0.052153</td>\n",
              "    </tr>\n",
              "    <tr>\n",
              "      <th>4</th>\n",
              "      <td>4</td>\n",
              "      <td>0.052124</td>\n",
              "    </tr>\n",
              "    <tr>\n",
              "      <th>6</th>\n",
              "      <td>6</td>\n",
              "      <td>0.047910</td>\n",
              "    </tr>\n",
              "    <tr>\n",
              "      <th>23</th>\n",
              "      <td>23</td>\n",
              "      <td>0.038980</td>\n",
              "    </tr>\n",
              "    <tr>\n",
              "      <th>21</th>\n",
              "      <td>21</td>\n",
              "      <td>0.037486</td>\n",
              "    </tr>\n",
              "    <tr>\n",
              "      <th>11</th>\n",
              "      <td>11</td>\n",
              "      <td>0.031870</td>\n",
              "    </tr>\n",
              "    <tr>\n",
              "      <th>22</th>\n",
              "      <td>22</td>\n",
              "      <td>0.030291</td>\n",
              "    </tr>\n",
              "  </tbody>\n",
              "</table>\n",
              "</div>\n",
              "      <button class=\"colab-df-convert\" onclick=\"convertToInteractive('df-fcf3af66-61a2-4b38-b4bf-b9369a988932')\"\n",
              "              title=\"Convert this dataframe to an interactive table.\"\n",
              "              style=\"display:none;\">\n",
              "        \n",
              "  <svg xmlns=\"http://www.w3.org/2000/svg\" height=\"24px\"viewBox=\"0 0 24 24\"\n",
              "       width=\"24px\">\n",
              "    <path d=\"M0 0h24v24H0V0z\" fill=\"none\"/>\n",
              "    <path d=\"M18.56 5.44l.94 2.06.94-2.06 2.06-.94-2.06-.94-.94-2.06-.94 2.06-2.06.94zm-11 1L8.5 8.5l.94-2.06 2.06-.94-2.06-.94L8.5 2.5l-.94 2.06-2.06.94zm10 10l.94 2.06.94-2.06 2.06-.94-2.06-.94-.94-2.06-.94 2.06-2.06.94z\"/><path d=\"M17.41 7.96l-1.37-1.37c-.4-.4-.92-.59-1.43-.59-.52 0-1.04.2-1.43.59L10.3 9.45l-7.72 7.72c-.78.78-.78 2.05 0 2.83L4 21.41c.39.39.9.59 1.41.59.51 0 1.02-.2 1.41-.59l7.78-7.78 2.81-2.81c.8-.78.8-2.07 0-2.86zM5.41 20L4 18.59l7.72-7.72 1.47 1.35L5.41 20z\"/>\n",
              "  </svg>\n",
              "      </button>\n",
              "      \n",
              "  <style>\n",
              "    .colab-df-container {\n",
              "      display:flex;\n",
              "      flex-wrap:wrap;\n",
              "      gap: 12px;\n",
              "    }\n",
              "\n",
              "    .colab-df-convert {\n",
              "      background-color: #E8F0FE;\n",
              "      border: none;\n",
              "      border-radius: 50%;\n",
              "      cursor: pointer;\n",
              "      display: none;\n",
              "      fill: #1967D2;\n",
              "      height: 32px;\n",
              "      padding: 0 0 0 0;\n",
              "      width: 32px;\n",
              "    }\n",
              "\n",
              "    .colab-df-convert:hover {\n",
              "      background-color: #E2EBFA;\n",
              "      box-shadow: 0px 1px 2px rgba(60, 64, 67, 0.3), 0px 1px 3px 1px rgba(60, 64, 67, 0.15);\n",
              "      fill: #174EA6;\n",
              "    }\n",
              "\n",
              "    [theme=dark] .colab-df-convert {\n",
              "      background-color: #3B4455;\n",
              "      fill: #D2E3FC;\n",
              "    }\n",
              "\n",
              "    [theme=dark] .colab-df-convert:hover {\n",
              "      background-color: #434B5C;\n",
              "      box-shadow: 0px 1px 3px 1px rgba(0, 0, 0, 0.15);\n",
              "      filter: drop-shadow(0px 1px 2px rgba(0, 0, 0, 0.3));\n",
              "      fill: #FFFFFF;\n",
              "    }\n",
              "  </style>\n",
              "\n",
              "      <script>\n",
              "        const buttonEl =\n",
              "          document.querySelector('#df-fcf3af66-61a2-4b38-b4bf-b9369a988932 button.colab-df-convert');\n",
              "        buttonEl.style.display =\n",
              "          google.colab.kernel.accessAllowed ? 'block' : 'none';\n",
              "\n",
              "        async function convertToInteractive(key) {\n",
              "          const element = document.querySelector('#df-fcf3af66-61a2-4b38-b4bf-b9369a988932');\n",
              "          const dataTable =\n",
              "            await google.colab.kernel.invokeFunction('convertToInteractive',\n",
              "                                                     [key], {});\n",
              "          if (!dataTable) return;\n",
              "\n",
              "          const docLinkHtml = 'Like what you see? Visit the ' +\n",
              "            '<a target=\"_blank\" href=https://colab.research.google.com/notebooks/data_table.ipynb>data table notebook</a>'\n",
              "            + ' to learn more about interactive tables.';\n",
              "          element.innerHTML = '';\n",
              "          dataTable['output_type'] = 'display_data';\n",
              "          await google.colab.output.renderOutput(dataTable, element);\n",
              "          const docLink = document.createElement('div');\n",
              "          docLink.innerHTML = docLinkHtml;\n",
              "          element.appendChild(docLink);\n",
              "        }\n",
              "      </script>\n",
              "    </div>\n",
              "  </div>\n",
              "  "
            ]
          },
          "metadata": {}
        },
        {
          "output_type": "stream",
          "name": "stdout",
          "text": [
            "Train error: 0.0\n",
            "Test error: 0.23529411764705888\n",
            "Train F1: 1.0\n",
            "Test F1: 0.8260869565217392\n",
            "Train AUC: 1.0\n",
            "Test AUC: 0.725\n"
          ]
        }
      ],
      "source": [
        "rfc = ske.RandomForestClassifier(random_state = 123)\n",
        "rfc.fit(pd.DataFrame(x_train_reduced[:, :35]), y_train)\n",
        "predictions_train = rfc.predict(pd.DataFrame(x_train_reduced[:, :35]))\n",
        "predictions_test = rfc.predict(pd.DataFrame(x_test_reduced[:, :35]))\n",
        "train_error = 1 - skmetrics.accuracy_score(y_train, predictions_train)\n",
        "test_error = 1 - skmetrics.accuracy_score(y_test, predictions_test)\n",
        "train_f1 = skmetrics.f1_score(y_train, predictions_train)\n",
        "test_f1 = skmetrics.f1_score(y_test, predictions_test)\n",
        "train_auc = skmetrics.roc_auc_score(y_train, predictions_train)\n",
        "test_auc = skmetrics.roc_auc_score(y_test, predictions_test)\n",
        "print(\"\\nFeature Importance\")\n",
        "display(pd.DataFrame({\"feature\": pd.DataFrame(x_train_reduced[:, :35]).columns, \"importance\": rfc.feature_importances_,}).sort_values(\"importance\", ascending = False).head(10))\n",
        "print(\"Train error: \" + str(train_error) + \"\\nTest error: \" + str(test_error) + \"\\nTrain F1: \" +  str(train_f1) + \"\\nTest F1: \" + str(test_f1) + \"\\nTrain AUC: \" + str(train_auc) + \"\\nTest AUC: \" + str(test_auc))"
      ]
    },
    {
      "cell_type": "code",
      "execution_count": null,
      "metadata": {
        "id": "zHDVrqHYrK3o",
        "colab": {
          "base_uri": "https://localhost:8080/"
        },
        "outputId": "e6cd6cb8-05e2-4430-c564-d19bd9286d18"
      },
      "outputs": [
        {
          "output_type": "stream",
          "name": "stdout",
          "text": [
            "Best parameters: \n",
            "{'min_samples_leaf': 2, 'min_samples_split': 2, 'n_estimators': 100}\n",
            "Best score: 0.8432234432234431\n"
          ]
        }
      ],
      "source": [
        "rfc = ske.RandomForestClassifier(random_state = 123)\n",
        "gscv = skm.GridSearchCV(rfc, {\"n_estimators\":[50, 100, 250, 500,], \"min_samples_split\":list(range(2,10)), \"min_samples_leaf\":list(range(2,10))}, scoring = 'f1')\n",
        "gscv.fit(pd.DataFrame(x_train_reduced[:, :35]), y_train)\n",
        "print(\"Best parameters: \")\n",
        "print(gscv.best_params_)\n",
        "print(\"Best score: \" + str(gscv.best_score_))"
      ]
    },
    {
      "cell_type": "code",
      "execution_count": null,
      "metadata": {
        "id": "zLXPtMjlrLGA",
        "colab": {
          "base_uri": "https://localhost:8080/",
          "height": 495
        },
        "outputId": "88b53458-f4f6-44ef-e66f-1918a7235496"
      },
      "outputs": [
        {
          "output_type": "stream",
          "name": "stdout",
          "text": [
            "\n",
            "Feature Importance\n"
          ]
        },
        {
          "output_type": "display_data",
          "data": {
            "text/plain": [
              "    feature  importance\n",
              "1         1    0.180686\n",
              "0         0    0.082470\n",
              "6         6    0.057495\n",
              "4         4    0.055122\n",
              "18       18    0.052997\n",
              "15       15    0.051435\n",
              "21       21    0.041489\n",
              "23       23    0.029379\n",
              "11       11    0.028125\n",
              "2         2    0.025910"
            ],
            "text/html": [
              "\n",
              "  <div id=\"df-adf4cf48-4db2-41c5-ad14-c113a6b5ae49\">\n",
              "    <div class=\"colab-df-container\">\n",
              "      <div>\n",
              "<style scoped>\n",
              "    .dataframe tbody tr th:only-of-type {\n",
              "        vertical-align: middle;\n",
              "    }\n",
              "\n",
              "    .dataframe tbody tr th {\n",
              "        vertical-align: top;\n",
              "    }\n",
              "\n",
              "    .dataframe thead th {\n",
              "        text-align: right;\n",
              "    }\n",
              "</style>\n",
              "<table border=\"1\" class=\"dataframe\">\n",
              "  <thead>\n",
              "    <tr style=\"text-align: right;\">\n",
              "      <th></th>\n",
              "      <th>feature</th>\n",
              "      <th>importance</th>\n",
              "    </tr>\n",
              "  </thead>\n",
              "  <tbody>\n",
              "    <tr>\n",
              "      <th>1</th>\n",
              "      <td>1</td>\n",
              "      <td>0.180686</td>\n",
              "    </tr>\n",
              "    <tr>\n",
              "      <th>0</th>\n",
              "      <td>0</td>\n",
              "      <td>0.082470</td>\n",
              "    </tr>\n",
              "    <tr>\n",
              "      <th>6</th>\n",
              "      <td>6</td>\n",
              "      <td>0.057495</td>\n",
              "    </tr>\n",
              "    <tr>\n",
              "      <th>4</th>\n",
              "      <td>4</td>\n",
              "      <td>0.055122</td>\n",
              "    </tr>\n",
              "    <tr>\n",
              "      <th>18</th>\n",
              "      <td>18</td>\n",
              "      <td>0.052997</td>\n",
              "    </tr>\n",
              "    <tr>\n",
              "      <th>15</th>\n",
              "      <td>15</td>\n",
              "      <td>0.051435</td>\n",
              "    </tr>\n",
              "    <tr>\n",
              "      <th>21</th>\n",
              "      <td>21</td>\n",
              "      <td>0.041489</td>\n",
              "    </tr>\n",
              "    <tr>\n",
              "      <th>23</th>\n",
              "      <td>23</td>\n",
              "      <td>0.029379</td>\n",
              "    </tr>\n",
              "    <tr>\n",
              "      <th>11</th>\n",
              "      <td>11</td>\n",
              "      <td>0.028125</td>\n",
              "    </tr>\n",
              "    <tr>\n",
              "      <th>2</th>\n",
              "      <td>2</td>\n",
              "      <td>0.025910</td>\n",
              "    </tr>\n",
              "  </tbody>\n",
              "</table>\n",
              "</div>\n",
              "      <button class=\"colab-df-convert\" onclick=\"convertToInteractive('df-adf4cf48-4db2-41c5-ad14-c113a6b5ae49')\"\n",
              "              title=\"Convert this dataframe to an interactive table.\"\n",
              "              style=\"display:none;\">\n",
              "        \n",
              "  <svg xmlns=\"http://www.w3.org/2000/svg\" height=\"24px\"viewBox=\"0 0 24 24\"\n",
              "       width=\"24px\">\n",
              "    <path d=\"M0 0h24v24H0V0z\" fill=\"none\"/>\n",
              "    <path d=\"M18.56 5.44l.94 2.06.94-2.06 2.06-.94-2.06-.94-.94-2.06-.94 2.06-2.06.94zm-11 1L8.5 8.5l.94-2.06 2.06-.94-2.06-.94L8.5 2.5l-.94 2.06-2.06.94zm10 10l.94 2.06.94-2.06 2.06-.94-2.06-.94-.94-2.06-.94 2.06-2.06.94z\"/><path d=\"M17.41 7.96l-1.37-1.37c-.4-.4-.92-.59-1.43-.59-.52 0-1.04.2-1.43.59L10.3 9.45l-7.72 7.72c-.78.78-.78 2.05 0 2.83L4 21.41c.39.39.9.59 1.41.59.51 0 1.02-.2 1.41-.59l7.78-7.78 2.81-2.81c.8-.78.8-2.07 0-2.86zM5.41 20L4 18.59l7.72-7.72 1.47 1.35L5.41 20z\"/>\n",
              "  </svg>\n",
              "      </button>\n",
              "      \n",
              "  <style>\n",
              "    .colab-df-container {\n",
              "      display:flex;\n",
              "      flex-wrap:wrap;\n",
              "      gap: 12px;\n",
              "    }\n",
              "\n",
              "    .colab-df-convert {\n",
              "      background-color: #E8F0FE;\n",
              "      border: none;\n",
              "      border-radius: 50%;\n",
              "      cursor: pointer;\n",
              "      display: none;\n",
              "      fill: #1967D2;\n",
              "      height: 32px;\n",
              "      padding: 0 0 0 0;\n",
              "      width: 32px;\n",
              "    }\n",
              "\n",
              "    .colab-df-convert:hover {\n",
              "      background-color: #E2EBFA;\n",
              "      box-shadow: 0px 1px 2px rgba(60, 64, 67, 0.3), 0px 1px 3px 1px rgba(60, 64, 67, 0.15);\n",
              "      fill: #174EA6;\n",
              "    }\n",
              "\n",
              "    [theme=dark] .colab-df-convert {\n",
              "      background-color: #3B4455;\n",
              "      fill: #D2E3FC;\n",
              "    }\n",
              "\n",
              "    [theme=dark] .colab-df-convert:hover {\n",
              "      background-color: #434B5C;\n",
              "      box-shadow: 0px 1px 3px 1px rgba(0, 0, 0, 0.15);\n",
              "      filter: drop-shadow(0px 1px 2px rgba(0, 0, 0, 0.3));\n",
              "      fill: #FFFFFF;\n",
              "    }\n",
              "  </style>\n",
              "\n",
              "      <script>\n",
              "        const buttonEl =\n",
              "          document.querySelector('#df-adf4cf48-4db2-41c5-ad14-c113a6b5ae49 button.colab-df-convert');\n",
              "        buttonEl.style.display =\n",
              "          google.colab.kernel.accessAllowed ? 'block' : 'none';\n",
              "\n",
              "        async function convertToInteractive(key) {\n",
              "          const element = document.querySelector('#df-adf4cf48-4db2-41c5-ad14-c113a6b5ae49');\n",
              "          const dataTable =\n",
              "            await google.colab.kernel.invokeFunction('convertToInteractive',\n",
              "                                                     [key], {});\n",
              "          if (!dataTable) return;\n",
              "\n",
              "          const docLinkHtml = 'Like what you see? Visit the ' +\n",
              "            '<a target=\"_blank\" href=https://colab.research.google.com/notebooks/data_table.ipynb>data table notebook</a>'\n",
              "            + ' to learn more about interactive tables.';\n",
              "          element.innerHTML = '';\n",
              "          dataTable['output_type'] = 'display_data';\n",
              "          await google.colab.output.renderOutput(dataTable, element);\n",
              "          const docLink = document.createElement('div');\n",
              "          docLink.innerHTML = docLinkHtml;\n",
              "          element.appendChild(docLink);\n",
              "        }\n",
              "      </script>\n",
              "    </div>\n",
              "  </div>\n",
              "  "
            ]
          },
          "metadata": {}
        },
        {
          "output_type": "stream",
          "name": "stdout",
          "text": [
            "Train error: 0.0\n",
            "Test error: 0.2941176470588235\n",
            "Train F1: 1.0\n",
            "Test F1: 0.7916666666666667\n",
            "Train AUC: 1.0\n",
            "Test AUC: 0.6535714285714285\n"
          ]
        }
      ],
      "source": [
        "rfc = ske.RandomForestClassifier(n_estimators = 100, min_samples_leaf = 2, min_samples_split = 2, random_state = 123)\n",
        "rfc.fit(pd.DataFrame(x_train_reduced[:, :35]), y_train)\n",
        "predictions_train = rfc.predict(pd.DataFrame(x_train_reduced[:, :35]))\n",
        "predictions_test = rfc.predict(pd.DataFrame(x_test_reduced[:, :35]))\n",
        "train_error = 1 - skmetrics.accuracy_score(y_train, predictions_train)\n",
        "test_error = 1 - skmetrics.accuracy_score(y_test, predictions_test)\n",
        "train_f1 = skmetrics.f1_score(y_train, predictions_train)\n",
        "test_f1 = skmetrics.f1_score(y_test, predictions_test)\n",
        "train_auc = skmetrics.roc_auc_score(y_train, predictions_train)\n",
        "test_auc = skmetrics.roc_auc_score(y_test, predictions_test)\n",
        "print(\"\\nFeature Importance\")\n",
        "display(pd.DataFrame({\"feature\": pd.DataFrame(x_train_reduced[:, :35]).columns, \"importance\": rfc.feature_importances_,}).sort_values(\"importance\", ascending = False).head(10))\n",
        "print(\"Train error: \" + str(train_error) + \"\\nTest error: \" + str(test_error) + \"\\nTrain F1: \" +  str(train_f1) + \"\\nTest F1: \" + str(test_f1) + \"\\nTrain AUC: \" + str(train_auc) + \"\\nTest AUC: \" + str(test_auc))"
      ]
    },
    {
      "cell_type": "markdown",
      "source": [
        "### Random Forest Classifier with Selection of Genes indicated by AML and ALL"
      ],
      "metadata": {
        "id": "l1zBrMRYc2Lp"
      }
    },
    {
      "cell_type": "code",
      "source": [
        "feature_importance_specific = pd.read_csv(\"https://raw.githubusercontent.com/timaeusx/ds4400-gene-expression/main/data/feature_importance_specific.csv\")\n",
        "feature_importance_specific.head(10)"
      ],
      "metadata": {
        "colab": {
          "base_uri": "https://localhost:8080/",
          "height": 442
        },
        "id": "R2GEdEspdHcA",
        "outputId": "b45e40de-a5bd-492a-bbdd-ffceffba385f"
      },
      "execution_count": null,
      "outputs": [
        {
          "output_type": "execute_result",
          "data": {
            "text/plain": [
              "   Unnamed: 0                                            feature  importance  \\\n",
              "0        6517  1-PHOSPHATIDYLINOSITOL-4;5-BISPHOSPHATE PHOSPH...         0.0   \n",
              "1        4782        An acute myeloid leukaemia protein (1793bp)         0.0   \n",
              "2        2562  BCL6 B cell lymphoma protein 6 (zinc finger pr...         0.0   \n",
              "3        2353                                    CCND3 Cyclin D3         0.0   \n",
              "4        5036                                       CHD5 protein         0.0   \n",
              "5        4572                DCC Deleted in colorectal carcinoma         0.0   \n",
              "6        4397                         DNMT DNA methyltransferase         0.0   \n",
              "7        3493            Enhancer of zeste homolog 2 (EZH2) mRNA         0.0   \n",
              "8        2747             ETV6 Ets variant gene 6 (TEL oncogene)         0.0   \n",
              "9        1589  GB DEF = (clone PEBP2aA1) core-binding factor;...         0.0   \n",
              "\n",
              "  Unnamed: 3  \n",
              "0        ALL  \n",
              "1        ALL  \n",
              "2        ALL  \n",
              "3        ALL  \n",
              "4        ALL  \n",
              "5        ALL  \n",
              "6        ALL  \n",
              "7        ALL  \n",
              "8        ALL  \n",
              "9        ALL  "
            ],
            "text/html": [
              "\n",
              "  <div id=\"df-deb3b5cd-9004-48bc-ae11-053fab519e04\">\n",
              "    <div class=\"colab-df-container\">\n",
              "      <div>\n",
              "<style scoped>\n",
              "    .dataframe tbody tr th:only-of-type {\n",
              "        vertical-align: middle;\n",
              "    }\n",
              "\n",
              "    .dataframe tbody tr th {\n",
              "        vertical-align: top;\n",
              "    }\n",
              "\n",
              "    .dataframe thead th {\n",
              "        text-align: right;\n",
              "    }\n",
              "</style>\n",
              "<table border=\"1\" class=\"dataframe\">\n",
              "  <thead>\n",
              "    <tr style=\"text-align: right;\">\n",
              "      <th></th>\n",
              "      <th>Unnamed: 0</th>\n",
              "      <th>feature</th>\n",
              "      <th>importance</th>\n",
              "      <th>Unnamed: 3</th>\n",
              "    </tr>\n",
              "  </thead>\n",
              "  <tbody>\n",
              "    <tr>\n",
              "      <th>0</th>\n",
              "      <td>6517</td>\n",
              "      <td>1-PHOSPHATIDYLINOSITOL-4;5-BISPHOSPHATE PHOSPH...</td>\n",
              "      <td>0.0</td>\n",
              "      <td>ALL</td>\n",
              "    </tr>\n",
              "    <tr>\n",
              "      <th>1</th>\n",
              "      <td>4782</td>\n",
              "      <td>An acute myeloid leukaemia protein (1793bp)</td>\n",
              "      <td>0.0</td>\n",
              "      <td>ALL</td>\n",
              "    </tr>\n",
              "    <tr>\n",
              "      <th>2</th>\n",
              "      <td>2562</td>\n",
              "      <td>BCL6 B cell lymphoma protein 6 (zinc finger pr...</td>\n",
              "      <td>0.0</td>\n",
              "      <td>ALL</td>\n",
              "    </tr>\n",
              "    <tr>\n",
              "      <th>3</th>\n",
              "      <td>2353</td>\n",
              "      <td>CCND3 Cyclin D3</td>\n",
              "      <td>0.0</td>\n",
              "      <td>ALL</td>\n",
              "    </tr>\n",
              "    <tr>\n",
              "      <th>4</th>\n",
              "      <td>5036</td>\n",
              "      <td>CHD5 protein</td>\n",
              "      <td>0.0</td>\n",
              "      <td>ALL</td>\n",
              "    </tr>\n",
              "    <tr>\n",
              "      <th>5</th>\n",
              "      <td>4572</td>\n",
              "      <td>DCC Deleted in colorectal carcinoma</td>\n",
              "      <td>0.0</td>\n",
              "      <td>ALL</td>\n",
              "    </tr>\n",
              "    <tr>\n",
              "      <th>6</th>\n",
              "      <td>4397</td>\n",
              "      <td>DNMT DNA methyltransferase</td>\n",
              "      <td>0.0</td>\n",
              "      <td>ALL</td>\n",
              "    </tr>\n",
              "    <tr>\n",
              "      <th>7</th>\n",
              "      <td>3493</td>\n",
              "      <td>Enhancer of zeste homolog 2 (EZH2) mRNA</td>\n",
              "      <td>0.0</td>\n",
              "      <td>ALL</td>\n",
              "    </tr>\n",
              "    <tr>\n",
              "      <th>8</th>\n",
              "      <td>2747</td>\n",
              "      <td>ETV6 Ets variant gene 6 (TEL oncogene)</td>\n",
              "      <td>0.0</td>\n",
              "      <td>ALL</td>\n",
              "    </tr>\n",
              "    <tr>\n",
              "      <th>9</th>\n",
              "      <td>1589</td>\n",
              "      <td>GB DEF = (clone PEBP2aA1) core-binding factor;...</td>\n",
              "      <td>0.0</td>\n",
              "      <td>ALL</td>\n",
              "    </tr>\n",
              "  </tbody>\n",
              "</table>\n",
              "</div>\n",
              "      <button class=\"colab-df-convert\" onclick=\"convertToInteractive('df-deb3b5cd-9004-48bc-ae11-053fab519e04')\"\n",
              "              title=\"Convert this dataframe to an interactive table.\"\n",
              "              style=\"display:none;\">\n",
              "        \n",
              "  <svg xmlns=\"http://www.w3.org/2000/svg\" height=\"24px\"viewBox=\"0 0 24 24\"\n",
              "       width=\"24px\">\n",
              "    <path d=\"M0 0h24v24H0V0z\" fill=\"none\"/>\n",
              "    <path d=\"M18.56 5.44l.94 2.06.94-2.06 2.06-.94-2.06-.94-.94-2.06-.94 2.06-2.06.94zm-11 1L8.5 8.5l.94-2.06 2.06-.94-2.06-.94L8.5 2.5l-.94 2.06-2.06.94zm10 10l.94 2.06.94-2.06 2.06-.94-2.06-.94-.94-2.06-.94 2.06-2.06.94z\"/><path d=\"M17.41 7.96l-1.37-1.37c-.4-.4-.92-.59-1.43-.59-.52 0-1.04.2-1.43.59L10.3 9.45l-7.72 7.72c-.78.78-.78 2.05 0 2.83L4 21.41c.39.39.9.59 1.41.59.51 0 1.02-.2 1.41-.59l7.78-7.78 2.81-2.81c.8-.78.8-2.07 0-2.86zM5.41 20L4 18.59l7.72-7.72 1.47 1.35L5.41 20z\"/>\n",
              "  </svg>\n",
              "      </button>\n",
              "      \n",
              "  <style>\n",
              "    .colab-df-container {\n",
              "      display:flex;\n",
              "      flex-wrap:wrap;\n",
              "      gap: 12px;\n",
              "    }\n",
              "\n",
              "    .colab-df-convert {\n",
              "      background-color: #E8F0FE;\n",
              "      border: none;\n",
              "      border-radius: 50%;\n",
              "      cursor: pointer;\n",
              "      display: none;\n",
              "      fill: #1967D2;\n",
              "      height: 32px;\n",
              "      padding: 0 0 0 0;\n",
              "      width: 32px;\n",
              "    }\n",
              "\n",
              "    .colab-df-convert:hover {\n",
              "      background-color: #E2EBFA;\n",
              "      box-shadow: 0px 1px 2px rgba(60, 64, 67, 0.3), 0px 1px 3px 1px rgba(60, 64, 67, 0.15);\n",
              "      fill: #174EA6;\n",
              "    }\n",
              "\n",
              "    [theme=dark] .colab-df-convert {\n",
              "      background-color: #3B4455;\n",
              "      fill: #D2E3FC;\n",
              "    }\n",
              "\n",
              "    [theme=dark] .colab-df-convert:hover {\n",
              "      background-color: #434B5C;\n",
              "      box-shadow: 0px 1px 3px 1px rgba(0, 0, 0, 0.15);\n",
              "      filter: drop-shadow(0px 1px 2px rgba(0, 0, 0, 0.3));\n",
              "      fill: #FFFFFF;\n",
              "    }\n",
              "  </style>\n",
              "\n",
              "      <script>\n",
              "        const buttonEl =\n",
              "          document.querySelector('#df-deb3b5cd-9004-48bc-ae11-053fab519e04 button.colab-df-convert');\n",
              "        buttonEl.style.display =\n",
              "          google.colab.kernel.accessAllowed ? 'block' : 'none';\n",
              "\n",
              "        async function convertToInteractive(key) {\n",
              "          const element = document.querySelector('#df-deb3b5cd-9004-48bc-ae11-053fab519e04');\n",
              "          const dataTable =\n",
              "            await google.colab.kernel.invokeFunction('convertToInteractive',\n",
              "                                                     [key], {});\n",
              "          if (!dataTable) return;\n",
              "\n",
              "          const docLinkHtml = 'Like what you see? Visit the ' +\n",
              "            '<a target=\"_blank\" href=https://colab.research.google.com/notebooks/data_table.ipynb>data table notebook</a>'\n",
              "            + ' to learn more about interactive tables.';\n",
              "          element.innerHTML = '';\n",
              "          dataTable['output_type'] = 'display_data';\n",
              "          await google.colab.output.renderOutput(dataTable, element);\n",
              "          const docLink = document.createElement('div');\n",
              "          docLink.innerHTML = docLinkHtml;\n",
              "          element.appendChild(docLink);\n",
              "        }\n",
              "      </script>\n",
              "    </div>\n",
              "  </div>\n",
              "  "
            ]
          },
          "metadata": {},
          "execution_count": 65
        }
      ]
    },
    {
      "cell_type": "code",
      "source": [
        "x_train_reduced = x_train.loc[:,~x_train.columns.duplicated()].filter(feature_importance_specific[\"feature\"], axis = 1)\n",
        "x_test_reduced = x_test.loc[:,~x_test.columns.duplicated()].filter(feature_importance_specific[\"feature\"], axis = 1)"
      ],
      "metadata": {
        "id": "WHXJstMX_CiD"
      },
      "execution_count": null,
      "outputs": []
    },
    {
      "cell_type": "code",
      "source": [
        "rfc = ske.RandomForestClassifier(random_state = 123)\n",
        "rfc.fit(x_train_reduced, y_train)\n",
        "predictions_train = rfc.predict(x_train_reduced)\n",
        "predictions_test = rfc.predict(x_test_reduced)\n",
        "train_error = 1 - skmetrics.accuracy_score(y_train, predictions_train)\n",
        "test_error = 1 - skmetrics.accuracy_score(y_test, predictions_test)\n",
        "train_f1 = skmetrics.f1_score(y_train, predictions_train)\n",
        "test_f1 = skmetrics.f1_score(y_test, predictions_test)\n",
        "train_auc = skmetrics.roc_auc_score(y_train, predictions_train)\n",
        "test_auc = skmetrics.roc_auc_score(y_test, predictions_test)\n",
        "print(\"\\nFeature Importance\")\n",
        "display(pd.DataFrame({\"feature\": x_train_reduced.columns, \"importance\": rfc.feature_importances_,}).sort_values(\"importance\", ascending = False).head(10))\n",
        "print(\"Train error: \" + str(train_error) + \"\\nTest error: \" + str(test_error) + \"\\nTrain F1: \" +  str(train_f1) + \"\\nTest F1: \" + str(test_f1) + \"\\nTrain AUC: \" + str(train_auc) + \"\\nTest AUC: \" + str(test_auc))"
      ],
      "metadata": {
        "colab": {
          "base_uri": "https://localhost:8080/",
          "height": 502
        },
        "id": "-Lswcfqgc_TB",
        "outputId": "3ec07314-013a-432b-8511-a9c5f1ba9f75"
      },
      "execution_count": null,
      "outputs": [
        {
          "output_type": "stream",
          "name": "stdout",
          "text": [
            "\n",
            "Feature Importance\n"
          ]
        },
        {
          "output_type": "display_data",
          "data": {
            "text/plain": [
              "                                              feature  importance\n",
              "3                                     CCND3 Cyclin D3    0.111898\n",
              "59                         RAS-RELATED PROTEIN RAB-1A    0.079190\n",
              "54                              Ras-Like Protein Tc10    0.053655\n",
              "13                        IL7R Interleukin 7 receptor    0.045603\n",
              "57           Ras-Related C3 Botulinum Toxin Substrate    0.040262\n",
              "22   Phosphatidylinositol 3-Kinase P110; Beta Isoform    0.040219\n",
              "36  NFIX Nuclear factor I/X (CCAAT-binding transcr...    0.037633\n",
              "16                               PHOSPHATIDYLINOSITOL    0.029066\n",
              "69           Transcription factor (CBFB) mRNA; 3' end    0.028265\n",
              "30                                         Cbl-b mRNA    0.026413"
            ],
            "text/html": [
              "\n",
              "  <div id=\"df-9159f8c5-9bc5-4c5d-b283-2a4bfe443ed7\">\n",
              "    <div class=\"colab-df-container\">\n",
              "      <div>\n",
              "<style scoped>\n",
              "    .dataframe tbody tr th:only-of-type {\n",
              "        vertical-align: middle;\n",
              "    }\n",
              "\n",
              "    .dataframe tbody tr th {\n",
              "        vertical-align: top;\n",
              "    }\n",
              "\n",
              "    .dataframe thead th {\n",
              "        text-align: right;\n",
              "    }\n",
              "</style>\n",
              "<table border=\"1\" class=\"dataframe\">\n",
              "  <thead>\n",
              "    <tr style=\"text-align: right;\">\n",
              "      <th></th>\n",
              "      <th>feature</th>\n",
              "      <th>importance</th>\n",
              "    </tr>\n",
              "  </thead>\n",
              "  <tbody>\n",
              "    <tr>\n",
              "      <th>3</th>\n",
              "      <td>CCND3 Cyclin D3</td>\n",
              "      <td>0.111898</td>\n",
              "    </tr>\n",
              "    <tr>\n",
              "      <th>59</th>\n",
              "      <td>RAS-RELATED PROTEIN RAB-1A</td>\n",
              "      <td>0.079190</td>\n",
              "    </tr>\n",
              "    <tr>\n",
              "      <th>54</th>\n",
              "      <td>Ras-Like Protein Tc10</td>\n",
              "      <td>0.053655</td>\n",
              "    </tr>\n",
              "    <tr>\n",
              "      <th>13</th>\n",
              "      <td>IL7R Interleukin 7 receptor</td>\n",
              "      <td>0.045603</td>\n",
              "    </tr>\n",
              "    <tr>\n",
              "      <th>57</th>\n",
              "      <td>Ras-Related C3 Botulinum Toxin Substrate</td>\n",
              "      <td>0.040262</td>\n",
              "    </tr>\n",
              "    <tr>\n",
              "      <th>22</th>\n",
              "      <td>Phosphatidylinositol 3-Kinase P110; Beta Isoform</td>\n",
              "      <td>0.040219</td>\n",
              "    </tr>\n",
              "    <tr>\n",
              "      <th>36</th>\n",
              "      <td>NFIX Nuclear factor I/X (CCAAT-binding transcr...</td>\n",
              "      <td>0.037633</td>\n",
              "    </tr>\n",
              "    <tr>\n",
              "      <th>16</th>\n",
              "      <td>PHOSPHATIDYLINOSITOL</td>\n",
              "      <td>0.029066</td>\n",
              "    </tr>\n",
              "    <tr>\n",
              "      <th>69</th>\n",
              "      <td>Transcription factor (CBFB) mRNA; 3' end</td>\n",
              "      <td>0.028265</td>\n",
              "    </tr>\n",
              "    <tr>\n",
              "      <th>30</th>\n",
              "      <td>Cbl-b mRNA</td>\n",
              "      <td>0.026413</td>\n",
              "    </tr>\n",
              "  </tbody>\n",
              "</table>\n",
              "</div>\n",
              "      <button class=\"colab-df-convert\" onclick=\"convertToInteractive('df-9159f8c5-9bc5-4c5d-b283-2a4bfe443ed7')\"\n",
              "              title=\"Convert this dataframe to an interactive table.\"\n",
              "              style=\"display:none;\">\n",
              "        \n",
              "  <svg xmlns=\"http://www.w3.org/2000/svg\" height=\"24px\"viewBox=\"0 0 24 24\"\n",
              "       width=\"24px\">\n",
              "    <path d=\"M0 0h24v24H0V0z\" fill=\"none\"/>\n",
              "    <path d=\"M18.56 5.44l.94 2.06.94-2.06 2.06-.94-2.06-.94-.94-2.06-.94 2.06-2.06.94zm-11 1L8.5 8.5l.94-2.06 2.06-.94-2.06-.94L8.5 2.5l-.94 2.06-2.06.94zm10 10l.94 2.06.94-2.06 2.06-.94-2.06-.94-.94-2.06-.94 2.06-2.06.94z\"/><path d=\"M17.41 7.96l-1.37-1.37c-.4-.4-.92-.59-1.43-.59-.52 0-1.04.2-1.43.59L10.3 9.45l-7.72 7.72c-.78.78-.78 2.05 0 2.83L4 21.41c.39.39.9.59 1.41.59.51 0 1.02-.2 1.41-.59l7.78-7.78 2.81-2.81c.8-.78.8-2.07 0-2.86zM5.41 20L4 18.59l7.72-7.72 1.47 1.35L5.41 20z\"/>\n",
              "  </svg>\n",
              "      </button>\n",
              "      \n",
              "  <style>\n",
              "    .colab-df-container {\n",
              "      display:flex;\n",
              "      flex-wrap:wrap;\n",
              "      gap: 12px;\n",
              "    }\n",
              "\n",
              "    .colab-df-convert {\n",
              "      background-color: #E8F0FE;\n",
              "      border: none;\n",
              "      border-radius: 50%;\n",
              "      cursor: pointer;\n",
              "      display: none;\n",
              "      fill: #1967D2;\n",
              "      height: 32px;\n",
              "      padding: 0 0 0 0;\n",
              "      width: 32px;\n",
              "    }\n",
              "\n",
              "    .colab-df-convert:hover {\n",
              "      background-color: #E2EBFA;\n",
              "      box-shadow: 0px 1px 2px rgba(60, 64, 67, 0.3), 0px 1px 3px 1px rgba(60, 64, 67, 0.15);\n",
              "      fill: #174EA6;\n",
              "    }\n",
              "\n",
              "    [theme=dark] .colab-df-convert {\n",
              "      background-color: #3B4455;\n",
              "      fill: #D2E3FC;\n",
              "    }\n",
              "\n",
              "    [theme=dark] .colab-df-convert:hover {\n",
              "      background-color: #434B5C;\n",
              "      box-shadow: 0px 1px 3px 1px rgba(0, 0, 0, 0.15);\n",
              "      filter: drop-shadow(0px 1px 2px rgba(0, 0, 0, 0.3));\n",
              "      fill: #FFFFFF;\n",
              "    }\n",
              "  </style>\n",
              "\n",
              "      <script>\n",
              "        const buttonEl =\n",
              "          document.querySelector('#df-9159f8c5-9bc5-4c5d-b283-2a4bfe443ed7 button.colab-df-convert');\n",
              "        buttonEl.style.display =\n",
              "          google.colab.kernel.accessAllowed ? 'block' : 'none';\n",
              "\n",
              "        async function convertToInteractive(key) {\n",
              "          const element = document.querySelector('#df-9159f8c5-9bc5-4c5d-b283-2a4bfe443ed7');\n",
              "          const dataTable =\n",
              "            await google.colab.kernel.invokeFunction('convertToInteractive',\n",
              "                                                     [key], {});\n",
              "          if (!dataTable) return;\n",
              "\n",
              "          const docLinkHtml = 'Like what you see? Visit the ' +\n",
              "            '<a target=\"_blank\" href=https://colab.research.google.com/notebooks/data_table.ipynb>data table notebook</a>'\n",
              "            + ' to learn more about interactive tables.';\n",
              "          element.innerHTML = '';\n",
              "          dataTable['output_type'] = 'display_data';\n",
              "          await google.colab.output.renderOutput(dataTable, element);\n",
              "          const docLink = document.createElement('div');\n",
              "          docLink.innerHTML = docLinkHtml;\n",
              "          element.appendChild(docLink);\n",
              "        }\n",
              "      </script>\n",
              "    </div>\n",
              "  </div>\n",
              "  "
            ]
          },
          "metadata": {}
        },
        {
          "output_type": "stream",
          "name": "stdout",
          "text": [
            "Train error: 0.0\n",
            "Test error: 0.20588235294117652\n",
            "Train F1: 1.0\n",
            "Test F1: 0.851063829787234\n",
            "Train AUC: 1.0\n",
            "Test AUC: 0.75\n"
          ]
        }
      ]
    },
    {
      "cell_type": "code",
      "source": [
        "rfc = ske.RandomForestClassifier(random_state = 123)\n",
        "gscv = skm.GridSearchCV(rfc, {\"n_estimators\":[50, 100, 250, 500,], \"min_samples_split\":list(range(2,10)), \"min_samples_leaf\":list(range(2,10))}, scoring = 'f1')\n",
        "gscv.fit(x_train_reduced, y_train)\n",
        "print(\"Best parameters: \")\n",
        "print(gscv.best_params_)\n",
        "print(\"Best score: \" + str(gscv.best_score_))"
      ],
      "metadata": {
        "colab": {
          "base_uri": "https://localhost:8080/"
        },
        "id": "X4ntrfFpgRio",
        "outputId": "529cfb44-6b5c-4a48-9db7-1ad9bedb9100"
      },
      "execution_count": null,
      "outputs": [
        {
          "output_type": "stream",
          "name": "stdout",
          "text": [
            "Best parameters: \n",
            "{'min_samples_leaf': 4, 'min_samples_split': 2, 'n_estimators': 500}\n",
            "Best score: 0.9177156177156178\n"
          ]
        }
      ]
    },
    {
      "cell_type": "code",
      "source": [
        "rfc = ske.RandomForestClassifier(n_estimators = 500, min_samples_leaf = 4, min_samples_split = 2, random_state = 123)\n",
        "rfc.fit(x_train_reduced, y_train)\n",
        "predictions_train = rfc.predict(x_train_reduced)\n",
        "predictions_test = rfc.predict(x_test_reduced)\n",
        "train_error = 1 - skmetrics.accuracy_score(y_train, predictions_train)\n",
        "test_error = 1 - skmetrics.accuracy_score(y_test, predictions_test)\n",
        "train_f1 = skmetrics.f1_score(y_train, predictions_train)\n",
        "test_f1 = skmetrics.f1_score(y_test, predictions_test)\n",
        "train_auc = skmetrics.roc_auc_score(y_train, predictions_train)\n",
        "test_auc = skmetrics.roc_auc_score(y_test, predictions_test)\n",
        "print(\"\\nFeature Importance\")\n",
        "display(pd.DataFrame({\"feature\": x_train_reduced.columns, \"importance\": rfc.feature_importances_,}).sort_values(\"importance\", ascending = False).head(10))\n",
        "print(\"Train error: \" + str(train_error) + \"\\nTest error: \" + str(test_error) + \"\\nTrain F1: \" +  str(train_f1) + \"\\nTest F1: \" + str(test_f1) + \"\\nTrain AUC: \" + str(train_auc) + \"\\nTest AUC: \" + str(test_auc))"
      ],
      "metadata": {
        "colab": {
          "base_uri": "https://localhost:8080/",
          "height": 502
        },
        "id": "WsqR8JAXgN_2",
        "outputId": "b8fdca72-b43a-4aa8-9a8d-53e87b51d8c2"
      },
      "execution_count": null,
      "outputs": [
        {
          "output_type": "stream",
          "name": "stdout",
          "text": [
            "\n",
            "Feature Importance\n"
          ]
        },
        {
          "output_type": "display_data",
          "data": {
            "text/plain": [
              "                                              feature  importance\n",
              "3                                     CCND3 Cyclin D3    0.126508\n",
              "59                         RAS-RELATED PROTEIN RAB-1A    0.072876\n",
              "13                        IL7R Interleukin 7 receptor    0.069974\n",
              "54                              Ras-Like Protein Tc10    0.053789\n",
              "22   Phosphatidylinositol 3-Kinase P110; Beta Isoform    0.047840\n",
              "57           Ras-Related C3 Botulinum Toxin Substrate    0.045934\n",
              "36  NFIX Nuclear factor I/X (CCAAT-binding transcr...    0.034374\n",
              "68                          Receptor of retinoic acid    0.028037\n",
              "69           Transcription factor (CBFB) mRNA; 3' end    0.027613\n",
              "46   Ras GTPase-activating-like protein (IQGAP1) mRNA    0.025481"
            ],
            "text/html": [
              "\n",
              "  <div id=\"df-bd776571-025c-4b49-b06b-a303ae464f54\">\n",
              "    <div class=\"colab-df-container\">\n",
              "      <div>\n",
              "<style scoped>\n",
              "    .dataframe tbody tr th:only-of-type {\n",
              "        vertical-align: middle;\n",
              "    }\n",
              "\n",
              "    .dataframe tbody tr th {\n",
              "        vertical-align: top;\n",
              "    }\n",
              "\n",
              "    .dataframe thead th {\n",
              "        text-align: right;\n",
              "    }\n",
              "</style>\n",
              "<table border=\"1\" class=\"dataframe\">\n",
              "  <thead>\n",
              "    <tr style=\"text-align: right;\">\n",
              "      <th></th>\n",
              "      <th>feature</th>\n",
              "      <th>importance</th>\n",
              "    </tr>\n",
              "  </thead>\n",
              "  <tbody>\n",
              "    <tr>\n",
              "      <th>3</th>\n",
              "      <td>CCND3 Cyclin D3</td>\n",
              "      <td>0.126508</td>\n",
              "    </tr>\n",
              "    <tr>\n",
              "      <th>59</th>\n",
              "      <td>RAS-RELATED PROTEIN RAB-1A</td>\n",
              "      <td>0.072876</td>\n",
              "    </tr>\n",
              "    <tr>\n",
              "      <th>13</th>\n",
              "      <td>IL7R Interleukin 7 receptor</td>\n",
              "      <td>0.069974</td>\n",
              "    </tr>\n",
              "    <tr>\n",
              "      <th>54</th>\n",
              "      <td>Ras-Like Protein Tc10</td>\n",
              "      <td>0.053789</td>\n",
              "    </tr>\n",
              "    <tr>\n",
              "      <th>22</th>\n",
              "      <td>Phosphatidylinositol 3-Kinase P110; Beta Isoform</td>\n",
              "      <td>0.047840</td>\n",
              "    </tr>\n",
              "    <tr>\n",
              "      <th>57</th>\n",
              "      <td>Ras-Related C3 Botulinum Toxin Substrate</td>\n",
              "      <td>0.045934</td>\n",
              "    </tr>\n",
              "    <tr>\n",
              "      <th>36</th>\n",
              "      <td>NFIX Nuclear factor I/X (CCAAT-binding transcr...</td>\n",
              "      <td>0.034374</td>\n",
              "    </tr>\n",
              "    <tr>\n",
              "      <th>68</th>\n",
              "      <td>Receptor of retinoic acid</td>\n",
              "      <td>0.028037</td>\n",
              "    </tr>\n",
              "    <tr>\n",
              "      <th>69</th>\n",
              "      <td>Transcription factor (CBFB) mRNA; 3' end</td>\n",
              "      <td>0.027613</td>\n",
              "    </tr>\n",
              "    <tr>\n",
              "      <th>46</th>\n",
              "      <td>Ras GTPase-activating-like protein (IQGAP1) mRNA</td>\n",
              "      <td>0.025481</td>\n",
              "    </tr>\n",
              "  </tbody>\n",
              "</table>\n",
              "</div>\n",
              "      <button class=\"colab-df-convert\" onclick=\"convertToInteractive('df-bd776571-025c-4b49-b06b-a303ae464f54')\"\n",
              "              title=\"Convert this dataframe to an interactive table.\"\n",
              "              style=\"display:none;\">\n",
              "        \n",
              "  <svg xmlns=\"http://www.w3.org/2000/svg\" height=\"24px\"viewBox=\"0 0 24 24\"\n",
              "       width=\"24px\">\n",
              "    <path d=\"M0 0h24v24H0V0z\" fill=\"none\"/>\n",
              "    <path d=\"M18.56 5.44l.94 2.06.94-2.06 2.06-.94-2.06-.94-.94-2.06-.94 2.06-2.06.94zm-11 1L8.5 8.5l.94-2.06 2.06-.94-2.06-.94L8.5 2.5l-.94 2.06-2.06.94zm10 10l.94 2.06.94-2.06 2.06-.94-2.06-.94-.94-2.06-.94 2.06-2.06.94z\"/><path d=\"M17.41 7.96l-1.37-1.37c-.4-.4-.92-.59-1.43-.59-.52 0-1.04.2-1.43.59L10.3 9.45l-7.72 7.72c-.78.78-.78 2.05 0 2.83L4 21.41c.39.39.9.59 1.41.59.51 0 1.02-.2 1.41-.59l7.78-7.78 2.81-2.81c.8-.78.8-2.07 0-2.86zM5.41 20L4 18.59l7.72-7.72 1.47 1.35L5.41 20z\"/>\n",
              "  </svg>\n",
              "      </button>\n",
              "      \n",
              "  <style>\n",
              "    .colab-df-container {\n",
              "      display:flex;\n",
              "      flex-wrap:wrap;\n",
              "      gap: 12px;\n",
              "    }\n",
              "\n",
              "    .colab-df-convert {\n",
              "      background-color: #E8F0FE;\n",
              "      border: none;\n",
              "      border-radius: 50%;\n",
              "      cursor: pointer;\n",
              "      display: none;\n",
              "      fill: #1967D2;\n",
              "      height: 32px;\n",
              "      padding: 0 0 0 0;\n",
              "      width: 32px;\n",
              "    }\n",
              "\n",
              "    .colab-df-convert:hover {\n",
              "      background-color: #E2EBFA;\n",
              "      box-shadow: 0px 1px 2px rgba(60, 64, 67, 0.3), 0px 1px 3px 1px rgba(60, 64, 67, 0.15);\n",
              "      fill: #174EA6;\n",
              "    }\n",
              "\n",
              "    [theme=dark] .colab-df-convert {\n",
              "      background-color: #3B4455;\n",
              "      fill: #D2E3FC;\n",
              "    }\n",
              "\n",
              "    [theme=dark] .colab-df-convert:hover {\n",
              "      background-color: #434B5C;\n",
              "      box-shadow: 0px 1px 3px 1px rgba(0, 0, 0, 0.15);\n",
              "      filter: drop-shadow(0px 1px 2px rgba(0, 0, 0, 0.3));\n",
              "      fill: #FFFFFF;\n",
              "    }\n",
              "  </style>\n",
              "\n",
              "      <script>\n",
              "        const buttonEl =\n",
              "          document.querySelector('#df-bd776571-025c-4b49-b06b-a303ae464f54 button.colab-df-convert');\n",
              "        buttonEl.style.display =\n",
              "          google.colab.kernel.accessAllowed ? 'block' : 'none';\n",
              "\n",
              "        async function convertToInteractive(key) {\n",
              "          const element = document.querySelector('#df-bd776571-025c-4b49-b06b-a303ae464f54');\n",
              "          const dataTable =\n",
              "            await google.colab.kernel.invokeFunction('convertToInteractive',\n",
              "                                                     [key], {});\n",
              "          if (!dataTable) return;\n",
              "\n",
              "          const docLinkHtml = 'Like what you see? Visit the ' +\n",
              "            '<a target=\"_blank\" href=https://colab.research.google.com/notebooks/data_table.ipynb>data table notebook</a>'\n",
              "            + ' to learn more about interactive tables.';\n",
              "          element.innerHTML = '';\n",
              "          dataTable['output_type'] = 'display_data';\n",
              "          await google.colab.output.renderOutput(dataTable, element);\n",
              "          const docLink = document.createElement('div');\n",
              "          docLink.innerHTML = docLinkHtml;\n",
              "          element.appendChild(docLink);\n",
              "        }\n",
              "      </script>\n",
              "    </div>\n",
              "  </div>\n",
              "  "
            ]
          },
          "metadata": {}
        },
        {
          "output_type": "stream",
          "name": "stdout",
          "text": [
            "Train error: 0.0\n",
            "Test error: 0.2647058823529411\n",
            "Train F1: 1.0\n",
            "Test F1: 0.8163265306122449\n",
            "Train AUC: 1.0\n",
            "Test AUC: 0.6785714285714286\n"
          ]
        }
      ]
    },
    {
      "cell_type": "code",
      "source": [
        "plt.show(ConfusionMatrixDisplay(confusion_matrix = confusion_matrix(y_test, predictions_test), display_labels = [False, True]).plot())"
      ],
      "metadata": {
        "colab": {
          "base_uri": "https://localhost:8080/",
          "height": 455
        },
        "id": "PUBGSFB8gNP6",
        "outputId": "056fc0ea-e206-4ada-a133-81148f5923a9"
      },
      "execution_count": null,
      "outputs": [
        {
          "output_type": "display_data",
          "data": {
            "text/plain": [
              "<Figure size 640x480 with 2 Axes>"
            ],
            "image/png": "[encoded data removed]"
          },
          "metadata": {}
        }
      ]
    },
    {
      "cell_type": "markdown",
      "metadata": {
        "id": "y6_bFMCeEtbi"
      },
      "source": [
        "### K-Nearest Neighbors"
      ]
    },
    {
      "cell_type": "markdown",
      "metadata": {
        "id": "2-i7nLg2qF6X"
      },
      "source": [
        "Use Gridsearch to find the best parameters for the KNeighborsClassifier. In this case, the best n_neighbors = 4."
      ]
    },
    {
      "cell_type": "code",
      "execution_count": null,
      "metadata": {
        "id": "7wQZ1dk8Vh9k",
        "colab": {
          "base_uri": "https://localhost:8080/"
        },
        "outputId": "68ab36b1-37b1-42f8-ac83-45bb742a749b"
      },
      "outputs": [
        {
          "output_type": "stream",
          "name": "stdout",
          "text": [
            "Fitting 10 folds for each of 30 candidates, totalling 300 fits\n"
          ]
        }
      ],
      "source": [
        "from sklearn.neighbors import KNeighborsClassifier\n",
        "# from sklearn.metrics import accuracy_score, plot_confusion_matrix\n",
        "from sklearn.model_selection import GridSearchCV\n",
        "\n",
        "knn = KNeighborsClassifier()\n",
        "k_range = list(range(1, 31))\n",
        "param_grid = dict(n_neighbors=k_range)\n",
        "  \n",
        "# defining parameter range\n",
        "grid = GridSearchCV(knn, param_grid, cv=10, scoring='accuracy', return_train_score=False,verbose=1)\n",
        "  \n",
        "# fitting the model for grid search\n",
        "grid_search=grid.fit(x_train, y_train)"
      ]
    },
    {
      "cell_type": "code",
      "execution_count": null,
      "metadata": {
        "id": "tSiBoE5Lp7JU",
        "colab": {
          "base_uri": "https://localhost:8080/"
        },
        "outputId": "dee9dea8-4ff6-4f19-e925-df92d49446bc"
      },
      "outputs": [
        {
          "output_type": "stream",
          "name": "stdout",
          "text": [
            "{'n_neighbors': 4}\n"
          ]
        }
      ],
      "source": [
        "print(grid_search.best_params_)"
      ]
    },
    {
      "cell_type": "code",
      "execution_count": null,
      "metadata": {
        "id": "7vA0tW2hp_Nv",
        "colab": {
          "base_uri": "https://localhost:8080/"
        },
        "outputId": "9e6f0d40-d183-40af-c2f2-436c0735993d"
      },
      "outputs": [
        {
          "output_type": "stream",
          "name": "stdout",
          "text": [
            "Accuracy for our training dataset with tuning is : 97.50%\n"
          ]
        }
      ],
      "source": [
        "accuracy = grid_search.best_score_ *100\n",
        "print(\"Accuracy for our training dataset with tuning is : {:.2f}%\".format(accuracy) )"
      ]
    },
    {
      "cell_type": "markdown",
      "metadata": {
        "id": "HILAmGXFrIxQ"
      },
      "source": [
        "Use the best parameters to train a KNeighbors Classifier and calculate test accuracy for the model."
      ]
    },
    {
      "cell_type": "code",
      "execution_count": null,
      "metadata": {
        "id": "msDUthkeqWq5",
        "colab": {
          "base_uri": "https://localhost:8080/"
        },
        "outputId": "0eb46b08-cd8b-41d3-8f78-c82f43a26526"
      },
      "outputs": [
        {
          "output_type": "stream",
          "name": "stdout",
          "text": [
            "Accuracy for our testing dataset with tuning is : 88.24%\n"
          ]
        }
      ],
      "source": [
        "knn = KNeighborsClassifier(n_neighbors=grid_search.best_params_['n_neighbors'])\n",
        "\n",
        "knn.fit(x_train, y_train)\n",
        "\n",
        "y_test_hat=knn.predict(x_test)\n",
        "\n",
        "test_accuracy = skmetrics.accuracy_score(y_test,y_test_hat)*100\n",
        "\n",
        "print(\"Accuracy for our testing dataset with tuning is : {:.2f}%\".format(test_accuracy) )"
      ]
    },
    {
      "cell_type": "markdown",
      "source": [
        "### Neural Network"
      ],
      "metadata": {
        "id": "geqtBZfcIXqz"
      }
    },
    {
      "cell_type": "code",
      "source": [
        "# Process data into tensors\n",
        "\n",
        "import torch\n",
        "import torch.nn as nn\n",
        "import torch.optim as optim\n",
        "import tqdm\n",
        "import numpy as np\n",
        "\n",
        "batch_size = 8\n",
        "\n",
        "train_dataset = torch.utils.data.TensorDataset(torch.tensor(x_train.values.astype(float), dtype=torch.float32), torch.tensor(y_train, dtype=torch.float32))\n",
        "train_loader = torch.utils.data.DataLoader(train_dataset, batch_size = batch_size, shuffle=True, num_workers=True)\n",
        "\n",
        "x_te = torch.tensor(x_test.values.astype(float), dtype=torch.float32)\n",
        "y_te = torch.tensor(y_test, dtype=torch.float32)\n",
        "\n",
        "n_train, p = x_train.shape\n",
        "n_test, p = x_te.shape"
      ],
      "metadata": {
        "id": "mjguXxXLIXGX"
      },
      "execution_count": null,
      "outputs": []
    },
    {
      "cell_type": "code",
      "source": [
        "# Build the network!\n",
        "\n",
        "class Network(nn.Module):\n",
        "  def __init__(self):\n",
        "    super().__init__()\n",
        "    self.hidden = nn.Linear(7129, 128)\n",
        "    self.act1 = nn.ReLU()\n",
        "    self.output = nn.Linear(128, 2)\n",
        "    self.act2=nn.LogSoftmax(dim=1)\n",
        "\n",
        "  def forward(self, x):\n",
        "    x = self.act1(self.hidden(x))\n",
        "    x = self.act2(self.output(x))\n",
        "    return x"
      ],
      "metadata": {
        "id": "Om5A_nJoIi-e"
      },
      "execution_count": null,
      "outputs": []
    },
    {
      "cell_type": "code",
      "source": [
        "def train_one_epoch(train_loader, model, optimizer, epoch):\n",
        "    model.train()\n",
        "    train_loss = 0\n",
        "    num_correct = 0\n",
        "    \n",
        "    for i, (feature, label) in enumerate(train_loader):\n",
        "\n",
        "        # ------------------\n",
        "        \n",
        "        output = model(feature)\n",
        "        loss = nn.functional.nll_loss(output, label.long(), reduction = 'mean')\n",
        "        \n",
        "        optimizer.zero_grad()\n",
        "        loss.backward()\n",
        "        optimizer.step()\n",
        "        \n",
        "        \n",
        "        pred = output.argmax(dim=1, keepdim=True) # Get index of largest log-probability and use that as prediction\n",
        "        num_correct += (pred == label.view_as(pred)).sum().item()\n",
        "        train_loss += loss.item()\n",
        "      \n",
        "    return train_loss, num_correct"
      ],
      "metadata": {
        "id": "gLcDlHDdFW8-"
      },
      "execution_count": null,
      "outputs": []
    },
    {
      "cell_type": "code",
      "source": [
        "def test_one_epoch(X_test, Y_test, model):\n",
        "    model.eval()\n",
        "    test_loss = 0\n",
        "    num_correct = 0\n",
        "    \n",
        "    with torch.no_grad():\n",
        "        feature = X_test\n",
        "        label = Y_test\n",
        "\n",
        "        output = model(feature)\n",
        "        pred = output.argmax(dim=1, keepdim=True)\n",
        "        num_correct += (pred == label.view_as(pred)).sum().item()\n",
        "        test_loss += nn.functional.nll_loss(output, label.long(), reduction = 'mean')\n",
        "\n",
        "    return test_loss, num_correct"
      ],
      "metadata": {
        "id": "BpQCpF58IoE_"
      },
      "execution_count": null,
      "outputs": []
    },
    {
      "cell_type": "code",
      "source": [
        "# Hyperparameters\n",
        "lr = 0.001\n",
        "max_epochs=50\n",
        "wd = 0.02\n",
        "\n",
        "model = Network()\n",
        "\n",
        "# Instantiate optimizer (model was created in previous cell)\n",
        "optimizer = torch.optim.SGD(model.parameters(), lr=lr, weight_decay = wd)\n",
        "\n",
        "train_losses = []\n",
        "train_correct_list = []\n",
        "test_losses = []\n",
        "test_correct_list = []\n",
        "train_accuracy_list = []\n",
        "test_accuracy_list = []\n",
        "\n",
        "for epoch in tqdm.trange(max_epochs, leave=True, desc='Epochs'):\n",
        "    train_loss, train_correct = train_one_epoch(train_loader, model, optimizer, epoch)\n",
        "    test_loss, test_correct = test_one_epoch(x_te, y_te, model)\n",
        "\n",
        "    # Record results\n",
        "    train_losses.append(train_loss)\n",
        "    train_correct_list.append(train_correct)\n",
        "    test_losses.append(test_loss)\n",
        "    test_correct_list.append(test_correct)\n",
        "    train_accuracy = train_correct / n_train\n",
        "    test_accuracy = test_correct / n_test\n",
        "    train_accuracy_list.append(train_accuracy)\n",
        "    test_accuracy_list.append(test_accuracy)\n",
        "\n",
        "    print('\\nloss', train_loss / n_train, float(test_loss) / n_test)\n",
        "    print('accuracy', train_accuracy, test_accuracy, '\\n')\n",
        "\n",
        "\n",
        "\n",
        "print('highest test accuracy: ' + str(max(test_accuracy_list)))\n",
        "index = test_accuracy_list.index(max(test_accuracy_list))\n",
        "print('corresponding epoch: ' + str(list(range(1, max_epochs + 1))[index]))"
      ],
      "metadata": {
        "id": "shov9uGbIp-0",
        "colab": {
          "base_uri": "https://localhost:8080/"
        },
        "outputId": "10324a3c-6225-4f57-dc0b-206be576a47f"
      },
      "execution_count": null,
      "outputs": [
        {
          "output_type": "stream",
          "name": "stderr",
          "text": [
            "Epochs:   2%|▏         | 1/50 [00:00<00:10,  4.74it/s]"
          ]
        },
        {
          "output_type": "stream",
          "name": "stdout",
          "text": [
            "\n",
            "loss 99459.61474378486 0.08218994561363668\n",
            "accuracy 0.5 0.29411764705882354 \n",
            "\n"
          ]
        },
        {
          "output_type": "stream",
          "name": "stderr",
          "text": [
            "\rEpochs:   4%|▍         | 2/50 [00:00<00:07,  6.42it/s]"
          ]
        },
        {
          "output_type": "stream",
          "name": "stdout",
          "text": [
            "\n",
            "loss 1.3800791345144574 0.037879719453699445\n",
            "accuracy 0.5526315789473685 0.38235294117647056 \n",
            "\n"
          ]
        },
        {
          "output_type": "stream",
          "name": "stderr",
          "text": [
            "\rEpochs:   6%|▌         | 3/50 [00:00<00:06,  7.29it/s]"
          ]
        },
        {
          "output_type": "stream",
          "name": "stdout",
          "text": [
            "\n",
            "loss 1.0479535460472107 0.03828876158770393\n",
            "accuracy 0.3684210526315789 0.35294117647058826 \n",
            "\n"
          ]
        },
        {
          "output_type": "stream",
          "name": "stderr",
          "text": [
            "\rEpochs:   8%|▊         | 4/50 [00:00<00:06,  7.39it/s]"
          ]
        },
        {
          "output_type": "stream",
          "name": "stdout",
          "text": [
            "\n",
            "loss 0.09283337938158136 0.038278993438271916\n",
            "accuracy 0.2894736842105263 0.35294117647058826 \n",
            "\n"
          ]
        },
        {
          "output_type": "stream",
          "name": "stderr",
          "text": [
            "\rEpochs:  10%|█         | 5/50 [00:00<00:06,  7.31it/s]"
          ]
        },
        {
          "output_type": "stream",
          "name": "stdout",
          "text": [
            "\n",
            "loss 0.09276347254451953 0.038269102573394775\n",
            "accuracy 0.2894736842105263 0.35294117647058826 \n",
            "\n"
          ]
        },
        {
          "output_type": "stream",
          "name": "stderr",
          "text": [
            "\rEpochs:  12%|█▏        | 6/50 [00:00<00:05,  7.65it/s]"
          ]
        },
        {
          "output_type": "stream",
          "name": "stdout",
          "text": [
            "\n",
            "loss 0.0925827277334113 0.03825982177958769\n",
            "accuracy 0.2894736842105263 0.35294117647058826 \n",
            "\n"
          ]
        },
        {
          "output_type": "stream",
          "name": "stderr",
          "text": [
            "\rEpochs:  14%|█▍        | 7/50 [00:00<00:05,  7.86it/s]"
          ]
        },
        {
          "output_type": "stream",
          "name": "stdout",
          "text": [
            "\n",
            "loss 0.09252239528455232 0.03825052345500273\n",
            "accuracy 0.2894736842105263 0.35294117647058826 \n",
            "\n"
          ]
        },
        {
          "output_type": "stream",
          "name": "stderr",
          "text": [
            "\rEpochs:  16%|█▌        | 8/50 [00:01<00:05,  8.10it/s]"
          ]
        },
        {
          "output_type": "stream",
          "name": "stdout",
          "text": [
            "\n",
            "loss 0.09256424872498763 0.03824096216874964\n",
            "accuracy 0.2894736842105263 0.35294117647058826 \n",
            "\n"
          ]
        },
        {
          "output_type": "stream",
          "name": "stderr",
          "text": [
            "\rEpochs:  18%|█▊        | 9/50 [00:01<00:05,  8.12it/s]"
          ]
        },
        {
          "output_type": "stream",
          "name": "stdout",
          "text": [
            "\n",
            "loss 0.09244615780679803 0.038231485030230355\n",
            "accuracy 0.2894736842105263 0.35294117647058826 \n",
            "\n"
          ]
        },
        {
          "output_type": "stream",
          "name": "stderr",
          "text": [
            "\rEpochs:  20%|██        | 10/50 [00:01<00:05,  7.69it/s]"
          ]
        },
        {
          "output_type": "stream",
          "name": "stdout",
          "text": [
            "\n",
            "loss 0.0924299955368042 0.038222021916333365\n",
            "accuracy 0.2894736842105263 0.35294117647058826 \n",
            "\n"
          ]
        },
        {
          "output_type": "stream",
          "name": "stderr",
          "text": [
            "\rEpochs:  22%|██▏       | 11/50 [00:01<00:04,  7.80it/s]"
          ]
        },
        {
          "output_type": "stream",
          "name": "stdout",
          "text": [
            "\n",
            "loss 0.09232079041631598 0.0382126674932592\n",
            "accuracy 0.2894736842105263 0.35294117647058826 \n",
            "\n"
          ]
        },
        {
          "output_type": "stream",
          "name": "stderr",
          "text": [
            "\rEpochs:  24%|██▍       | 12/50 [00:01<00:04,  8.32it/s]"
          ]
        },
        {
          "output_type": "stream",
          "name": "stdout",
          "text": [
            "\n",
            "loss 0.0922954537366566 0.03820330255171832\n",
            "accuracy 0.2894736842105263 0.35294117647058826 \n",
            "\n"
          ]
        },
        {
          "output_type": "stream",
          "name": "stderr",
          "text": [
            "\rEpochs:  26%|██▌       | 13/50 [00:01<00:04,  8.72it/s]"
          ]
        },
        {
          "output_type": "stream",
          "name": "stdout",
          "text": [
            "\n",
            "loss 0.09223154971474096 0.038193920079399556\n",
            "accuracy 0.2894736842105263 0.35294117647058826 \n",
            "\n",
            "\n",
            "loss 0.09216142328161943 0.03818462876712575\n",
            "accuracy 0.2894736842105263 0.35294117647058826 \n",
            "\n"
          ]
        },
        {
          "output_type": "stream",
          "name": "stderr",
          "text": [
            "\rEpochs:  30%|███       | 15/50 [00:01<00:03,  9.41it/s]"
          ]
        },
        {
          "output_type": "stream",
          "name": "stdout",
          "text": [
            "\n",
            "loss 0.09206499865180567 0.038175477701074934\n",
            "accuracy 0.2894736842105263 0.35294117647058826 \n",
            "\n"
          ]
        },
        {
          "output_type": "stream",
          "name": "stderr",
          "text": [
            "\rEpochs:  32%|███▏      | 16/50 [00:01<00:03,  9.52it/s]"
          ]
        },
        {
          "output_type": "stream",
          "name": "stdout",
          "text": [
            "\n",
            "loss 0.09203284665157921 0.0381662459934459\n",
            "accuracy 0.2894736842105263 0.35294117647058826 \n",
            "\n"
          ]
        },
        {
          "output_type": "stream",
          "name": "stderr",
          "text": [
            "\rEpochs:  34%|███▍      | 17/50 [00:02<00:03,  9.55it/s]"
          ]
        },
        {
          "output_type": "stream",
          "name": "stdout",
          "text": [
            "\n",
            "loss 0.09196949789398595 0.03815705285352819\n",
            "accuracy 0.2894736842105263 0.35294117647058826 \n",
            "\n",
            "\n",
            "loss 0.09190067805741962 0.038147870232077205\n",
            "accuracy 0.2894736842105263 0.35294117647058826 \n",
            "\n",
            "\n",
            "loss"
          ]
        },
        {
          "output_type": "stream",
          "name": "stderr",
          "text": [
            "\rEpochs:  38%|███▊      | 19/50 [00:02<00:03,  9.62it/s]"
          ]
        },
        {
          "output_type": "stream",
          "name": "stdout",
          "text": [
            " 0.09179317637493736 0.0381393362494076\n",
            "accuracy 0.2894736842105263 0.35294117647058826 \n",
            "\n"
          ]
        },
        {
          "output_type": "stream",
          "name": "stderr",
          "text": [
            "\rEpochs:  40%|████      | 20/50 [00:02<00:03,  9.55it/s]"
          ]
        },
        {
          "output_type": "stream",
          "name": "stdout",
          "text": [
            "\n",
            "loss 0.09177552398882415 0.03813021673875697\n",
            "accuracy 0.2894736842105263 0.35294117647058826 \n",
            "\n"
          ]
        },
        {
          "output_type": "stream",
          "name": "stderr",
          "text": [
            "\rEpochs:  42%|████▏     | 21/50 [00:02<00:03,  9.07it/s]"
          ]
        },
        {
          "output_type": "stream",
          "name": "stdout",
          "text": [
            "\n",
            "loss 0.0917118019179294 0.03812117436352898\n",
            "accuracy 0.2894736842105263 0.35294117647058826 \n",
            "\n"
          ]
        },
        {
          "output_type": "stream",
          "name": "stderr",
          "text": [
            "\rEpochs:  44%|████▍     | 22/50 [00:02<00:03,  8.81it/s]"
          ]
        },
        {
          "output_type": "stream",
          "name": "stdout",
          "text": [
            "\n",
            "loss 0.09163203835487366 0.03811240546843585\n",
            "accuracy 0.2894736842105263 0.35294117647058826 \n",
            "\n"
          ]
        },
        {
          "output_type": "stream",
          "name": "stderr",
          "text": [
            "\rEpochs:  46%|████▌     | 23/50 [00:02<00:03,  8.55it/s]"
          ]
        },
        {
          "output_type": "stream",
          "name": "stdout",
          "text": [
            "\n",
            "loss 0.09158450678775185 0.03810348580865299\n",
            "accuracy 0.2894736842105263 0.35294117647058826 \n",
            "\n"
          ]
        },
        {
          "output_type": "stream",
          "name": "stderr",
          "text": [
            "\rEpochs:  48%|████▊     | 24/50 [00:02<00:03,  8.38it/s]"
          ]
        },
        {
          "output_type": "stream",
          "name": "stdout",
          "text": [
            "\n",
            "loss 0.09152256658202723 0.038094692370470834\n",
            "accuracy 0.2894736842105263 0.35294117647058826 \n",
            "\n"
          ]
        },
        {
          "output_type": "stream",
          "name": "stderr",
          "text": [
            "\rEpochs:  50%|█████     | 25/50 [00:03<00:03,  8.23it/s]"
          ]
        },
        {
          "output_type": "stream",
          "name": "stdout",
          "text": [
            "\n",
            "loss 0.09144299124416552 0.03808614085702335\n",
            "accuracy 0.2894736842105263 0.35294117647058826 \n",
            "\n"
          ]
        },
        {
          "output_type": "stream",
          "name": "stderr",
          "text": [
            "\rEpochs:  52%|█████▏    | 26/50 [00:03<00:02,  8.27it/s]"
          ]
        },
        {
          "output_type": "stream",
          "name": "stdout",
          "text": [
            "\n",
            "loss 0.0913933233210915 0.03807766297284294\n",
            "accuracy 0.2894736842105263 0.35294117647058826 \n",
            "\n"
          ]
        },
        {
          "output_type": "stream",
          "name": "stderr",
          "text": [
            "\rEpochs:  54%|█████▍    | 27/50 [00:03<00:02,  7.99it/s]"
          ]
        },
        {
          "output_type": "stream",
          "name": "stdout",
          "text": [
            "\n",
            "loss 0.09133201053268031 0.03806924118715174\n",
            "accuracy 0.2894736842105263 0.35294117647058826 \n",
            "\n"
          ]
        },
        {
          "output_type": "stream",
          "name": "stderr",
          "text": [
            "\rEpochs:  56%|█████▌    | 28/50 [00:03<00:02,  7.67it/s]"
          ]
        },
        {
          "output_type": "stream",
          "name": "stdout",
          "text": [
            "\n",
            "loss 0.09128166970453765 0.03806077732759364\n",
            "accuracy 0.2894736842105263 0.35294117647058826 \n",
            "\n"
          ]
        },
        {
          "output_type": "stream",
          "name": "stderr",
          "text": [
            "\rEpochs:  58%|█████▊    | 29/50 [00:03<00:02,  7.99it/s]"
          ]
        },
        {
          "output_type": "stream",
          "name": "stdout",
          "text": [
            "\n",
            "loss 0.09122867176407262 0.03805180156932158\n",
            "accuracy 0.23684210526315788 0.5588235294117647 \n",
            "\n"
          ]
        },
        {
          "output_type": "stream",
          "name": "stderr",
          "text": [
            "\rEpochs:  60%|██████    | 30/50 [00:03<00:02,  8.42it/s]"
          ]
        },
        {
          "output_type": "stream",
          "name": "stdout",
          "text": [
            "\n",
            "loss 0.09116103774622868 0.03804350600523107\n",
            "accuracy 0.7105263157894737 0.5588235294117647 \n",
            "\n"
          ]
        },
        {
          "output_type": "stream",
          "name": "stderr",
          "text": [
            "\rEpochs:  62%|██████▏   | 31/50 [00:04<00:03,  4.86it/s]"
          ]
        },
        {
          "output_type": "stream",
          "name": "stdout",
          "text": [
            "\n",
            "loss 0.0911030816404443 0.03803498254102819\n",
            "accuracy 0.7105263157894737 0.5588235294117647 \n",
            "\n"
          ]
        },
        {
          "output_type": "stream",
          "name": "stderr",
          "text": [
            "\rEpochs:  64%|██████▍   | 32/50 [00:04<00:04,  3.87it/s]"
          ]
        },
        {
          "output_type": "stream",
          "name": "stdout",
          "text": [
            "\n",
            "loss 0.09105539165045086 0.03802681319853839\n",
            "accuracy 0.7105263157894737 0.5588235294117647 \n",
            "\n"
          ]
        },
        {
          "output_type": "stream",
          "name": "stderr",
          "text": [
            "\rEpochs:  66%|██████▌   | 33/50 [00:04<00:05,  3.14it/s]"
          ]
        },
        {
          "output_type": "stream",
          "name": "stdout",
          "text": [
            "\n",
            "loss 0.09101378290276778 0.03801890331156114\n",
            "accuracy 0.7105263157894737 0.5588235294117647 \n",
            "\n"
          ]
        },
        {
          "output_type": "stream",
          "name": "stderr",
          "text": [
            "\rEpochs:  68%|██████▊   | 34/50 [00:05<00:05,  2.99it/s]"
          ]
        },
        {
          "output_type": "stream",
          "name": "stdout",
          "text": [
            "\n",
            "loss 0.09093166809332998 0.03801043945200303\n",
            "accuracy 0.7105263157894737 0.5588235294117647 \n",
            "\n"
          ]
        },
        {
          "output_type": "stream",
          "name": "stderr",
          "text": [
            "\rEpochs:  70%|███████   | 35/50 [00:05<00:05,  2.76it/s]"
          ]
        },
        {
          "output_type": "stream",
          "name": "stdout",
          "text": [
            "\n",
            "loss 0.09086897655537254 0.03800205974017873\n",
            "accuracy 0.7105263157894737 0.5588235294117647 \n",
            "\n"
          ]
        },
        {
          "output_type": "stream",
          "name": "stderr",
          "text": [
            "\rEpochs:  72%|███████▏  | 36/50 [00:06<00:05,  2.44it/s]"
          ]
        },
        {
          "output_type": "stream",
          "name": "stdout",
          "text": [
            "\n",
            "loss 0.09084360536776091 0.037994079730089975\n",
            "accuracy 0.7105263157894737 0.5588235294117647 \n",
            "\n"
          ]
        },
        {
          "output_type": "stream",
          "name": "stderr",
          "text": [
            "\rEpochs:  74%|███████▍  | 37/50 [00:06<00:05,  2.20it/s]"
          ]
        },
        {
          "output_type": "stream",
          "name": "stdout",
          "text": [
            "\n",
            "loss 0.09073757654742191 0.03798559132744284\n",
            "accuracy 0.7105263157894737 0.5588235294117647 \n",
            "\n"
          ]
        },
        {
          "output_type": "stream",
          "name": "stderr",
          "text": [
            "\rEpochs:  76%|███████▌  | 38/50 [00:07<00:05,  2.11it/s]"
          ]
        },
        {
          "output_type": "stream",
          "name": "stdout",
          "text": [
            "\n",
            "loss 0.09071278258373863 0.03797747457728667\n",
            "accuracy 0.7105263157894737 0.5588235294117647 \n",
            "\n"
          ]
        },
        {
          "output_type": "stream",
          "name": "stderr",
          "text": [
            "\rEpochs:  78%|███████▊  | 39/50 [00:07<00:04,  2.27it/s]"
          ]
        },
        {
          "output_type": "stream",
          "name": "stdout",
          "text": [
            "\n",
            "loss 0.09065995247740495 0.037969522616442514\n",
            "accuracy 0.7105263157894737 0.5588235294117647 \n",
            "\n"
          ]
        },
        {
          "output_type": "stream",
          "name": "stderr",
          "text": [
            "\rEpochs:  80%|████████  | 40/50 [00:08<00:05,  1.98it/s]"
          ]
        },
        {
          "output_type": "stream",
          "name": "stdout",
          "text": [
            "\n",
            "loss 0.09058014342659398 0.037961346261641556\n",
            "accuracy 0.7105263157894737 0.5588235294117647 \n",
            "\n"
          ]
        },
        {
          "output_type": "stream",
          "name": "stderr",
          "text": [
            "\rEpochs:  82%|████████▏ | 41/50 [00:08<00:05,  1.77it/s]"
          ]
        },
        {
          "output_type": "stream",
          "name": "stdout",
          "text": [
            "\n",
            "loss 0.09049432528646369 0.03795306822832893\n",
            "accuracy 0.7105263157894737 0.5588235294117647 \n",
            "\n"
          ]
        },
        {
          "output_type": "stream",
          "name": "stderr",
          "text": [
            "\rEpochs:  84%|████████▍ | 42/50 [00:09<00:04,  1.85it/s]"
          ]
        },
        {
          "output_type": "stream",
          "name": "stdout",
          "text": [
            "\n",
            "loss 0.09043229253668535 0.03794472708421595\n",
            "accuracy 0.7105263157894737 0.5588235294117647 \n",
            "\n"
          ]
        },
        {
          "output_type": "stream",
          "name": "stderr",
          "text": [
            "\rEpochs:  86%|████████▌ | 43/50 [00:09<00:03,  1.90it/s]"
          ]
        },
        {
          "output_type": "stream",
          "name": "stdout",
          "text": [
            "\n",
            "loss 0.09046619346267298 0.03793703107272878\n",
            "accuracy 0.7105263157894737 0.5588235294117647 \n",
            "\n"
          ]
        },
        {
          "output_type": "stream",
          "name": "stderr",
          "text": [
            "\rEpochs:  88%|████████▊ | 44/50 [00:10<00:03,  1.94it/s]"
          ]
        },
        {
          "output_type": "stream",
          "name": "stdout",
          "text": [
            "\n",
            "loss 0.09031390830090172 0.03792884770561667\n",
            "accuracy 0.7105263157894737 0.5588235294117647 \n",
            "\n"
          ]
        },
        {
          "output_type": "stream",
          "name": "stderr",
          "text": [
            "\rEpochs:  90%|█████████ | 45/50 [00:10<00:02,  1.96it/s]"
          ]
        },
        {
          "output_type": "stream",
          "name": "stdout",
          "text": [
            "\n",
            "loss 0.09040175143041108 0.03792137258193072\n",
            "accuracy 0.7105263157894737 0.5588235294117647 \n",
            "\n"
          ]
        },
        {
          "output_type": "stream",
          "name": "stderr",
          "text": [
            "\rEpochs:  92%|█████████▏| 46/50 [00:11<00:02,  1.82it/s]"
          ]
        },
        {
          "output_type": "stream",
          "name": "stdout",
          "text": [
            "\n",
            "loss 0.09027683734893799 0.03791360294117647\n",
            "accuracy 0.7105263157894737 0.5588235294117647 \n",
            "\n"
          ]
        },
        {
          "output_type": "stream",
          "name": "stderr",
          "text": [
            "\rEpochs:  94%|█████████▍| 47/50 [00:11<00:01,  2.00it/s]"
          ]
        },
        {
          "output_type": "stream",
          "name": "stdout",
          "text": [
            "\n",
            "loss 0.09022375627567894 0.037905808757333195\n",
            "accuracy 0.7105263157894737 0.5588235294117647 \n",
            "\n"
          ]
        },
        {
          "output_type": "stream",
          "name": "stderr",
          "text": [
            "\rEpochs:  96%|█████████▌| 48/50 [00:12<00:00,  2.23it/s]"
          ]
        },
        {
          "output_type": "stream",
          "name": "stdout",
          "text": [
            "\n",
            "loss 0.09012906802328009 0.037897961981156296\n",
            "accuracy 0.7105263157894737 0.5588235294117647 \n",
            "\n"
          ]
        },
        {
          "output_type": "stream",
          "name": "stderr",
          "text": [
            "\rEpochs:  98%|█████████▊| 49/50 [00:12<00:00,  2.39it/s]"
          ]
        },
        {
          "output_type": "stream",
          "name": "stdout",
          "text": [
            "\n",
            "loss 0.09016422221535131 0.03789042024051442\n",
            "accuracy 0.7105263157894737 0.5588235294117647 \n",
            "\n"
          ]
        },
        {
          "output_type": "stream",
          "name": "stderr",
          "text": [
            "Epochs: 100%|██████████| 50/50 [00:12<00:00,  3.86it/s]"
          ]
        },
        {
          "output_type": "stream",
          "name": "stdout",
          "text": [
            "\n",
            "loss 0.09002240080582469 0.03788272072287167\n",
            "accuracy 0.7105263157894737 0.5588235294117647 \n",
            "\n",
            "highest test accuracy: 0.5588235294117647\n",
            "corresponding epoch: 29\n"
          ]
        },
        {
          "output_type": "stream",
          "name": "stderr",
          "text": [
            "\n"
          ]
        }
      ]
    },
    {
      "cell_type": "code",
      "source": [
        "# Plot accuraccy\n",
        "plt.plot(train_accuracy_list, label=\"train\")\n",
        "plt.plot(test_accuracy_list, label=\"test\")\n",
        "plt.xlabel(\"epochs\")\n",
        "plt.ylabel(\"accuracy\")\n",
        "plt.legend()\n",
        "plt.show"
      ],
      "metadata": {
        "colab": {
          "base_uri": "https://localhost:8080/",
          "height": 466
        },
        "id": "5-GDjnbvsv4u",
        "outputId": "06c26919-2bc5-448e-9f13-bfda7f35787f"
      },
      "execution_count": null,
      "outputs": [
        {
          "output_type": "execute_result",
          "data": {
            "text/plain": [
              "<function matplotlib.pyplot.show(close=None, block=None)>"
            ]
          },
          "metadata": {},
          "execution_count": 40
        },
        {
          "output_type": "display_data",
          "data": {
            "text/plain": [
              "<Figure size 640x480 with 1 Axes>"
            ],
            "image/png": "[encoded data removed]"
          },
          "metadata": {}
        }
      ]
    }
  ],
  "metadata": {
    "colab": {
      "provenance": []
    },
    "kernelspec": {
      "display_name": "Python 3",
      "name": "python3"
    },
    "language_info": {
      "name": "python"
    }
  },
  "nbformat": 4,
  "nbformat_minor": 0
}